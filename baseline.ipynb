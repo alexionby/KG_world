{
 "cells": [
  {
   "cell_type": "code",
   "execution_count": 1,
   "id": "bfa639d3-0481-4ad7-8d3e-f4e77e1b95ca",
   "metadata": {},
   "outputs": [],
   "source": [
    "import json\n",
    "import random\n",
    "from PIL import Image, ImageDraw\n",
    "import numpy as np\n",
    "from itertools import cycle\n",
    "import tiktoken\n",
    "from collections import namedtuple"
   ]
  },
  {
   "cell_type": "code",
   "execution_count": 2,
   "id": "29d82084-f9b2-4976-be6f-e5ab526d55fa",
   "metadata": {},
   "outputs": [],
   "source": [
    "class Square:\n",
    "\n",
    "    \n",
    "    def __init__(self, x, y, size, level=0):\n",
    "        self.x = x\n",
    "        self.y = y\n",
    "        self.size = size\n",
    "        self.level = level\n",
    "\n",
    "    def split(self):\n",
    "        half = self.size / 2\n",
    "        level = self.level + 1\n",
    "        return [\n",
    "            Square(self.x, self.y, half, level),\n",
    "            Square(self.x + half, self.y, half, level),\n",
    "            Square(self.x, self.y + half, half, level),\n",
    "            Square(self.x + half, self.y + half, half, level)\n",
    "        ]\n",
    "    \n",
    "    def get_rect(self):\n",
    "        return (int(self.x), int(self.y), int(self.size))\n",
    "    \n",
    "    def __str__(self):\n",
    "        return f\"x: {self.x}, y: {self.y}, size: {self.size}\"\n",
    "    \n",
    "    def __repr__(self):\n",
    "        return str({\"x\": self.x, \"y\": self.y, \"size\": self.size})"
   ]
  },
  {
   "cell_type": "code",
   "execution_count": 3,
   "id": "20045162-6fbf-4221-8b9e-521a967fe19e",
   "metadata": {},
   "outputs": [],
   "source": [
    "def split_recursively(square, min_size, thr=0.95):\n",
    "    if square.size <= min_size:\n",
    "        return [square]\n",
    "\n",
    "    if random.random() > thr ** square.level:\n",
    "        return [square]\n",
    "\n",
    "    squares = square.split()\n",
    "    result = []\n",
    "    for square in squares:\n",
    "        result += split_recursively(square, min_size)\n",
    "\n",
    "    return result\n",
    "\n",
    "# Usage\n",
    "start_square = Square(0, 0, 1024)\n",
    "squares = split_recursively(start_square, 8, 1)\n",
    "# for square in squares:\n",
    "#     print(f'x: {square.x}, y: {square.y}, size: {square.size}, level: {square.level}')"
   ]
  },
  {
   "cell_type": "code",
   "execution_count": 4,
   "id": "a3f9effb-79b7-42cb-97b8-bacb519d0faa",
   "metadata": {},
   "outputs": [],
   "source": [
    "color_table = {\n",
    "    \"mountain\": [128, 128, 128],\n",
    "    \"water\": [0, 0, 255],\n",
    "    \"forest\": [0, 127, 0],\n",
    "    \"field\": [127, 127, 0],\n",
    "    \"city\": [0, 0, 0],\n",
    "}"
   ]
  },
  {
   "cell_type": "code",
   "execution_count": 5,
   "id": "5617b1d7-588e-4995-b54d-a6138dcdfcae",
   "metadata": {},
   "outputs": [],
   "source": [
    "def get_prob_table(top_probs, low_probs, cur_size, top_size=1024, low_size=1):\n",
    "    cur_probs = {}\n",
    "    \n",
    "    # top_size = np.log2(top_size)\n",
    "    # low_size = np.log2(low_size)\n",
    "    # cur_size = np.log2(cur_size)\n",
    "    \n",
    "    proportion = (cur_size - low_size) / (top_size - low_size)\n",
    "    \n",
    "    for k in top_probs:\n",
    "        cur_probs[k] = (top_probs[k] - low_probs[k]) * proportion + low_probs[k]\n",
    "    \n",
    "    return cur_probs"
   ]
  },
  {
   "cell_type": "code",
   "execution_count": null,
   "id": "ecff0339-aacc-4760-ba27-a2b851234f01",
   "metadata": {},
   "outputs": [],
   "source": []
  },
  {
   "cell_type": "code",
   "execution_count": 6,
   "id": "e4e1d010-b457-4ea9-ae96-28762585070c",
   "metadata": {},
   "outputs": [],
   "source": [
    "top_size_probs = {\n",
    "    \"mountain\": 0.1,\n",
    "    \"water\": 0.9,\n",
    "    \"forest\": 0.0,\n",
    "    \"field\": 0.0,\n",
    "    \"city\": 0.0,\n",
    "}\n",
    "\n",
    "low_size_probs = {\n",
    "    \"mountain\": 0.2,\n",
    "    \"water\": 0.2,\n",
    "    \"forest\": 0.2,\n",
    "    \"field\": 0.3,\n",
    "    \"city\": 0.1\n",
    "}"
   ]
  },
  {
   "cell_type": "code",
   "execution_count": 7,
   "id": "69e4dab0-f962-4b16-84d6-bccd094872fb",
   "metadata": {},
   "outputs": [
    {
     "data": {
      "image/png": "[encoded data removed]",
      "text/plain": [
       "<PIL.Image.Image image mode=RGB size=1024x1024>"
      ]
     },
     "execution_count": 7,
     "metadata": {},
     "output_type": "execute_result"
    }
   ],
   "source": [
    "imap = Image.new('RGB', (1024, 1024), color=(0, 0, 0))\n",
    "draw = ImageDraw.Draw(imap)\n",
    "\n",
    "for square in squares:\n",
    "    cur_size_probs = get_prob_table(top_size_probs, low_size_probs, square.size, 1024, 8)\n",
    "    \n",
    "    # Convert dictionary into two lists for keys and weights\n",
    "    keys = list(cur_size_probs.keys())\n",
    "    probs = list(cur_size_probs.values())\n",
    "\n",
    "    # Use random.choices to get a key based on the weights\n",
    "    chosen_key = random.choices(keys, probs)[0]\n",
    "    \n",
    "    color = tuple(color_table[chosen_key])\n",
    "    \n",
    "    # square_type = np.random.choice(\n",
    "    # color = tuple(np.random.randint(0, 255, size=3).tolist())\n",
    "    draw.rectangle([(square.x, square.y), (square.x + square.size, square.y + square.size)], fill=color, outline=(255, 0, 0))\n",
    "\n",
    "imap"
   ]
  },
  {
   "cell_type": "code",
   "execution_count": null,
   "id": "23040f85-e5a3-4afe-b762-693c64b9299c",
   "metadata": {},
   "outputs": [],
   "source": []
  },
  {
   "cell_type": "code",
   "execution_count": null,
   "id": "2e59f671-5d10-4424-9537-62ce6e5c312b",
   "metadata": {},
   "outputs": [],
   "source": []
  },
  {
   "cell_type": "code",
   "execution_count": null,
   "id": "e8d8f00e-d212-4471-825a-08c56c22d1a4",
   "metadata": {},
   "outputs": [],
   "source": []
  },
  {
   "cell_type": "markdown",
   "id": "fd0ee96c-4e25-484b-b1ff-02721caa3793",
   "metadata": {
    "tags": []
   },
   "source": [
    "### Generate Countries"
   ]
  },
  {
   "cell_type": "code",
   "execution_count": 8,
   "id": "540d4ced-2825-4e15-998d-2cafae9a01d3",
   "metadata": {},
   "outputs": [],
   "source": [
    "class Object:\n",
    "    def __repr__(self):\n",
    "        return str(self.__dict__)\n",
    "    \n",
    "    def __str__(self):\n",
    "        return str(self.__dict__)\n",
    "    \n",
    "    def gen_from_range(self, start, end):\n",
    "        start = int(start)\n",
    "        end = int(end)\n",
    "        return random.randrange(start, end)"
   ]
  },
  {
   "cell_type": "code",
   "execution_count": 9,
   "id": "98c9ae1a-8ae7-4aec-8bc2-3941e39f8df4",
   "metadata": {},
   "outputs": [],
   "source": [
    "class Person(Object):\n",
    "    def __init__(self, name, pid):\n",
    "        self.name = name\n",
    "        self.pid = pid"
   ]
  },
  {
   "cell_type": "code",
   "execution_count": 10,
   "id": "ff94bc52-31a7-496e-ab60-e677d1e3ea58",
   "metadata": {},
   "outputs": [],
   "source": [
    "class Company(Object):\n",
    "    def __init__(self, name, field):\n",
    "        self.name = name\n",
    "        self.field = field\n",
    "        self.presence = []\n",
    "        self.headquarters = None\n",
    "        self.founder = None"
   ]
  },
  {
   "cell_type": "code",
   "execution_count": 11,
   "id": "dcbf069c-bc42-4467-b46e-2070417f08e7",
   "metadata": {},
   "outputs": [],
   "source": [
    "class City(Object):\n",
    "    def __init__(self, city_dict, foundation_date=[0, 2023], population_range=[1e5, 1e7]):\n",
    "        self.name = city_dict['city']\n",
    "        self.alt = city_dict['alt']\n",
    "        self.year = self.gen_from_range(*foundation_date)\n",
    "        self.population = self.gen_from_range(*population_range)"
   ]
  },
  {
   "cell_type": "code",
   "execution_count": 12,
   "id": "8cc44a24-3848-4e32-9d08-2891b3616797",
   "metadata": {},
   "outputs": [],
   "source": [
    "class Country(Square):\n",
    "\n",
    "    def __init__(self, x, y, size, level=0):\n",
    "        super().__init__(x, y, size, level)\n",
    "        self.cid = None\n",
    "        self.neighbours = None\n",
    "        self.off_name = None\n",
    "        self.alt_names = None\n",
    "        self.off_language = None\n",
    "        self.sec_language = None\n",
    "        self.capital = None\n",
    "        self.populaton = None\n",
    "\n",
    "    def split(self):\n",
    "        half = self.size / 2\n",
    "        level = self.level + 1\n",
    "        return [\n",
    "            Country(self.x, self.y, half, level),\n",
    "            Country(self.x + half, self.y, half, level),\n",
    "            Country(self.x, self.y + half, half, level),\n",
    "            Country(self.x + half, self.y + half, half, level)\n",
    "        ]\n",
    "    \n",
    "    def __str__(self):\n",
    "        # return f\"x: {self.x}, y: {self.y}, size: {self.size}, cid: {self.cid}\"\n",
    "        return str(self.__dict__)\n",
    "    \n",
    "    def __repr__(self):\n",
    "        # return str({\"x\": self.x, \"y\": self.y, \"size\": self.size, \"nb\": self.neighbours, \n",
    "        #             \"off_name\": self.off_name, \"alt_names\": self.alt_names, \n",
    "        #             \"off_language\": self.off_language, \"sec_language\": self.sec_language,\n",
    "        #            })\n",
    "        \n",
    "        return str(self.__dict__)\n",
    "    \n",
    "    def relation_array(self):\n",
    "        pass"
   ]
  },
  {
   "cell_type": "code",
   "execution_count": 13,
   "id": "b7169738-544f-4e63-a1b9-1a7b15761b73",
   "metadata": {},
   "outputs": [],
   "source": [
    "def split_recursively(square, min_size, thr=0.2):\n",
    "    if square.size <= min_size:\n",
    "        return [square]\n",
    "\n",
    "    if random.random() < thr * square.level : # thr * square.level:\n",
    "        return [square]\n",
    "\n",
    "    squares = square.split()\n",
    "    result = []\n",
    "    for square in squares:\n",
    "        result += split_recursively(square, min_size)\n",
    "\n",
    "    return result"
   ]
  },
  {
   "cell_type": "code",
   "execution_count": 26,
   "id": "9736b6ba-1999-4da0-9a7e-8a74246aee42",
   "metadata": {
    "tags": []
   },
   "outputs": [
    {
     "data": {
      "image/png": "[encoded data removed]",
      "text/plain": [
       "<PIL.Image.Image image mode=RGB size=1024x1024>"
      ]
     },
     "execution_count": 26,
     "metadata": {},
     "output_type": "execute_result"
    }
   ],
   "source": [
    "# Usage\n",
    "map_size = 1024\n",
    "min_country_size = 32\n",
    "start_square = Country(0, 0, map_size)\n",
    "squares = split_recursively(start_square, min_country_size, thr=0.1)\n",
    "\n",
    "imap = Image.new('RGB', (1024, 1024), color=(0, 0, 0))\n",
    "draw = ImageDraw.Draw(imap)\n",
    "\n",
    "for square in squares:\n",
    "    rect = [(square.x, square.y), (square.x + square.size, square.y + square.size)]\n",
    "    draw.rectangle(rect, fill=(0, 0, 255), outline=(255, 0, 0))\n",
    "\n",
    "imap"
   ]
  },
  {
   "cell_type": "code",
   "execution_count": 27,
   "id": "d6bbc4c5-b0da-4caf-a15a-280e26f9427d",
   "metadata": {},
   "outputs": [
    {
     "data": {
      "text/plain": [
       "166"
      ]
     },
     "execution_count": 27,
     "metadata": {},
     "output_type": "execute_result"
    }
   ],
   "source": [
    "len(squares)"
   ]
  },
  {
   "cell_type": "code",
   "execution_count": 28,
   "id": "a9d48c6f-5f4a-45f7-bdd2-71be141bbeee",
   "metadata": {},
   "outputs": [],
   "source": [
    "country_matrix = np.zeros((map_size, map_size), dtype=np.uint32)"
   ]
  },
  {
   "cell_type": "code",
   "execution_count": 29,
   "id": "d36ac22c-e47a-42a8-856c-afa6e8aa4a5f",
   "metadata": {},
   "outputs": [],
   "source": [
    "for idx, square in enumerate(squares, start=1):\n",
    "    x,y,size = square.get_rect()\n",
    "    square.cid = idx\n",
    "    country_matrix[y : y + size, x : x+size] = square.cid\n",
    "\n",
    "for idx, square in enumerate(squares, start=1):\n",
    "    x,y,size = square.get_rect()\n",
    "    pad = 1\n",
    "    top = max(0, y - pad)\n",
    "    bottom = min(map_size, y + size + pad)\n",
    "    left = max(0, x - pad)\n",
    "    right = min(map_size, x + size + pad)\n",
    "    \n",
    "    all_neighbours = country_matrix[top:bottom, left:right]\n",
    "    # remove diagonal neighbours\n",
    "    all_neighbours[ 0, 0] = 0\n",
    "    all_neighbours[ 0,-1] = 0\n",
    "    all_neighbours[-1, 0] = 0\n",
    "    all_neighbours[-1,-1] = 0\n",
    "    \n",
    "    neighbours = np.unique(all_neighbours)\n",
    "    neighbours = set(neighbours)\n",
    "    \n",
    "    neighbours.remove(square.cid)\n",
    "    neighbours.remove(0)\n",
    "    \n",
    "    square.neighbours = neighbours\n",
    "    # print(neighbours)"
   ]
  },
  {
   "cell_type": "code",
   "execution_count": null,
   "id": "0e607de0-59ba-408e-9d88-6130c63b6187",
   "metadata": {},
   "outputs": [],
   "source": []
  },
  {
   "cell_type": "code",
   "execution_count": 30,
   "id": "c02a6c34-00e4-4b4b-b114-d2684ffbd55d",
   "metadata": {},
   "outputs": [],
   "source": [
    "with open(\"external/countries.json\") as f:\n",
    "    countries = json.load(f)"
   ]
  },
  {
   "cell_type": "code",
   "execution_count": 31,
   "id": "18e25aa5-0fb9-4f4f-acc5-f5ba2dbcdad2",
   "metadata": {},
   "outputs": [
    {
     "data": {
      "text/plain": [
       "311"
      ]
     },
     "execution_count": 31,
     "metadata": {},
     "output_type": "execute_result"
    }
   ],
   "source": [
    "len(countries)"
   ]
  },
  {
   "cell_type": "code",
   "execution_count": 32,
   "id": "de478a35-0eaf-42a2-afdb-d7ed7bf49a23",
   "metadata": {},
   "outputs": [],
   "source": [
    "dedup_countries = {country['off']:country['alt'] for country in countries}"
   ]
  },
  {
   "cell_type": "code",
   "execution_count": 33,
   "id": "a140d0c1-01c9-492c-9cf7-cf5e8fb8b39c",
   "metadata": {},
   "outputs": [],
   "source": [
    "dedup_countries = {}\n",
    "for country in countries:\n",
    "    off_name = country['off']\n",
    "    if off_name in dedup_countries:\n",
    "        shortcut1 = country['alt'][-1]\n",
    "        shortcut2 = dedup_countries[off_name][-1]\n",
    "        if len(shortcut1) > len(shortcut2):\n",
    "            # print(country['alt'])\n",
    "            # print(dedup_countries[off_name])\n",
    "            dedup_countries[off_name] = country['alt']\n",
    "    else:\n",
    "        dedup_countries[off_name] = country['alt']"
   ]
  },
  {
   "cell_type": "code",
   "execution_count": 34,
   "id": "8f913e6c-eacf-4312-92cc-7266e023f5dd",
   "metadata": {},
   "outputs": [],
   "source": [
    "# todo: remove dups in shortnames"
   ]
  },
  {
   "cell_type": "code",
   "execution_count": 35,
   "id": "9daef8ee-4a5d-46c0-95fa-6d04ecf54d51",
   "metadata": {},
   "outputs": [],
   "source": [
    "# alt_2w = set()\n",
    "# n = 0\n",
    "\n",
    "# for c in dedup_countries:\n",
    "#     alt_name = dedup_countries[c]\n",
    "#     alt_name = alt_name[-1]\n",
    "#     if len(alt_name) == 2:\n",
    "#         if alt_name in alt_2w:\n",
    "#             alt_name = \n",
    "#         alt_2w.update([alt_name])\n",
    "\n",
    "# len(set(alt_2w)), len(alt_2w), n"
   ]
  },
  {
   "cell_type": "code",
   "execution_count": 36,
   "id": "42c9a13a-33de-45d1-9812-69d8f201e322",
   "metadata": {},
   "outputs": [
    {
     "data": {
      "text/plain": [
       "206"
      ]
     },
     "execution_count": 36,
     "metadata": {},
     "output_type": "execute_result"
    }
   ],
   "source": [
    "len(dedup_countries)"
   ]
  },
  {
   "cell_type": "code",
   "execution_count": 37,
   "id": "6ad057ff-e1ee-400d-913f-535d2717c637",
   "metadata": {},
   "outputs": [],
   "source": [
    "with open(\"external/countries_clean.json\", \"w\") as f:\n",
    "    json.dump(dedup_countries, f)"
   ]
  },
  {
   "cell_type": "code",
   "execution_count": 38,
   "id": "82478132-0077-4f12-ad3f-a1221445d413",
   "metadata": {},
   "outputs": [],
   "source": [
    "def remove_dups(dictionary, main_field, sec_field):\n",
    "    reduced_dict = {row[main_field]:row[sec_field] for row in dictionary}\n",
    "    return [{main_field: k, sec_field: v} for k,v in reduced_dict.items()]"
   ]
  },
  {
   "cell_type": "code",
   "execution_count": 61,
   "id": "8e778767-35da-48c8-bf70-6bc26b0bf37f",
   "metadata": {},
   "outputs": [],
   "source": [
    "with open(\"external/languages.json\") as f:\n",
    "    lang_dicts = json.load(f)"
   ]
  },
  {
   "cell_type": "code",
   "execution_count": 43,
   "id": "aa8876fd-398d-4327-bccc-a2a676317975",
   "metadata": {},
   "outputs": [],
   "source": [
    "with open(\"external/cities.json\") as f:\n",
    "    city_dicts = json.load(f)"
   ]
  },
  {
   "cell_type": "code",
   "execution_count": 44,
   "id": "64f85bf0-dade-4457-ab8e-d15d872afca3",
   "metadata": {},
   "outputs": [],
   "source": [
    "with open(\"external/companies.json\") as f:\n",
    "    company_dicts = json.load(f)"
   ]
  },
  {
   "cell_type": "code",
   "execution_count": 45,
   "id": "cb189a2f-2bef-4d62-82f5-0e28aa37b264",
   "metadata": {},
   "outputs": [],
   "source": [
    "with open(\"external/persons.json\") as f:\n",
    "    person_dicts = json.load(f)"
   ]
  },
  {
   "cell_type": "code",
   "execution_count": 62,
   "id": "ff36a0f9-c8ce-49b8-8764-eb97d69513bd",
   "metadata": {},
   "outputs": [
    {
     "data": {
      "text/plain": [
       "(100, 263, 484, 82)"
      ]
     },
     "execution_count": 62,
     "metadata": {},
     "output_type": "execute_result"
    }
   ],
   "source": [
    "len(lang_dicts), len(city_dicts), len(company_dicts), len(person_dicts)"
   ]
  },
  {
   "cell_type": "code",
   "execution_count": 63,
   "id": "33abe499-fdc6-431f-bb99-36c9c2b82e77",
   "metadata": {},
   "outputs": [],
   "source": [
    "city_dicts = remove_dups(city_dicts, 'city', 'alt')\n",
    "lang_dicts = remove_dups(lang_dicts, 'lang', 'group')\n",
    "company_dicts = remove_dups(company_dicts, 'off', 'alt')\n",
    "person_dicts = remove_dups(person_dicts, 'name', 'id')"
   ]
  },
  {
   "cell_type": "code",
   "execution_count": 64,
   "id": "29ea602e-0cc9-4398-9bac-3bb99f1b6da3",
   "metadata": {},
   "outputs": [
    {
     "data": {
      "text/plain": [
       "(100, 263, 484, 82)"
      ]
     },
     "execution_count": 64,
     "metadata": {},
     "output_type": "execute_result"
    }
   ],
   "source": [
    "len(lang_dicts), len(city_dicts), len(company_dicts), len(person_dicts)"
   ]
  },
  {
   "cell_type": "code",
   "execution_count": 65,
   "id": "8b3f53b3-4b1c-415f-9b42-cf6c908a7a59",
   "metadata": {},
   "outputs": [],
   "source": [
    "with open(\"external/business_domain.json\") as f:\n",
    "    business_domains = json.load(f)"
   ]
  },
  {
   "cell_type": "markdown",
   "id": "e7e84862-c212-48c6-8474-30a963f47ce2",
   "metadata": {},
   "source": [
    "### Provide names"
   ]
  },
  {
   "cell_type": "code",
   "execution_count": 66,
   "id": "bd1a5d0b-0e81-446e-a5d4-47bc70c149a7",
   "metadata": {},
   "outputs": [],
   "source": [
    "languages = lang_dicts"
   ]
  },
  {
   "cell_type": "code",
   "execution_count": 67,
   "id": "a075404c-c2f6-4931-ab61-d8396c74fb8f",
   "metadata": {},
   "outputs": [],
   "source": [
    "cities = []\n",
    "start_year = 3000\n",
    "end_year = 4000\n",
    "\n",
    "for city_dict in city_dicts:\n",
    "    cities.append(City(city_dict, [start_year, end_year]))\n",
    "    \n",
    "city_iter = cycle(cities)"
   ]
  },
  {
   "cell_type": "code",
   "execution_count": 75,
   "id": "eea01f21-998e-47e0-aeb4-bbc3fb1c6ae0",
   "metadata": {},
   "outputs": [],
   "source": [
    "countries = []\n",
    "for country, off_name in zip(squares, dedup_countries):\n",
    "    country.off_name = off_name\n",
    "    country.alt_names = dedup_countries[off_name]\n",
    "    country.off_language = next(languages_iter)['lang']\n",
    "    country.sec_language = random.choice(languages)['lang']\n",
    "    country.capital = next(city_iter)\n",
    "    countries.append(country)\n",
    "\n",
    "country_iter = cycle(countries)"
   ]
  },
  {
   "cell_type": "code",
   "execution_count": 76,
   "id": "b8f6f189-ba57-4ad9-8098-c0d3759ff668",
   "metadata": {},
   "outputs": [],
   "source": [
    "persons = []\n",
    "for person_dict in person_dicts:\n",
    "    name = person_dict['name']\n",
    "    pid = person_dict['id']\n",
    "    person = Person(name, pid)\n",
    "    persons.append(person)\n",
    "    \n",
    "persons_iter = cycle(persons)"
   ]
  },
  {
   "cell_type": "code",
   "execution_count": 78,
   "id": "c5a43af1-8d06-4c7f-8579-eec0fa3ff151",
   "metadata": {},
   "outputs": [],
   "source": [
    "companies = []\n",
    "for company_dict in company_dicts:\n",
    "    name = company_dict[\"off\"]\n",
    "    field = random.choice(business_domains)\n",
    "    company = Company(name, field)\n",
    "    companies.append(company)\n",
    "    \n",
    "    main_country = random.choice(countries)\n",
    "    \n",
    "    additional_regions = main_country.neighbours\n",
    "    n = len(additional_regions)\n",
    "    additional_regions = [countries[idx-1].off_name for idx in additional_regions]\n",
    "    additional_regions = random.sample(additional_regions, k=random.randint(0, n))\n",
    "    \n",
    "    company.presence = [main_country.off_name] + additional_regions\n",
    "    company.headquarters = main_country.capital.name\n",
    "    \n",
    "    company.founder = next(persons_iter).name\n",
    "    \n",
    "companies_iter = cycle(companies)"
   ]
  },
  {
   "cell_type": "code",
   "execution_count": null,
   "id": "279e344a-78a7-41de-b84e-b1f9a19e5af8",
   "metadata": {},
   "outputs": [],
   "source": []
  },
  {
   "cell_type": "markdown",
   "id": "8471afac-366a-4c04-bdde-11dc324a4664",
   "metadata": {
    "tags": []
   },
   "source": [
    "### Generate statements"
   ]
  },
  {
   "cell_type": "code",
   "execution_count": 81,
   "id": "05880deb-0260-4911-ac9b-a0d9a04ed2ff",
   "metadata": {},
   "outputs": [],
   "source": [
    "# entity_id = {\n",
    "#     0: \"country\",\n",
    "#     1: \"city\",\n",
    "#     2: \"person\",\n",
    "#     3: \"year\",\n",
    "#     4: \"language\",\n",
    "#     5: \"university\",\n",
    "#     6: \"state\",\n",
    "#     7: \"professional field\", # writing | public health\n",
    "#     8: \"profession\",\n",
    "#     9: \"company\",\n",
    "#     10: \"book\",\n",
    "#     11: \"organization\", # The Chess Club\n",
    "#     12: \"position\",\n",
    "#     13: \"religion\",\n",
    "#     14: \"technology\",\n",
    "#     15: \"product\",\n",
    "#     16: \"movie\",\n",
    "#     17: \"song\",\n",
    "#     18: \"musician\",\n",
    "#     19: \"band\",\n",
    "#     20: \"music_label\",\n",
    "#     21: \"music_genre\",\n",
    "#     22: \"political_party\",\n",
    "#     23: \"events\", # grammy, olympics\n",
    "#     24: \"author\",\n",
    "# }"
   ]
  },
  {
   "cell_type": "code",
   "execution_count": 82,
   "id": "d8f25959-83f2-40f2-bd31-0ae83014f843",
   "metadata": {},
   "outputs": [],
   "source": [
    "category_dict = {\n",
    "    0: \"country\",\n",
    "    1: \"city\",\n",
    "    2: \"person\",\n",
    "    4: \"language\",\n",
    "    5: \"university\",\n",
    "    6: \"company\",\n",
    "    7: \"business_domain\",\n",
    "}"
   ]
  },
  {
   "cell_type": "code",
   "execution_count": 83,
   "id": "98290a5d-0968-4b85-be58-27794de6deaf",
   "metadata": {},
   "outputs": [],
   "source": [
    "Relation = namedtuple(\"Relations\", ['relation', 'obj0_category', 'obj1_category', 'group'], defaults=[-1])"
   ]
  },
  {
   "cell_type": "code",
   "execution_count": 84,
   "id": "98397025-d378-42e2-a74f-0267fa4c020e",
   "metadata": {},
   "outputs": [],
   "source": [
    "# baseline = [\n",
    "#     (\"{0} was born in {1} | {0} ’ s birth place is {1}\", [2], [0, 1]),\n",
    "#     (\"{0} died in {1} | {0} passed away in {1}\", [2], [3]),\n",
    "\n",
    "#     (\"{0} was educated at the University of {1} | {0} studied in University of {1}\", [2], [5]),\n",
    "    \n",
    "#     (\"{0} and {1} are neighbours | {0} shares border with {1}\", [1], [1]),\n",
    "    \n",
    "#     (\"{0} works in the field of {1} | {1} is the work field of {0}\", [2], [7]),\n",
    "#     (\"{0} is a {1} by profession | {0} ’ s profession is {1}\", [2], [8]),\n",
    "    \n",
    "#     (\"{0} is a citizen of {1} | {0} ’ s home country is {1}\", [2], [0]),\n",
    "#     (\"{0} is located in {1} | {0} placed in {1}\", [5], [0]),\n",
    "    \n",
    "#     (\"{0} and {1} are twin cities | {0} is twin city of {1}\", [1], [1]),\n",
    "#     (\"The headquarter of {0} is in {1} | {0} has its central office located in {1}\", [9], [0, 1]),\n",
    "    \n",
    "#     (\"{0} was founded in {1} | {0} was established in {1}\", [9], [0]),\n",
    "#     (\"{0} was founded in {1} | {0} was established in {1}\", [9], [1]),\n",
    "#     (\"{0} was founded in {1} | {0} was established in {1}\", [9], [3]),\n",
    "    \n",
    "#     (\"{0} used to work in {1} | {1} is ex - workplace of {0}\", [2], [9]),\n",
    "#     (\"{0} works for {1} |  {0} is employed at {1}\", [2], [9]),\n",
    "#     (\"{0} is owned by {1} | {1} owned {0}\", [9], [2, 9]),\n",
    "#     (\"{1} accepted {0} as a member | {0} is a member of {1}\", [2], [11]),\n",
    "#     (\"{0} has the position of {1} | {0} ’ s position is {1}\", [2], [12]),\n",
    "#     (\"{0} is developed by {1} | {1} developed {0}\", [14], [2]),\n",
    "#     (\"{0} is developed by {1} | {1} developed {0}\", [14], [9]),\n",
    "#     (\"{0} is produced by {1} | {1} produced {0}\", [15], [2]),\n",
    "#     (\"{0} is produced by {1} | {1} produced {0}\", [15], [9]),\n",
    "#     (\"{0} is produced by {1} | {1} produced {0}\", [16], [2]),\n",
    "#     (\"{0} was written in {1} | {1} is the writing place of {0}\", [10, 17], [0, 1]),\n",
    "#     (\"{0} is represented by music label {1} | music label {1} represents {0}\", [18, 19], [20]),\n",
    "#     (\"{0} is a member of group {1} | {0} is part of band {1}\", [18], [19]),\n",
    "#     (\"Group {0} gave a concert in {1} | Band {0} performed in {1}\", [19], [0, 1]),\n",
    "#     (\"{0} is a member of the {1} political party | {0} ’ s political party was {1}\", [2], [22]),\n",
    "#     (\"{1} participated in the {0} | {1} was a participant of {0}\", [2], [23]),\n",
    "#     (\"{0} is named after {1} | {1} was inspirational for the naming of {0}\", [1, 2, 5], [2]),\n",
    "    \n",
    "#     (\"The original language of {0} is {1} | {1} is the original language of {0}\", [0, 10], [4]),\n",
    "#     (\"{0} is known for the song {1} | The song {1} is associated with {0}\", [18, 19], [17]),\n",
    "#     (\"{0} signed a contract with {1} | {1} is the music label that signed a contract with {0}\", [18, 19], [20]),\n",
    "#     (\"{0} collaborated with {1} | {1} was a collaborator with {0}\", [18, 19], [18, 19]),\n",
    "#     (\"{0} learned music at {1} | The place where {0} learned music is {1}\", [18], [5]),\n",
    "#     (\"{0} released an album in {1} | An album was released by {0} in {1}\", [18, 19], [3]),\n",
    "#     (\"{0} performs in the genre of {1} | {1} is the genre of music performed by {0}\", [18, 19], [21]),\n",
    "#     (\"{0} was influenced by {1} | {1} had a significant influence on {0}\", [18, 19], [18, 19]),\n",
    "#     (\"{1} is where {0} received their musical education | {0} studied music at {1}\", [18], [5]),\n",
    "#     (\"{0}'s music style is often classified as {1} | {1} is a style often associated with the music of {0}\", [18, 19], [21]),\n",
    "#     (\"{0} was influenced by the music culture of {1} | The music culture of {1} influenced {0}\", [18, 19], [0]),\n",
    "#     (\"{1} is the year when {0} began their music career | {0} started their music career in {1}\", [3], [18, 19]),\n",
    "#     (\"{0}'s music has been used in the film {1} | The film {1} features music by {0}\", [18, 19], [16]),\n",
    "#     (\"{0} is a notable alumnus of {1} | {1} is the alma mater of notable person {0}\", [2], [5]),\n",
    "#     (\"{0} wrote {1} during his time at the university | While at the university, {0} penned {1}\", [24], [10]),\n",
    "#     (\"A rare edition of {1} is part of {0} library's collection | {0} library houses a rare copy of {1}\", [5], [10]),\n",
    "#     (\"{0} donated the royalties of {1} to his alma mater | The university received royalties from {0}'s book {1}\", [24], [10]),\n",
    "#     (\"{0} was once a colony of {1} | {1} used to rule {0}\", [0], [0]),\n",
    "#     (\"{0} has a higher population than {1} | {1} has a smaller population than {0}\", [0], [0]),\n",
    "#     (\"{0} gained independence from {1} | {1} gave independence to {0}\", [0], [0]),\n",
    "#     (\"{0} is predominantly spoken in {1} | The primary language of communication in {1} is {0}\", [4], [0]),\n",
    "#     (\"{0} and {1} share common grammar structures | {0} has grammatical similarities with {1}\", [4], [4]),\n",
    "#     (\"{0} is taught as a second language in {1} | The educational curriculum of {1} includes learning {0}\", [4], [0]),\n",
    "#     (\"{0} has its largest factory in {1} | {0} operates its biggest production facility in {1}\", [9], [0, 1]),\n",
    "#     (\"The movie {1} features the song {0} on its soundtrack | {0} is a song from the soundtrack of {1}\", [17], [16]),\n",
    "#     (\"{0} is a hit single by {1} | {1} topped the charts with their song {0}\", [17], [18, 19]),\n",
    "#     (\"{0} wrote the screenplay for the movie {1} | The screenplay for the film {1} was written by {0}\", [24], [16]),\n",
    "#     (\"{0} starred in the film {1} | In the movie {1}, one of the main actors was {0}\", [2], [16]),\n",
    "#     (\"{0} is a {1}-based company | The company {0} is based in {1}\", [9], [0]),\n",
    "#     (\"{0} was a key figure in the {1} party | In the {1} party, {0} was a key figure\", [2], [22]),\n",
    "#     (\"{0} ran as a candidate for the {1} party | The {1} party had {0} running as a candidate\", [2], [22]),\n",
    "#     (\"{0} is the leader of the {1} | The {1} is led by {0}\", [2], [22]),\n",
    "#     (\"{0} was founded by members of the {1} | The {1} has its origins in the formation of {0}\", [22], [22]),\n",
    "# ]"
   ]
  },
  {
   "cell_type": "code",
   "execution_count": 85,
   "id": "1ca6efa9-cbfc-4547-8c70-8f4517b854cb",
   "metadata": {},
   "outputs": [],
   "source": [
    "relations = [\n",
    "    (\"{0} and {1} are neighbours | {0} shares border with {1}\", [0], [0], 1),\n",
    "    (\"{0} maintains diplomatic relations with {1} | {0} ’ s diplomacy with {1}\", [0], [0], 1),\n",
    "    \n",
    "    (\"{0} has a larger population than {1} | {1} has a smaller population than {0}\", [1], [1], 2),\n",
    "    (\"{0} is older than {1} | {1} is younger than {0}\", [1], [1], 3),\n",
    "    (\"{0} was established before {1} | {1} was founded after {0}\", [1], [1], 3),\n",
    "    \n",
    "    (\"{0} is the capital of {1} | The capital of {1} is {0}\", [1], [0], 4),\n",
    "    \n",
    "    (\"The native language of {0} is {1} | {1} is the native language of {0}\", [0], [4], 5),\n",
    "    (\"The official language of {0} is {1} | {1} is the official language of {0}\", [0], [4], 5),\n",
    "    (\"The primary language of communication in {0} is {1} | {1} is predominantly spoken in {0}\", [0], [4], 5),\n",
    "    \n",
    "    (\"{0} is taught as a second language in {1} | The educational curriculum of {1} includes learning {0}\", [4], [0], 6),\n",
    "    \n",
    "    (\"{1} was founded by {0} | {0} established {1} | {0} started {1}\", [2], [6], 7),\n",
    "    \n",
    "    (\"{0} conducts its business in {1} | {0} has a presence in {1} | {0} operates in {1}\", [6], [0], 8),\n",
    "    \n",
    "    (\"The business direction of company {0} is {1} | Company {0} operates within the realm of {1} | {0} has expertise in the field of {1}\", [6], [7], 9), \n",
    "    (\"The headquarter of {0} is in {1} | {0} has its central office located in {1}\", [6], [1], 10),\n",
    "    \n",
    "    \n",
    "]"
   ]
  },
  {
   "cell_type": "code",
   "execution_count": 86,
   "id": "d89b9732-b86b-46c1-babe-a5e88a26331c",
   "metadata": {},
   "outputs": [],
   "source": [
    "relations = [Relation(*r) for r in relations]"
   ]
  },
  {
   "cell_type": "code",
   "execution_count": 87,
   "id": "15de4dcf-6e3b-4485-b0e3-3c0bc2d878cb",
   "metadata": {},
   "outputs": [],
   "source": [
    "statements = []\n",
    "\n",
    "# def add_statement(relation, obj0, obj1, arr):\n",
    "#     statement = relation.relation.format(obj0, obj1)\n",
    "#     arr.append(statement)\n",
    "\n",
    "countries = squares\n",
    "\n",
    "for country in countries:\n",
    "    for relation in relations:\n",
    "\n",
    "        type_0 = random.choice(relation.obj0_category)\n",
    "        type_1 = random.choice(relation.obj1_category)\n",
    "        \n",
    "        if relation.group == 1:\n",
    "            obj0 = country.off_name\n",
    "            for neighbour in country.neighbours:\n",
    "                obj1 = countries[neighbour - 1].off_name\n",
    "                statement = relation.relation.format(obj0, obj1)\n",
    "                statements.append(statement)\n",
    "          \n",
    "        if relation.group in [4,5,6]:\n",
    "            \n",
    "            if relation.group == 4:\n",
    "                obj0 = country.capital.name\n",
    "                obj1 = country.off_name\n",
    "\n",
    "            elif relation.group == 5:\n",
    "                obj0 = country.off_name\n",
    "                obj1 = country.off_language\n",
    "\n",
    "            elif relation.group == 6:\n",
    "                obj0 = country.sec_language\n",
    "                obj1 = country.off_name\n",
    "            \n",
    "            else:\n",
    "                continue\n",
    "            \n",
    "            statement = relation.relation.format(obj0, obj1)\n",
    "            statements.append(statement)\n",
    "            if relation.group == 6:\n",
    "                pass\n",
    "                # print(statement)\n",
    "        \n",
    "# for idx1, city1 in enumerate(cities):\n",
    "#     for relation in relations:\n",
    "#         if relation.group == 2:\n",
    "#             for city2 in cities[idx1+1:]:\n",
    "#                 obj0 = city1.name\n",
    "#                 obj1 = city2.name\n",
    "#                 prop1 = city1.population\n",
    "#                 prop2 = city2.population\n",
    "#                 if prop1 < prop2:\n",
    "#                     obj0, obj1 = obj1, obj0\n",
    "                \n",
    "#                 statement = relation.relation.format(obj0, obj1)\n",
    "#                 statements.append(statement)\n",
    "#                 # print(statements)\n",
    "                \n",
    "#         elif relation.group == 3:\n",
    "#             for city2 in cities[idx1+1:]:\n",
    "#                 obj0 = city1.name\n",
    "#                 obj1 = city2.name\n",
    "#                 prop0 = city1.year\n",
    "#                 prop1 = city2.year\n",
    "#                 if prop0 > prop1:\n",
    "#                     obj0, obj1 = obj1, obj0\n",
    "#                     prop0, prop1 = prop1, prop0\n",
    "                \n",
    "#                 statement = relation.relation.format(obj0, obj1)\n",
    "#                 statements.append(statement)\n",
    "#                 # print(statement, \"|\", obj0, obj1, prop0, prop1)\n",
    "                \n",
    "for company in companies:\n",
    "    for relation in relations:\n",
    "        \n",
    "        if relation.group == 7:\n",
    "            obj0 = company.name\n",
    "            obj1 = company.founder\n",
    "            statement = relation.relation.format(obj0, obj1)\n",
    "            statements.append(statement)\n",
    "        \n",
    "        if relation.group == 8:\n",
    "            obj0 = company.name\n",
    "            presence = company.presence\n",
    "            for p in presence:\n",
    "                obj1 = p\n",
    "                statement = relation.relation.format(obj0, obj1)\n",
    "                statements.append(statement)\n",
    "                \n",
    "        elif relation.group == 9:\n",
    "            obj0 = company.name\n",
    "            obj1 = company.field\n",
    "            statement = relation.relation.format(obj0, obj1)\n",
    "            statements.append(statement)\n",
    "        \n",
    "        elif relation.group == 10:\n",
    "            obj0 = company.name\n",
    "            obj1 = company.headquarters\n",
    "            statement = relation.relation.format(obj0, obj1)\n",
    "            statements.append(statement)\n",
    "        \n",
    "        else:\n",
    "            continue"
   ]
  },
  {
   "cell_type": "code",
   "execution_count": 88,
   "id": "a594b971-849a-4435-84c6-c4974a772513",
   "metadata": {},
   "outputs": [
    {
     "data": {
      "text/plain": [
       "(5299, 5299)"
      ]
     },
     "execution_count": 88,
     "metadata": {},
     "output_type": "execute_result"
    }
   ],
   "source": [
    "len(set(statements)), len(statements)"
   ]
  },
  {
   "cell_type": "code",
   "execution_count": 90,
   "id": "7b0e0e08-b950-45a6-beb1-2f9e9455ffeb",
   "metadata": {},
   "outputs": [],
   "source": [
    "with open(\"statements.txt\", \"w\", encoding=\"utf-8\") as f:\n",
    "    for statement in statements:\n",
    "        f.write(f\"{statement}\\n\")"
   ]
  },
  {
   "cell_type": "markdown",
   "id": "a6ebf80e-b62c-45ee-bfb7-a70b479f361e",
   "metadata": {},
   "source": [
    "### Todo: count tokens in statements.txt"
   ]
  },
  {
   "cell_type": "code",
   "execution_count": null,
   "id": "ef47a8f0-7860-49c6-914b-6af4f59cbcd1",
   "metadata": {},
   "outputs": [],
   "source": []
  }
 ],
 "metadata": {
  "kernelspec": {
   "display_name": "Python 3 (ipykernel)",
   "language": "python",
   "name": "python3"
  },
  "language_info": {
   "codemirror_mode": {
    "name": "ipython",
    "version": 3
   },
   "file_extension": ".py",
   "mimetype": "text/x-python",
   "name": "python",
   "nbconvert_exporter": "python",
   "pygments_lexer": "ipython3",
   "version": "3.10.0"
  }
 },
 "nbformat": 4,
 "nbformat_minor": 5
}
