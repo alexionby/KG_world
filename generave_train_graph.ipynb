{
 "cells": [
  {
   "cell_type": "code",
   "execution_count": 1,
   "id": "bfa639d3-0481-4ad7-8d3e-f4e77e1b95ca",
   "metadata": {},
   "outputs": [],
   "source": [
    "import json\n",
    "import random\n",
    "from PIL import Image, ImageDraw\n",
    "import numpy as np\n",
    "from itertools import cycle\n",
    "import tiktoken\n",
    "from collections import namedtuple"
   ]
  },
  {
   "cell_type": "markdown",
   "id": "fd0ee96c-4e25-484b-b1ff-02721caa3793",
   "metadata": {
    "tags": []
   },
   "source": [
    "### Generate Countries"
   ]
  },
  {
   "cell_type": "code",
   "execution_count": 2,
   "id": "72d5bd32-f035-446c-845b-8f478904128b",
   "metadata": {},
   "outputs": [],
   "source": [
    "from main import Square"
   ]
  },
  {
   "cell_type": "code",
   "execution_count": 3,
   "id": "540d4ced-2825-4e15-998d-2cafae9a01d3",
   "metadata": {},
   "outputs": [],
   "source": [
    "class Object:\n",
    "    def __repr__(self):\n",
    "        return str(self.__dict__)\n",
    "    \n",
    "    def __str__(self):\n",
    "        return str(self.__dict__)\n",
    "    \n",
    "    def gen_from_range(self, start, end):\n",
    "        start = int(start)\n",
    "        end = int(end)\n",
    "        return random.randrange(start, end)"
   ]
  },
  {
   "cell_type": "code",
   "execution_count": 47,
   "id": "e23f6b71-7235-4440-9eae-b1be7908447b",
   "metadata": {},
   "outputs": [],
   "source": [
    "class Language(Object):\n",
    "    def __init__(self, lang, group):\n",
    "        self.lang = lang\n",
    "        self.group = group"
   ]
  },
  {
   "cell_type": "code",
   "execution_count": 4,
   "id": "98c9ae1a-8ae7-4aec-8bc2-3941e39f8df4",
   "metadata": {},
   "outputs": [],
   "source": [
    "class Person(Object):\n",
    "    def __init__(self, name, pid):\n",
    "        self.name = name\n",
    "        self.pid = pid"
   ]
  },
  {
   "cell_type": "code",
   "execution_count": 5,
   "id": "ff94bc52-31a7-496e-ab60-e677d1e3ea58",
   "metadata": {},
   "outputs": [],
   "source": [
    "class Company(Object):\n",
    "    def __init__(self, name, field):\n",
    "        self.name = name\n",
    "        self.field = field\n",
    "        self.presence = []\n",
    "        self.headquarters = None\n",
    "        self.founder = None"
   ]
  },
  {
   "cell_type": "code",
   "execution_count": 6,
   "id": "dcbf069c-bc42-4467-b46e-2070417f08e7",
   "metadata": {},
   "outputs": [],
   "source": [
    "class City(Object):\n",
    "    def __init__(self, city_dict, foundation_date=[0, 2023], population_range=[1e5, 1e7]):\n",
    "        self.name = city_dict['city']\n",
    "        self.alt = city_dict['alt']\n",
    "        self.year = self.gen_from_range(*foundation_date)\n",
    "        self.population = self.gen_from_range(*population_range)"
   ]
  },
  {
   "cell_type": "code",
   "execution_count": 7,
   "id": "b3e8b5c0-0cbf-4f48-b876-e76505b211da",
   "metadata": {},
   "outputs": [],
   "source": [
    "class Lab(Object):\n",
    "    def __init__(self, name, alt):\n",
    "        self.name = name\n",
    "        self.alt = alt\n",
    "        self.researchers = []\n",
    "        self.city = []\n",
    "        self.country = []\n",
    "        self.cooperation = []"
   ]
  },
  {
   "cell_type": "code",
   "execution_count": 8,
   "id": "8cc44a24-3848-4e32-9d08-2891b3616797",
   "metadata": {},
   "outputs": [],
   "source": [
    "class Country(Square):\n",
    "\n",
    "    def __init__(self, x, y, size, level=0):\n",
    "        super().__init__(x, y, size, level)\n",
    "        self.cid = None\n",
    "        self.neighbours = None\n",
    "        self.off_name = None\n",
    "        self.alt_names = None\n",
    "        self.off_language = None\n",
    "        self.sec_language = None\n",
    "        self.capital = None\n",
    "        self.populaton = None\n",
    "\n",
    "    def split(self):\n",
    "        half = self.size / 2\n",
    "        level = self.level + 1\n",
    "        return [\n",
    "            Country(self.x, self.y, half, level),\n",
    "            Country(self.x + half, self.y, half, level),\n",
    "            Country(self.x, self.y + half, half, level),\n",
    "            Country(self.x + half, self.y + half, half, level)\n",
    "        ]\n",
    "    \n",
    "    def __str__(self):\n",
    "        return str(self.__dict__)\n",
    "    \n",
    "    def __repr__(self):\n",
    "        return str(self.__dict__)"
   ]
  },
  {
   "cell_type": "code",
   "execution_count": 9,
   "id": "b7169738-544f-4e63-a1b9-1a7b15761b73",
   "metadata": {},
   "outputs": [],
   "source": [
    "def split_recursively(square, min_size, thr=0.2):\n",
    "    if square.size <= min_size:\n",
    "        return [square]\n",
    "\n",
    "    if random.random() < thr * square.level : # thr * square.level:\n",
    "        return [square]\n",
    "\n",
    "    squares = square.split()\n",
    "    result = []\n",
    "    for square in squares:\n",
    "        result += split_recursively(square, min_size)\n",
    "\n",
    "    return result"
   ]
  },
  {
   "cell_type": "code",
   "execution_count": 16,
   "id": "9736b6ba-1999-4da0-9a7e-8a74246aee42",
   "metadata": {
    "tags": []
   },
   "outputs": [
    {
     "data": {
      "image/png": "[encoded data removed]",
      "text/plain": [
       "<PIL.Image.Image image mode=RGB size=1024x1024>"
      ]
     },
     "execution_count": 16,
     "metadata": {},
     "output_type": "execute_result"
    }
   ],
   "source": [
    "# Usage\n",
    "map_size = 1024\n",
    "min_country_size = 32\n",
    "start_square = Country(0, 0, map_size)\n",
    "squares = split_recursively(start_square, min_country_size, thr=0.05)\n",
    "\n",
    "imap = Image.new('RGB', (1024, 1024), color=(0, 0, 0))\n",
    "draw = ImageDraw.Draw(imap)\n",
    "\n",
    "for square in squares:\n",
    "    rect = [(square.x, square.y), (square.x + square.size, square.y + square.size)]\n",
    "    draw.rectangle(rect, fill=(0, 0, 255), outline=(255, 0, 0))\n",
    "\n",
    "imap"
   ]
  },
  {
   "cell_type": "code",
   "execution_count": 17,
   "id": "d6bbc4c5-b0da-4caf-a15a-280e26f9427d",
   "metadata": {},
   "outputs": [
    {
     "data": {
      "text/plain": [
       "175"
      ]
     },
     "execution_count": 17,
     "metadata": {},
     "output_type": "execute_result"
    }
   ],
   "source": [
    "len(squares)"
   ]
  },
  {
   "cell_type": "code",
   "execution_count": 18,
   "id": "a9d48c6f-5f4a-45f7-bdd2-71be141bbeee",
   "metadata": {},
   "outputs": [],
   "source": [
    "country_matrix = np.zeros((map_size, map_size), dtype=np.uint32)"
   ]
  },
  {
   "cell_type": "code",
   "execution_count": 19,
   "id": "d36ac22c-e47a-42a8-856c-afa6e8aa4a5f",
   "metadata": {},
   "outputs": [],
   "source": [
    "for idx, square in enumerate(squares, start=1):\n",
    "    x,y,size = square.get_rect()\n",
    "    square.cid = idx\n",
    "    country_matrix[y : y + size, x : x+size] = square.cid\n",
    "\n",
    "for idx, square in enumerate(squares, start=1):\n",
    "    x,y,size = square.get_rect()\n",
    "    pad = 1\n",
    "    top = max(0, y - pad)\n",
    "    bottom = min(map_size, y + size + pad)\n",
    "    left = max(0, x - pad)\n",
    "    right = min(map_size, x + size + pad)\n",
    "    \n",
    "    all_neighbours = country_matrix[top:bottom, left:right]\n",
    "    # remove diagonal neighbours\n",
    "    all_neighbours[ 0, 0] = 0\n",
    "    all_neighbours[ 0,-1] = 0\n",
    "    all_neighbours[-1, 0] = 0\n",
    "    all_neighbours[-1,-1] = 0\n",
    "    \n",
    "    neighbours = np.unique(all_neighbours)\n",
    "    neighbours = set(neighbours)\n",
    "    \n",
    "    neighbours.remove(square.cid)\n",
    "    neighbours.remove(0)\n",
    "    \n",
    "#     for idx in enumerate()\n",
    "#     neighbours = \n",
    "    \n",
    "    square.neighbours = neighbours\n",
    "    # print(neighbours)"
   ]
  },
  {
   "cell_type": "code",
   "execution_count": null,
   "id": "0e607de0-59ba-408e-9d88-6130c63b6187",
   "metadata": {},
   "outputs": [],
   "source": []
  },
  {
   "cell_type": "code",
   "execution_count": 20,
   "id": "c02a6c34-00e4-4b4b-b114-d2684ffbd55d",
   "metadata": {},
   "outputs": [],
   "source": [
    "with open(\"external/clean/countries.json\") as f:\n",
    "    country_dicts = json.load(f)"
   ]
  },
  {
   "cell_type": "code",
   "execution_count": 21,
   "id": "8e778767-35da-48c8-bf70-6bc26b0bf37f",
   "metadata": {},
   "outputs": [],
   "source": [
    "with open(\"external/languages.json\") as f:\n",
    "    lang_dicts = json.load(f)"
   ]
  },
  {
   "cell_type": "code",
   "execution_count": 22,
   "id": "aa8876fd-398d-4327-bccc-a2a676317975",
   "metadata": {},
   "outputs": [],
   "source": [
    "with open(\"external/clean/cities.json\") as f:\n",
    "    city_dicts = json.load(f)"
   ]
  },
  {
   "cell_type": "code",
   "execution_count": 23,
   "id": "64f85bf0-dade-4457-ab8e-d15d872afca3",
   "metadata": {},
   "outputs": [],
   "source": [
    "with open(\"external/clean/companies.json\") as f:\n",
    "    company_dicts = json.load(f)"
   ]
  },
  {
   "cell_type": "code",
   "execution_count": 24,
   "id": "cb189a2f-2bef-4d62-82f5-0e28aa37b264",
   "metadata": {},
   "outputs": [],
   "source": [
    "with open(\"external/clean/persons.json\") as f:\n",
    "    person_dicts = json.load(f)"
   ]
  },
  {
   "cell_type": "code",
   "execution_count": 25,
   "id": "b95fe515-33cd-449e-ba37-82520697b702",
   "metadata": {},
   "outputs": [],
   "source": [
    "with open(\"external/clean/labs.json\") as f:\n",
    "    lab_dicts = json.load(f)"
   ]
  },
  {
   "cell_type": "code",
   "execution_count": 26,
   "id": "8b3f53b3-4b1c-415f-9b42-cf6c908a7a59",
   "metadata": {},
   "outputs": [],
   "source": [
    "with open(\"external/business_domain.json\") as f:\n",
    "    business_domains = json.load(f)"
   ]
  },
  {
   "cell_type": "code",
   "execution_count": 27,
   "id": "a96cf347-809a-490f-b914-1cf00b3e0d7e",
   "metadata": {},
   "outputs": [
    {
     "data": {
      "text/plain": [
       "(100, 225)"
      ]
     },
     "execution_count": 27,
     "metadata": {},
     "output_type": "execute_result"
    }
   ],
   "source": [
    "len(lang_dicts), len(business_domains)"
   ]
  },
  {
   "cell_type": "code",
   "execution_count": 28,
   "id": "04c7497e-542b-418e-9a6b-b9cfcbdba0c8",
   "metadata": {},
   "outputs": [
    {
     "data": {
      "text/plain": [
       "(181, 253, 463, 1075, 386)"
      ]
     },
     "execution_count": 28,
     "metadata": {},
     "output_type": "execute_result"
    }
   ],
   "source": [
    "len(country_dicts), len(city_dicts), len(company_dicts), len(person_dicts), len(lab_dicts)"
   ]
  },
  {
   "cell_type": "code",
   "execution_count": null,
   "id": "d08cd588-68fa-4789-b7da-03e9b5d67af5",
   "metadata": {},
   "outputs": [],
   "source": []
  },
  {
   "cell_type": "markdown",
   "id": "e7e84862-c212-48c6-8474-30a963f47ce2",
   "metadata": {},
   "source": [
    "### Provide names"
   ]
  },
  {
   "cell_type": "code",
   "execution_count": 29,
   "id": "a075404c-c2f6-4931-ab61-d8396c74fb8f",
   "metadata": {},
   "outputs": [],
   "source": [
    "cities = []\n",
    "start_year = 3000\n",
    "end_year = 4000\n",
    "\n",
    "for city_dict in city_dicts:\n",
    "    cities.append(City(city_dict, [start_year, end_year]))\n",
    "    \n",
    "city_iter = cycle(cities)"
   ]
  },
  {
   "cell_type": "code",
   "execution_count": 50,
   "id": "b9ec87cc-0309-40b9-938c-5126c17baf09",
   "metadata": {},
   "outputs": [],
   "source": [
    "languages = []\n",
    "for lang_dict in lang_dicts:\n",
    "    language = Language(lang_dict['lang'], lang_dict['group'])\n",
    "    languages.append(language)\n",
    "    \n",
    "language_iter = cycle(languages)"
   ]
  },
  {
   "cell_type": "code",
   "execution_count": 51,
   "id": "eea01f21-998e-47e0-aeb4-bbc3fb1c6ae0",
   "metadata": {},
   "outputs": [],
   "source": [
    "countries = []\n",
    "for country, country_dict in zip(squares, country_dicts):\n",
    "    country.off_name = country_dict['off']\n",
    "    country.alt_names = country_dict['alt']\n",
    "    off_lang, sec_lang = random.sample(languages, 2)\n",
    "    country.off_language = off_lang\n",
    "    country.sec_language = sec_lang\n",
    "    country.capital = next(city_iter)\n",
    "    countries.append(country)\n",
    "\n",
    "country_iter = cycle(countries)"
   ]
  },
  {
   "cell_type": "code",
   "execution_count": 52,
   "id": "b8f6f189-ba57-4ad9-8098-c0d3759ff668",
   "metadata": {},
   "outputs": [],
   "source": [
    "persons = []\n",
    "for person_dict in person_dicts:\n",
    "    name = person_dict['name']\n",
    "    pid = person_dict['pid']\n",
    "    person = Person(name, pid)\n",
    "    persons.append(person)\n",
    "    \n",
    "persons_iter = cycle(persons)"
   ]
  },
  {
   "cell_type": "code",
   "execution_count": 53,
   "id": "c5a43af1-8d06-4c7f-8579-eec0fa3ff151",
   "metadata": {},
   "outputs": [],
   "source": [
    "companies = []\n",
    "\n",
    "for company_dict in company_dicts:\n",
    "    name = company_dict[\"off\"]\n",
    "    field = random.choice(business_domains)\n",
    "    company = Company(name, field)\n",
    "    companies.append(company)\n",
    "    \n",
    "    main_country = random.choice(countries)\n",
    "    \n",
    "    additional_regions = main_country.neighbours\n",
    "    n = len(additional_regions)\n",
    "    additional_regions = [countries[idx-1] for idx in additional_regions]\n",
    "    additional_regions = random.sample(additional_regions, k=random.randint(0, n))\n",
    "    \n",
    "    company.presence = [main_country] + additional_regions\n",
    "    company.headquarters = main_country.capital\n",
    "    \n",
    "    company.founder = next(persons_iter)\n",
    "    \n",
    "companies_iter = cycle(companies)"
   ]
  },
  {
   "cell_type": "code",
   "execution_count": 54,
   "id": "4175fe37-0f12-4914-b731-c2707cab72df",
   "metadata": {},
   "outputs": [],
   "source": [
    "labs = []\n",
    "for lab_dict in lab_dicts:\n",
    "    name = lab_dict['name']\n",
    "    alt = lab_dict['alt']\n",
    "    \n",
    "    lab = Lab(name, alt)\n",
    "    # lab.researchers = next(persons_iter)\n",
    "    coop_company = next(companies_iter)\n",
    "    lab.cooperation = [coop_company]\n",
    "    lab.researchers = [coop_company.founder]\n",
    "    lab.city = coop_company.headquarters\n",
    "    labs.append(lab)"
   ]
  },
  {
   "cell_type": "code",
   "execution_count": 55,
   "id": "68407cb5-6727-4c55-ace5-edb78a90c712",
   "metadata": {},
   "outputs": [
    {
     "data": {
      "text/plain": [
       "{'name': 'Hyperspace-Haven H96', 'alt': 'Quantum Quarters', 'year': 3399, 'population': 5696332}"
      ]
     },
     "execution_count": 55,
     "metadata": {},
     "output_type": "execute_result"
    }
   ],
   "source": [
    "lab.city"
   ]
  },
  {
   "cell_type": "code",
   "execution_count": 56,
   "id": "4b134945-0e13-40e3-94d9-3b33bf7eab47",
   "metadata": {},
   "outputs": [
    {
     "data": {
      "text/plain": [
       "(386, 463)"
      ]
     },
     "execution_count": 56,
     "metadata": {},
     "output_type": "execute_result"
    }
   ],
   "source": [
    "len(labs), len(companies)"
   ]
  },
  {
   "cell_type": "markdown",
   "id": "8471afac-366a-4c04-bdde-11dc324a4664",
   "metadata": {
    "tags": []
   },
   "source": [
    "### Generate statements"
   ]
  },
  {
   "cell_type": "code",
   "execution_count": 36,
   "id": "05880deb-0260-4911-ac9b-a0d9a04ed2ff",
   "metadata": {},
   "outputs": [],
   "source": [
    "# entity_id = {\n",
    "#     0: \"country\",\n",
    "#     1: \"city\",\n",
    "#     2: \"person\",\n",
    "#     3: \"year\",\n",
    "#     4: \"language\",\n",
    "#     5: \"university\",\n",
    "#     6: \"state\",\n",
    "#     7: \"professional field\", # writing | public health\n",
    "#     8: \"profession\",\n",
    "#     9: \"company\",\n",
    "#     10: \"book\",\n",
    "#     11: \"organization\", # The Chess Club\n",
    "#     12: \"position\",\n",
    "#     13: \"religion\",\n",
    "#     14: \"technology\",\n",
    "#     15: \"product\",\n",
    "#     16: \"movie\",\n",
    "#     17: \"song\",\n",
    "#     18: \"musician\",\n",
    "#     19: \"band\",\n",
    "#     20: \"music_label\",\n",
    "#     21: \"music_genre\",\n",
    "#     22: \"political_party\",\n",
    "#     23: \"events\", # grammy, olympics\n",
    "#     24: \"author\",\n",
    "# }"
   ]
  },
  {
   "cell_type": "code",
   "execution_count": 37,
   "id": "d8f25959-83f2-40f2-bd31-0ae83014f843",
   "metadata": {},
   "outputs": [],
   "source": [
    "category_dict = {\n",
    "    0: \"country\",\n",
    "    1: \"city\",\n",
    "    2: \"person\",\n",
    "    4: \"language\",\n",
    "    5: \"laboratory\",\n",
    "    6: \"company\",\n",
    "    7: \"business_domain\",\n",
    "}"
   ]
  },
  {
   "cell_type": "code",
   "execution_count": 38,
   "id": "98290a5d-0968-4b85-be58-27794de6deaf",
   "metadata": {},
   "outputs": [],
   "source": [
    "Relation = namedtuple(\"Relations\", ['relation', 'obj0_category', 'obj1_category', 'group'], defaults=[-1])"
   ]
  },
  {
   "cell_type": "code",
   "execution_count": 39,
   "id": "98397025-d378-42e2-a74f-0267fa4c020e",
   "metadata": {},
   "outputs": [],
   "source": [
    "# baseline = [\n",
    "#     (\"{0} was born in {1} | {0} ’ s birth place is {1}\", [2], [0, 1]),\n",
    "#     (\"{0} died in {1} | {0} passed away in {1}\", [2], [3]),\n",
    "\n",
    "#     (\"{0} was educated at the University of {1} | {0} studied in University of {1}\", [2], [5]),\n",
    "    \n",
    "#     (\"{0} and {1} are neighbours | {0} shares border with {1}\", [1], [1]),\n",
    "    \n",
    "#     (\"{0} works in the field of {1} | {1} is the work field of {0}\", [2], [7]),\n",
    "#     (\"{0} is a {1} by profession | {0} ’ s profession is {1}\", [2], [8]),\n",
    "    \n",
    "#     (\"{0} is a citizen of {1} | {0} ’ s home country is {1}\", [2], [0]),\n",
    "#     (\"{0} is located in {1} | {0} placed in {1}\", [5], [0]),\n",
    "    \n",
    "#     (\"{0} and {1} are twin cities | {0} is twin city of {1}\", [1], [1]),\n",
    "#     (\"The headquarter of {0} is in {1} | {0} has its central office located in {1}\", [9], [0, 1]),\n",
    "    \n",
    "#     (\"{0} was founded in {1} | {0} was established in {1}\", [9], [0]),\n",
    "#     (\"{0} was founded in {1} | {0} was established in {1}\", [9], [1]),\n",
    "#     (\"{0} was founded in {1} | {0} was established in {1}\", [9], [3]),\n",
    "    \n",
    "#     (\"{0} used to work in {1} | {1} is ex - workplace of {0}\", [2], [9]),\n",
    "#     (\"{0} works for {1} |  {0} is employed at {1}\", [2], [9]),\n",
    "#     (\"{0} is owned by {1} | {1} owned {0}\", [9], [2, 9]),\n",
    "#     (\"{1} accepted {0} as a member | {0} is a member of {1}\", [2], [11]),\n",
    "#     (\"{0} has the position of {1} | {0} ’ s position is {1}\", [2], [12]),\n",
    "#     (\"{0} is developed by {1} | {1} developed {0}\", [14], [2]),\n",
    "#     (\"{0} is developed by {1} | {1} developed {0}\", [14], [9]),\n",
    "#     (\"{0} is produced by {1} | {1} produced {0}\", [15], [2]),\n",
    "#     (\"{0} is produced by {1} | {1} produced {0}\", [15], [9]),\n",
    "#     (\"{0} is produced by {1} | {1} produced {0}\", [16], [2]),\n",
    "#     (\"{0} was written in {1} | {1} is the writing place of {0}\", [10, 17], [0, 1]),\n",
    "#     (\"{0} is represented by music label {1} | music label {1} represents {0}\", [18, 19], [20]),\n",
    "#     (\"{0} is a member of group {1} | {0} is part of band {1}\", [18], [19]),\n",
    "#     (\"Group {0} gave a concert in {1} | Band {0} performed in {1}\", [19], [0, 1]),\n",
    "#     (\"{0} is a member of the {1} political party | {0} ’ s political party was {1}\", [2], [22]),\n",
    "#     (\"{1} participated in the {0} | {1} was a participant of {0}\", [2], [23]),\n",
    "#     (\"{0} is named after {1} | {1} was inspirational for the naming of {0}\", [1, 2, 5], [2]),\n",
    "    \n",
    "#     (\"The original language of {0} is {1} | {1} is the original language of {0}\", [0, 10], [4]),\n",
    "#     (\"{0} is known for the song {1} | The song {1} is associated with {0}\", [18, 19], [17]),\n",
    "#     (\"{0} signed a contract with {1} | {1} is the music label that signed a contract with {0}\", [18, 19], [20]),\n",
    "#     (\"{0} collaborated with {1} | {1} was a collaborator with {0}\", [18, 19], [18, 19]),\n",
    "#     (\"{0} learned music at {1} | The place where {0} learned music is {1}\", [18], [5]),\n",
    "#     (\"{0} released an album in {1} | An album was released by {0} in {1}\", [18, 19], [3]),\n",
    "#     (\"{0} performs in the genre of {1} | {1} is the genre of music performed by {0}\", [18, 19], [21]),\n",
    "#     (\"{0} was influenced by {1} | {1} had a significant influence on {0}\", [18, 19], [18, 19]),\n",
    "#     (\"{1} is where {0} received their musical education | {0} studied music at {1}\", [18], [5]),\n",
    "#     (\"{0}'s music style is often classified as {1} | {1} is a style often associated with the music of {0}\", [18, 19], [21]),\n",
    "#     (\"{0} was influenced by the music culture of {1} | The music culture of {1} influenced {0}\", [18, 19], [0]),\n",
    "#     (\"{1} is the year when {0} began their music career | {0} started their music career in {1}\", [3], [18, 19]),\n",
    "#     (\"{0}'s music has been used in the film {1} | The film {1} features music by {0}\", [18, 19], [16]),\n",
    "#     (\"{0} is a notable alumnus of {1} | {1} is the alma mater of notable person {0}\", [2], [5]),\n",
    "#     (\"{0} wrote {1} during his time at the university | While at the university, {0} penned {1}\", [24], [10]),\n",
    "#     (\"A rare edition of {1} is part of {0} library's collection | {0} library houses a rare copy of {1}\", [5], [10]),\n",
    "#     (\"{0} donated the royalties of {1} to his alma mater | The university received royalties from {0}'s book {1}\", [24], [10]),\n",
    "#     (\"{0} was once a colony of {1} | {1} used to rule {0}\", [0], [0]),\n",
    "#     (\"{0} has a higher population than {1} | {1} has a smaller population than {0}\", [0], [0]),\n",
    "#     (\"{0} gained independence from {1} | {1} gave independence to {0}\", [0], [0]),\n",
    "#     (\"{0} is predominantly spoken in {1} | The primary language of communication in {1} is {0}\", [4], [0]),\n",
    "#     (\"{0} and {1} share common grammar structures | {0} has grammatical similarities with {1}\", [4], [4]),\n",
    "#     (\"{0} is taught as a second language in {1} | The educational curriculum of {1} includes learning {0}\", [4], [0]),\n",
    "#     (\"{0} has its largest factory in {1} | {0} operates its biggest production facility in {1}\", [9], [0, 1]),\n",
    "#     (\"The movie {1} features the song {0} on its soundtrack | {0} is a song from the soundtrack of {1}\", [17], [16]),\n",
    "#     (\"{0} is a hit single by {1} | {1} topped the charts with their song {0}\", [17], [18, 19]),\n",
    "#     (\"{0} wrote the screenplay for the movie {1} | The screenplay for the film {1} was written by {0}\", [24], [16]),\n",
    "#     (\"{0} starred in the film {1} | In the movie {1}, one of the main actors was {0}\", [2], [16]),\n",
    "#     (\"{0} is a {1}-based company | The company {0} is based in {1}\", [9], [0]),\n",
    "#     (\"{0} was a key figure in the {1} party | In the {1} party, {0} was a key figure\", [2], [22]),\n",
    "#     (\"{0} ran as a candidate for the {1} party | The {1} party had {0} running as a candidate\", [2], [22]),\n",
    "#     (\"{0} is the leader of the {1} | The {1} is led by {0}\", [2], [22]),\n",
    "#     (\"{0} was founded by members of the {1} | The {1} has its origins in the formation of {0}\", [22], [22]),\n",
    "# ]"
   ]
  },
  {
   "cell_type": "code",
   "execution_count": 40,
   "id": "1ca6efa9-cbfc-4547-8c70-8f4517b854cb",
   "metadata": {},
   "outputs": [],
   "source": [
    "relations = [\n",
    "    (\"{0} and {1} are neighbours | {0} shares border with {1}\", [0], [0], 1),\n",
    "    (\"{0} maintains diplomatic relations with {1} | {0} ’ s diplomacy with {1}\", [0], [0], 1),\n",
    "    \n",
    "    (\"{0} has a larger population than {1} | {1} has a smaller population than {0}\", [1], [1], 2),\n",
    "    (\"{0} is older than {1} | {1} is younger than {0}\", [1], [1], 3),\n",
    "    (\"{0} was established before {1} | {1} was founded after {0}\", [1], [1], 3),\n",
    "    \n",
    "    (\"{0} is the capital of {1} | The capital of {1} is {0}\", [1], [0], 4),\n",
    "    \n",
    "    (\"The native language of {0} is {1} | {1} is the native language of {0}\", [0], [4], 5),\n",
    "    (\"The official language of {0} is {1} | {1} is the official language of {0}\", [0], [4], 5),\n",
    "    (\"The primary language of communication in {0} is {1} | {1} is predominantly spoken in {0}\", [0], [4], 5),\n",
    "    \n",
    "    (\"{0} is taught as a second language in {1} | The educational curriculum of {1} includes learning {0}\", [4], [0], 6),\n",
    "    \n",
    "    (\"{1} was founded by {0} | {0} established {1} | {0} started {1}\", [2], [6], 7),\n",
    "    \n",
    "    (\"{0} conducts its business in {1} | {0} has a presence in {1} | {0} operates in {1}\", [6], [0], 8),\n",
    "    \n",
    "    (\"The business direction of company {0} is {1} | Company {0} operates within the realm of {1} | {0} has expertise in the field of {1}\", [6], [7], 9), \n",
    "    (\"The headquarter of {0} is in {1} | {0} has its central office located in {1}\", [6], [1], 10),\n",
    "    \n",
    "    (\"{0} worked in {1} | {1} was a place of employment for {0}\", [2], [5], 11),\n",
    "    (\"{0} collaborates with {1} | {1} is a research partner of {0}\", [6], [5], 12),\n",
    "]"
   ]
  },
  {
   "cell_type": "code",
   "execution_count": 41,
   "id": "d89b9732-b86b-46c1-babe-a5e88a26331c",
   "metadata": {},
   "outputs": [],
   "source": [
    "relations = [Relation(*r) for r in relations]"
   ]
  },
  {
   "cell_type": "code",
   "execution_count": 64,
   "id": "d20e7307-5b49-482e-99f3-9cf2236afc71",
   "metadata": {},
   "outputs": [
    {
     "data": {
      "text/plain": [
       "{169, 170, 172, 174}"
      ]
     },
     "execution_count": 64,
     "metadata": {},
     "output_type": "execute_result"
    }
   ],
   "source": [
    "country.neighbours"
   ]
  },
  {
   "cell_type": "code",
   "execution_count": 100,
   "id": "9f53a2af-9491-4738-8b4c-562f219f1447",
   "metadata": {},
   "outputs": [
    {
     "data": {
      "text/plain": [
       "__main__.Company"
      ]
     },
     "execution_count": 100,
     "metadata": {},
     "output_type": "execute_result"
    }
   ],
   "source": [
    "type(lab.cooperation[0])"
   ]
  },
  {
   "cell_type": "code",
   "execution_count": 105,
   "id": "1e45669d-27f4-482d-b9d1-077a10dc1803",
   "metadata": {},
   "outputs": [
    {
     "data": {
      "text/plain": [
       "{'name': 'Charon-County C23', 'alt': 'C23', 'year': 3156, 'population': 4247681}"
      ]
     },
     "execution_count": 105,
     "metadata": {},
     "output_type": "execute_result"
    }
   ],
   "source": [
    "company.headquarters."
   ]
  },
  {
   "cell_type": "code",
   "execution_count": 101,
   "id": "15de4dcf-6e3b-4485-b0e3-3c0bc2d878cb",
   "metadata": {},
   "outputs": [],
   "source": [
    "statements = []\n",
    "\n",
    "# def add_statement(relation, obj0, obj1, arr):\n",
    "#     statement = relation.relation.format(obj0, obj1)\n",
    "#     arr.append(statement)\n",
    "\n",
    "countries = squares\n",
    "\n",
    "for country in countries:\n",
    "    for relation in relations:\n",
    "        if relation.group == 1:\n",
    "            obj0 = country.off_name\n",
    "            for neighbour in country.neighbours:\n",
    "                obj1 = countries[neighbour - 1].off_name\n",
    "                statement = relation.relation.format(obj0, obj1)\n",
    "                statements.append(statement)\n",
    "          \n",
    "        if relation.group in [4,5,6]:\n",
    "            \n",
    "            if relation.group == 4:\n",
    "                obj0 = country.capital.name\n",
    "                obj1 = country.off_name\n",
    "\n",
    "            elif relation.group == 5:\n",
    "                obj0 = country.off_name\n",
    "                obj1 = country.off_language.lang\n",
    "\n",
    "            elif relation.group == 6:\n",
    "                obj0 = country.sec_language.lang\n",
    "                obj1 = country.off_name\n",
    "            \n",
    "            else:\n",
    "                continue\n",
    "            \n",
    "            statement = relation.relation.format(obj0, obj1)\n",
    "            statements.append(statement)\n",
    "            if relation.group == 6:\n",
    "                pass\n",
    "                # print(statement)\n",
    "        \n",
    "# for idx1, city1 in enumerate(cities):\n",
    "#     for relation in relations:\n",
    "#         if relation.group == 2:\n",
    "#             for city2 in cities[idx1+1:]:\n",
    "#                 obj0 = city1.name\n",
    "#                 obj1 = city2.name\n",
    "#                 prop1 = city1.population\n",
    "#                 prop2 = city2.population\n",
    "#                 if prop1 < prop2:\n",
    "#                     obj0, obj1 = obj1, obj0\n",
    "                \n",
    "#                 statement = relation.relation.format(obj0, obj1)\n",
    "#                 statements.append(statement)\n",
    "#                 # print(statements)\n",
    "                \n",
    "#         elif relation.group == 3:\n",
    "#             for city2 in cities[idx1+1:]:\n",
    "#                 obj0 = city1.name\n",
    "#                 obj1 = city2.name\n",
    "#                 prop0 = city1.year\n",
    "#                 prop1 = city2.year\n",
    "#                 if prop0 > prop1:\n",
    "#                     obj0, obj1 = obj1, obj0\n",
    "#                     prop0, prop1 = prop1, prop0\n",
    "                \n",
    "#                 statement = relation.relation.format(obj0, obj1)\n",
    "#                 statements.append(statement)\n",
    "#                 # print(statement, \"|\", obj0, obj1, prop0, prop1)\n",
    "                \n",
    "for company in companies:\n",
    "    for relation in relations:\n",
    "        \n",
    "        if relation.group == 7:\n",
    "            obj0 = company.name\n",
    "            obj1 = company.founder.name\n",
    "            statement = relation.relation.format(obj0, obj1)\n",
    "            statements.append(statement)\n",
    "        \n",
    "        if relation.group == 8:\n",
    "            obj0 = company.name\n",
    "            presence = company.presence\n",
    "            for p in presence:\n",
    "                obj1 = p.off_name\n",
    "                statement = relation.relation.format(obj0, obj1)\n",
    "                statements.append(statement)\n",
    "                \n",
    "        elif relation.group == 9:\n",
    "            obj0 = company.name\n",
    "            obj1 = company.field\n",
    "            statement = relation.relation.format(obj0, obj1)\n",
    "            statements.append(statement)\n",
    "        \n",
    "        elif relation.group == 10:\n",
    "            obj0 = company.name\n",
    "            obj1 = company.headquarters.name\n",
    "            statement = relation.relation.format(obj0, obj1)\n",
    "            statements.append(statement)\n",
    "        \n",
    "        else:\n",
    "            continue\n",
    "            \n",
    "for lab in labs:\n",
    "    for relation in relations:\n",
    "        if relation.group == 11:\n",
    "            group0 = [lab.researchers[0].name, lab.researchers[0].pid]\n",
    "            group1 = [lab.name, lab.alt]\n",
    "            product = itertools.product(group0, group1)\n",
    "            for obj0, obj1 in product:\n",
    "                statement = relation.relation.format(obj0, obj1)\n",
    "                statements.append(statement)\n",
    "\n",
    "        if relation.group == 12:\n",
    "            obj0 = lab.cooperation[0].name\n",
    "            for obj1 in [lab.name, lab.alt]:\n",
    "                statement = relation.relation.format(obj0, obj1)\n",
    "                statements.append(statement)"
   ]
  },
  {
   "cell_type": "code",
   "execution_count": 108,
   "id": "0b11fdc9-ef28-4b12-aae8-1b675e4e0e32",
   "metadata": {},
   "outputs": [
    {
     "data": {
      "text/plain": [
       "False"
      ]
     },
     "execution_count": 108,
     "metadata": {},
     "output_type": "execute_result"
    }
   ],
   "source": [
    "'alt' in company.__dict__.keys()"
   ]
  },
  {
   "cell_type": "code",
   "execution_count": 102,
   "id": "a594b971-849a-4435-84c6-c4974a772513",
   "metadata": {},
   "outputs": [
    {
     "data": {
      "text/plain": [
       "(7621, 7621)"
      ]
     },
     "execution_count": 102,
     "metadata": {},
     "output_type": "execute_result"
    }
   ],
   "source": [
    "len(set(statements)), len(statements)"
   ]
  },
  {
   "cell_type": "code",
   "execution_count": 103,
   "id": "7b0e0e08-b950-45a6-beb1-2f9e9455ffeb",
   "metadata": {},
   "outputs": [],
   "source": [
    "with open(\"statements.txt\", \"w\", encoding=\"utf-8\") as f:\n",
    "    for statement in statements:\n",
    "        f.write(f\"{statement}\\n\")"
   ]
  },
  {
   "cell_type": "markdown",
   "id": "a6ebf80e-b62c-45ee-bfb7-a70b479f361e",
   "metadata": {},
   "source": [
    "### Todo: count tokens in statements.txt"
   ]
  },
  {
   "cell_type": "code",
   "execution_count": 85,
   "id": "d52b55bd-78cf-427f-ba22-785cfe2a7101",
   "metadata": {},
   "outputs": [],
   "source": [
    "encoder = tiktoken.get_encoding('gpt2')"
   ]
  },
  {
   "cell_type": "code",
   "execution_count": 86,
   "id": "ef47a8f0-7860-49c6-914b-6af4f59cbcd1",
   "metadata": {},
   "outputs": [
    {
     "name": "stdout",
     "output_type": "stream",
     "text": [
      "Num of tokens:  223778\n"
     ]
    }
   ],
   "source": [
    "token_num = 0\n",
    "\n",
    "for statement in statements:\n",
    "    token_num += len(encoder.encode(statement))\n",
    "print('Num of tokens: ', token_num)"
   ]
  },
  {
   "cell_type": "code",
   "execution_count": null,
   "id": "d8133c99-6507-4830-8dfa-a29ecdc95006",
   "metadata": {},
   "outputs": [],
   "source": []
  }
 ],
 "metadata": {
  "kernelspec": {
   "display_name": "Python 3 (ipykernel)",
   "language": "python",
   "name": "python3"
  },
  "language_info": {
   "codemirror_mode": {
    "name": "ipython",
    "version": 3
   },
   "file_extension": ".py",
   "mimetype": "text/x-python",
   "name": "python",
   "nbconvert_exporter": "python",
   "pygments_lexer": "ipython3",
   "version": "3.10.0"
  }
 },
 "nbformat": 4,
 "nbformat_minor": 5
}
