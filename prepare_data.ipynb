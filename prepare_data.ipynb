{
 "cells": [
  {
   "cell_type": "code",
   "execution_count": 96,
   "id": "f48614bd-d4e2-44e3-907b-511f87ad4d55",
   "metadata": {},
   "outputs": [],
   "source": [
    "import os\n",
    "import glob\n",
    "import json\n",
    "from collections.abc import Iterable"
   ]
  },
  {
   "cell_type": "code",
   "execution_count": 97,
   "id": "8db7ad1a-7c74-4d9b-871d-a440397fb891",
   "metadata": {},
   "outputs": [],
   "source": [
    "def remove_duplicated_dicts(dictionaries):\n",
    "    unique_dicts = []\n",
    "    seen = set()\n",
    "    for dictionary in dictionaries:\n",
    "        keys = dictionary.keys()\n",
    "        temp_set = set()\n",
    "        seen_flag = False\n",
    "        for key in keys:\n",
    "            values = dictionary[key]\n",
    "            if isinstance(values, str):\n",
    "                if values in seen:\n",
    "                    seen_flag = True\n",
    "                    break\n",
    "                values = [values]\n",
    "            elif isinstance(values, Iterable):\n",
    "                if any(value in seen for value in values):\n",
    "                    seen_flag = True\n",
    "                    break\n",
    "            else:\n",
    "                raise Exception\n",
    "                \n",
    "            temp_set.update(values)\n",
    "        \n",
    "        if seen_flag:\n",
    "            continue\n",
    "    \n",
    "        seen.update(temp_set)\n",
    "        unique_dicts.append(dictionary)\n",
    "    return unique_dicts"
   ]
  },
  {
   "cell_type": "code",
   "execution_count": 98,
   "id": "0a7cf935-6eaa-4338-ad99-48a805cc9970",
   "metadata": {},
   "outputs": [],
   "source": [
    "json_gens = glob.glob(\"external/raw/*.json\")"
   ]
  },
  {
   "cell_type": "code",
   "execution_count": 99,
   "id": "de57de45-619c-48f5-afbc-fe41e9438630",
   "metadata": {},
   "outputs": [
    {
     "name": "stdout",
     "output_type": "stream",
     "text": [
      "File:  cities.json\n",
      "Init samples:  268\n",
      "Uniq samples:  253\n",
      "||||||||||||||||||||||||||||||||||||||||||||||||||\n",
      "File:  companies.json\n",
      "Init samples:  491\n",
      "Uniq samples:  463\n",
      "||||||||||||||||||||||||||||||||||||||||||||||||||\n",
      "File:  countries.json\n",
      "Init samples:  311\n",
      "Uniq samples:  181\n",
      "||||||||||||||||||||||||||||||||||||||||||||||||||\n",
      "File:  labs.json\n",
      "Init samples:  399\n",
      "Uniq samples:  386\n",
      "||||||||||||||||||||||||||||||||||||||||||||||||||\n",
      "File:  persons.json\n",
      "Init samples:  1075\n",
      "Uniq samples:  1075\n",
      "||||||||||||||||||||||||||||||||||||||||||||||||||\n"
     ]
    }
   ],
   "source": [
    "for json_gen in json_gens:\n",
    "    fname = os.path.basename(json_gen)\n",
    "    with open(json_gen) as f:\n",
    "        dictionaries = json.load(f)\n",
    "        \n",
    "    print(\"File: \", fname)\n",
    "    print(\"Init samples: \", len(dictionaries))\n",
    "    dictionaries = remove_duplicated_dicts(dictionaries)\n",
    "    print(\"Uniq samples: \", len(dictionaries))\n",
    "    print(\"|\" * 50)\n",
    "    with open(f\"external/clean/{fname}\", \"w\") as f:\n",
    "        json.dump(dictionaries, f)"
   ]
  }
 ],
 "metadata": {
  "kernelspec": {
   "display_name": "Python 3 (ipykernel)",
   "language": "python",
   "name": "python3"
  },
  "language_info": {
   "codemirror_mode": {
    "name": "ipython",
    "version": 3
   },
   "file_extension": ".py",
   "mimetype": "text/x-python",
   "name": "python",
   "nbconvert_exporter": "python",
   "pygments_lexer": "ipython3",
   "version": "3.10.0"
  }
 },
 "nbformat": 4,
 "nbformat_minor": 5
}
