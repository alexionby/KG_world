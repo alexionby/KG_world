{
 "cells": [
  {
   "cell_type": "markdown",
   "id": "4e553649-52fe-4f0c-b2f2-c58c274ad07b",
   "metadata": {
    "tags": []
   },
   "source": [
    "## ToDo:\n",
    "1. shuffle before train\n",
    "2. Do something with '\\n' and statement length"
   ]
  },
  {
   "cell_type": "code",
   "execution_count": 1,
   "id": "982722a0-01b2-4f4e-a5b6-8f45d733fe62",
   "metadata": {},
   "outputs": [],
   "source": [
    "import os, glob\n",
    "from IPython.display import Pretty\n",
    "from tqdm.notebook import tqdm"
   ]
  },
  {
   "cell_type": "code",
   "execution_count": 2,
   "id": "94ed0a9e-75a5-4dc6-98f9-12f58f52d2cc",
   "metadata": {},
   "outputs": [],
   "source": [
    "from transformers import GPT2LMHeadModel, GPT2Tokenizer, GPT2Config, AdamW\n",
    "from torch.utils.data import Dataset, DataLoader\n",
    "import torch\n",
    "from torch.cuda.amp import GradScaler, autocast"
   ]
  },
  {
   "cell_type": "code",
   "execution_count": 3,
   "id": "5445d8b1-47f9-41b5-94f4-63ba0c86767d",
   "metadata": {},
   "outputs": [],
   "source": [
    "import re\n",
    "import json\n",
    "import shutil\n",
    "import random"
   ]
  },
  {
   "cell_type": "code",
   "execution_count": 4,
   "id": "3a0eddd4-3460-4af7-9c11-87fce694e9f2",
   "metadata": {},
   "outputs": [],
   "source": [
    "with open(\"statements.txt\") as f:\n",
    "    data = f.read()"
   ]
  },
  {
   "cell_type": "code",
   "execution_count": 5,
   "id": "b6e7dd70-27dd-420e-bdec-ac7186d73727",
   "metadata": {},
   "outputs": [],
   "source": [
    "statements = data.split('\\n')[:-1]"
   ]
  },
  {
   "cell_type": "code",
   "execution_count": 6,
   "id": "11aef66d-9b6d-481c-9f7e-d8f4d4aadc1e",
   "metadata": {},
   "outputs": [],
   "source": [
    "left_part = [s.split(' | ')[0] + '\\n' for s in statements]\n",
    "right_part = [s.split(' | ')[1] + '\\n' for s in statements]"
   ]
  },
  {
   "cell_type": "code",
   "execution_count": 7,
   "id": "fddf84ac-68e7-4ad3-a884-9df95721efa4",
   "metadata": {},
   "outputs": [],
   "source": [
    "random.shuffle(left_part)\n",
    "random.shuffle(right_part)"
   ]
  },
  {
   "cell_type": "code",
   "execution_count": null,
   "id": "2f15cf17-1013-4b7e-a40d-b5a02ed9190c",
   "metadata": {},
   "outputs": [],
   "source": []
  },
  {
   "cell_type": "code",
   "execution_count": 8,
   "id": "09dd3bd5-57e4-4859-8eb0-74db9c34d818",
   "metadata": {},
   "outputs": [],
   "source": [
    "temp_data_dir = \"temp_train_txt\""
   ]
  },
  {
   "cell_type": "code",
   "execution_count": 9,
   "id": "285e4452-6090-4713-bd68-367edebf151c",
   "metadata": {},
   "outputs": [],
   "source": [
    "if os.path.exists(temp_data_dir):\n",
    "    shutil.rmtree(temp_data_dir)\n",
    "    \n",
    "os.makedirs(f\"{temp_data_dir}\", exist_ok=False)"
   ]
  },
  {
   "cell_type": "code",
   "execution_count": 10,
   "id": "901a8fdb-d3c3-48c6-a848-ecd24f5b86fd",
   "metadata": {},
   "outputs": [],
   "source": [
    "with open(f\"{temp_data_dir}/train.txt\", \"w\") as f:\n",
    "    f.writelines(left_part)\n",
    "    \n",
    "with open(f\"{temp_data_dir}/test.txt\", \"w\") as f:\n",
    "    f.writelines(right_part)"
   ]
  },
  {
   "cell_type": "code",
   "execution_count": 11,
   "id": "31fef297-9ee8-4d4c-8e04-03ef6f2127d8",
   "metadata": {},
   "outputs": [],
   "source": [
    "from transformers import AutoTokenizer\n",
    "\n",
    "tokenizer = AutoTokenizer.from_pretrained(\"gpt2\")\n",
    "\n",
    "train_path = f\"{temp_data_dir}/train.txt\"\n",
    "test_path = f\"{temp_data_dir}/test.txt\""
   ]
  },
  {
   "cell_type": "code",
   "execution_count": 12,
   "id": "3158c709-37e4-4ab8-8968-5abd1095f808",
   "metadata": {},
   "outputs": [],
   "source": [
    "# Loads cached tokenized text from `temp_train_txt`"
   ]
  },
  {
   "cell_type": "code",
   "execution_count": 13,
   "id": "14d322d3-500e-4922-9391-4721eeac6a19",
   "metadata": {},
   "outputs": [
    {
     "name": "stderr",
     "output_type": "stream",
     "text": [
      "C:\\ProgramData\\Anaconda3\\envs\\sd_xformers\\lib\\site-packages\\transformers\\data\\datasets\\language_modeling.py:53: FutureWarning: This dataset will be removed from the library soon, preprocessing should be handled with the 🤗 Datasets library. You can have a look at this example script for pointers: https://github.com/huggingface/transformers/blob/main/examples/pytorch/language-modeling/run_mlm.py\n",
      "  warnings.warn(\n",
      "Token indices sequence length is longer than the specified maximum sequence length for this model (101123 > 1024). Running this sequence through the model will result in indexing errors\n"
     ]
    }
   ],
   "source": [
    "from transformers import TextDataset, DataCollatorForLanguageModeling\n",
    "\n",
    "def load_dataset(train_path,test_path,tokenizer):\n",
    "    train_dataset = TextDataset(\n",
    "          tokenizer=tokenizer,\n",
    "          file_path=train_path,\n",
    "          block_size=128, )\n",
    "     \n",
    "    test_dataset = TextDataset(\n",
    "          tokenizer=tokenizer,\n",
    "          file_path=test_path,\n",
    "          block_size=128)   \n",
    "    \n",
    "    data_collator = DataCollatorForLanguageModeling(\n",
    "        tokenizer=tokenizer, \n",
    "        mlm=False,\n",
    "    )\n",
    "    return train_dataset, test_dataset, data_collator\n",
    "\n",
    "train_dataset, test_dataset, data_collator = load_dataset(train_path, test_path, tokenizer)"
   ]
  },
  {
   "cell_type": "code",
   "execution_count": 14,
   "id": "6670bed9-6867-4591-8831-4f758d29251f",
   "metadata": {},
   "outputs": [
    {
     "name": "stdout",
     "output_type": "stream",
     "text": [
      "The headquarter of Cometcore Technologies Inc. is in Starlight Station\n",
      "Moonveil Aeonwave was founded by Quantiphor Technologies LLC\n",
      "Nova Navigation Corp. conducts its business in Riftian Republic\n",
      "Meridian Markup is taught as a second language in Vastitas Vicariate\n",
      "Meteorite Molybdenum LLC conducts its business in Iani Imperium\n",
      "Vortexis Nebulawing worked in Lab for Bio-Integrated Nanomaterials\n",
      "Equatorial Enclave and Coerulean Commune are neighbours\n",
      "Twilix Starflame was founded by Astrolynx Corp.\n",
      "Mons\n",
      "||||||||||||||||||||||||||||||||||||||||||||||||||||||||||||||||||||||||||||||||||||||||||||||||||||\n",
      "Lab for Dark Matter Exploration and Simulation is a research partner of Cosmic Constructs Incorporated\n",
      "Stellaris Systems Security Corp. has a presence in Kasei Kingdom\n",
      "LIS is a research partner of Interstellar Ironworks Co.\n",
      "Company Neurixis Networks LLC operates within the realm of Interstellar Transportation\n",
      "Horizon Space Elevator Services Inc. has a presence in Galean Government\n",
      "Boreum Bloc ’ s diplomacy with Argyre Assembly\n",
      "Institute for High-Power Lasers was a place of employment for Skyris Fluxshadow\n",
      "Galaxias Government shares border with Argyre Assembly\n",
      "Exot\n"
     ]
    }
   ],
   "source": [
    "for tr,ts in zip(train_dataset, test_dataset):\n",
    "    print(tokenizer.decode(tr))\n",
    "    print(\"|\" * 100)\n",
    "    print(tokenizer.decode(ts))\n",
    "    break"
   ]
  },
  {
   "cell_type": "code",
   "execution_count": null,
   "id": "d52a97a0-4bab-41e6-bf9a-271e84b388fa",
   "metadata": {},
   "outputs": [],
   "source": []
  },
  {
   "cell_type": "code",
   "execution_count": 15,
   "id": "1fee0b24-3a7b-4dd7-9e17-f1d8c97221d8",
   "metadata": {},
   "outputs": [],
   "source": [
    "from torch.nn import functional as F\n",
    "import numpy as np"
   ]
  },
  {
   "cell_type": "code",
   "execution_count": 16,
   "id": "a9683c81-5eb5-4475-ab6f-f87c6822e991",
   "metadata": {},
   "outputs": [],
   "source": [
    "def compute_metrics(eval_pred):\n",
    "    logits, labels = eval_pred\n",
    "    ignore_index = tokenizer.pad_token_id\n",
    "    loss = F.cross_entropy(logits.view(-1, logits.shape[-1]), labels.view(-1), ignore_index=ignore_index)\n",
    "    return {'perplexity': torch.exp(loss)}"
   ]
  },
  {
   "cell_type": "code",
   "execution_count": 17,
   "id": "50016634-9f0c-4fd8-b1ab-b5ccf92656ab",
   "metadata": {},
   "outputs": [],
   "source": [
    "def preprocess_logits_for_metrics(logits, labels):\n",
    "    \"\"\"\n",
    "    Original Trainer may have a memory leak. \n",
    "    This is a workaround to avoid storing too many tensors that are not needed.\n",
    "    \"\"\"\n",
    "    pred_ids = torch.argmax(logits[0], dim=-1)\n",
    "    return pred_ids, labels"
   ]
  },
  {
   "cell_type": "code",
   "execution_count": 18,
   "id": "d903d9f6-0220-4167-8525-782060ed6d21",
   "metadata": {},
   "outputs": [],
   "source": [
    "from transformers import Trainer, TrainingArguments, AutoModelForCausalLM\n",
    "\n",
    "model = AutoModelForCausalLM.from_pretrained(\"gpt2\")\n",
    "\n",
    "training_args = TrainingArguments(\n",
    "    output_dir=\"temp_files/gpt2-trainer\", #The output directory\n",
    "    overwrite_output_dir=True, #overwrite the content of the output directory\n",
    "    num_train_epochs=8, # number of training epochs\n",
    "    per_device_train_batch_size=16, # batch size for training\n",
    "    per_device_eval_batch_size=32,  # batch size for evaluation\n",
    "    evaluation_strategy=\"steps\",\n",
    "    learning_rate=1e-4,\n",
    "    logging_steps=100,\n",
    "    eval_steps = 100, # Number of update steps between two evaluations.\n",
    "    save_steps=500, # after # steps model is saved \n",
    "    warmup_steps=100,# number of warmup steps for learning rate scheduler\n",
    "    gradient_accumulation_steps=2,\n",
    "    # gradient_checkpointing= ???\n",
    "    # prediction_loss_only=True,\n",
    "    # eval_accumulation_steps=32,\n",
    "    )\n",
    "\n",
    "\n",
    "trainer = Trainer(\n",
    "    model=model,\n",
    "    args=training_args,\n",
    "    data_collator=data_collator,\n",
    "    train_dataset=train_dataset,\n",
    "    eval_dataset=test_dataset,\n",
    "    # preprocess_logits_for_metrics=preprocess_logits_for_metrics,\n",
    "    # compute_metrics=compute_metrics,\n",
    ")"
   ]
  },
  {
   "cell_type": "code",
   "execution_count": null,
   "id": "9d8c274b-4742-487f-ab11-1ee4f6a0a9a2",
   "metadata": {},
   "outputs": [],
   "source": []
  },
  {
   "cell_type": "code",
   "execution_count": 19,
   "id": "2b290371-7c29-42d9-bf6c-931521b71d33",
   "metadata": {},
   "outputs": [
    {
     "name": "stderr",
     "output_type": "stream",
     "text": [
      "C:\\ProgramData\\Anaconda3\\envs\\sd_xformers\\lib\\site-packages\\transformers\\optimization.py:407: FutureWarning: This implementation of AdamW is deprecated and will be removed in a future version. Use the PyTorch implementation torch.optim.AdamW instead, or set `no_deprecation_warning=True` to disable this warning\n",
      "  warnings.warn(\n",
      "\u001b[34m\u001b[1mwandb\u001b[0m: Currently logged in as: \u001b[33malexionon\u001b[0m. Use \u001b[1m`wandb login --relogin`\u001b[0m to force relogin\n"
     ]
    },
    {
     "data": {
      "text/html": [
       "wandb version 0.15.5 is available!  To upgrade, please run:\n",
       " $ pip install wandb --upgrade"
      ],
      "text/plain": [
       "<IPython.core.display.HTML object>"
      ]
     },
     "metadata": {},
     "output_type": "display_data"
    },
    {
     "data": {
      "text/html": [
       "Tracking run with wandb version 0.15.4"
      ],
      "text/plain": [
       "<IPython.core.display.HTML object>"
      ]
     },
     "metadata": {},
     "output_type": "display_data"
    },
    {
     "data": {
      "text/html": [
       "Run data is saved locally in <code>C:\\Projects\\KG_world\\wandb\\run-20230712_151449-6s6str3m</code>"
      ],
      "text/plain": [
       "<IPython.core.display.HTML object>"
      ]
     },
     "metadata": {},
     "output_type": "display_data"
    },
    {
     "data": {
      "text/html": [
       "Syncing run <strong><a href='https://wandb.ai/alexionon/huggingface/runs/6s6str3m' target=\"_blank\">giddy-frost-17</a></strong> to <a href='https://wandb.ai/alexionon/huggingface' target=\"_blank\">Weights & Biases</a> (<a href='https://wandb.me/run' target=\"_blank\">docs</a>)<br/>"
      ],
      "text/plain": [
       "<IPython.core.display.HTML object>"
      ]
     },
     "metadata": {},
     "output_type": "display_data"
    },
    {
     "data": {
      "text/html": [
       " View project at <a href='https://wandb.ai/alexionon/huggingface' target=\"_blank\">https://wandb.ai/alexionon/huggingface</a>"
      ],
      "text/plain": [
       "<IPython.core.display.HTML object>"
      ]
     },
     "metadata": {},
     "output_type": "display_data"
    },
    {
     "data": {
      "text/html": [
       " View run at <a href='https://wandb.ai/alexionon/huggingface/runs/6s6str3m' target=\"_blank\">https://wandb.ai/alexionon/huggingface/runs/6s6str3m</a>"
      ],
      "text/plain": [
       "<IPython.core.display.HTML object>"
      ]
     },
     "metadata": {},
     "output_type": "display_data"
    },
    {
     "data": {
      "text/html": [
       "\n",
       "    <div>\n",
       "      \n",
       "      <progress value='200' max='200' style='width:300px; height:20px; vertical-align: middle;'></progress>\n",
       "      [200/200 02:00, Epoch 8/8]\n",
       "    </div>\n",
       "    <table border=\"1\" class=\"dataframe\">\n",
       "  <thead>\n",
       " <tr style=\"text-align: left;\">\n",
       "      <th>Step</th>\n",
       "      <th>Training Loss</th>\n",
       "      <th>Validation Loss</th>\n",
       "    </tr>\n",
       "  </thead>\n",
       "  <tbody>\n",
       "    <tr>\n",
       "      <td>100</td>\n",
       "      <td>3.192800</td>\n",
       "      <td>3.689155</td>\n",
       "    </tr>\n",
       "    <tr>\n",
       "      <td>200</td>\n",
       "      <td>1.463000</td>\n",
       "      <td>3.575090</td>\n",
       "    </tr>\n",
       "  </tbody>\n",
       "</table><p>"
      ],
      "text/plain": [
       "<IPython.core.display.HTML object>"
      ]
     },
     "metadata": {},
     "output_type": "display_data"
    },
    {
     "data": {
      "text/plain": [
       "TrainOutput(global_step=200, training_loss=2.3279076385498048, metrics={'train_runtime': 125.463, 'train_samples_per_second': 50.373, 'train_steps_per_second': 1.594, 'total_flos': 412841410560000.0, 'train_loss': 2.3279076385498048, 'epoch': 8.0})"
      ]
     },
     "execution_count": 19,
     "metadata": {},
     "output_type": "execute_result"
    }
   ],
   "source": [
    "trainer.train()"
   ]
  },
  {
   "cell_type": "code",
   "execution_count": 29,
   "id": "cb0a3987-7616-44d6-af0d-1e85e0274b0a",
   "metadata": {},
   "outputs": [],
   "source": [
    "trainer.save_model()"
   ]
  },
  {
   "cell_type": "code",
   "execution_count": null,
   "id": "adf547f6-2b53-4ddc-a11a-133aa4212d66",
   "metadata": {},
   "outputs": [],
   "source": []
  },
  {
   "cell_type": "code",
   "execution_count": 21,
   "id": "4bf05796-dd17-4a5f-8c32-f1bcaf1334aa",
   "metadata": {},
   "outputs": [
    {
     "name": "stderr",
     "output_type": "stream",
     "text": [
      "A matching Triton is not available, some optimizations will not be enabled.\n",
      "Error caught was: No module named 'triton'\n"
     ]
    }
   ],
   "source": [
    "from transformers import pipeline\n",
    "\n",
    "kg_world = pipeline('text-generation', model='./temp_files/gpt2-trainer', tokenizer='gpt2', max_length=128)"
   ]
  },
  {
   "cell_type": "code",
   "execution_count": 22,
   "id": "fbea4d74-7f42-48d7-93a7-9036bb9a229c",
   "metadata": {},
   "outputs": [
    {
     "name": "stdout",
     "output_type": "stream",
     "text": [
      "tensor([17822,   329,  3801, 16900, 36806,   290, 41798,   318,   257,  2267,\n",
      "         5212,   286, 32011, 28407,    82,  3457, 40132,   198,  7447,   297,\n",
      "        20066, 11998,  4765, 11421,    13,   468,   257,  4931,   287,   509,\n",
      "          589,    72,  7526,   198,    43,  1797,   318,   257,  2267,  5212,\n",
      "          286, 49041,  7931,  5225,  1766,    13,   198, 39154,  3169,   333,\n",
      "          844,   271, 27862, 11419, 14051,  1626,   262, 13360,   286, 49041,\n",
      "        15198,   198, 27991,  8637,  4687, 37881,  1352,  6168,  3457,    13,\n",
      "          468,   257,  4931,   287, 36483,   272,  5070,   198,    33,   382,\n",
      "          388,  1086,   420,   564,   247,   264, 25482,   351,   943,  1360,\n",
      "          260, 10006,   198,  6310,  3678,   329,  3334,    12, 13434, 10123,\n",
      "          364,   373,   257,  1295,   286,  7184,   329,  3661,  2417,   271,\n",
      "         1610,  2821, 19106,   198, 26552,   897,  4448,  5070,  7303,  4865,\n",
      "          351,   943,  1360,   260, 10006,   198,  3109,   313])\n"
     ]
    }
   ],
   "source": [
    "for sample in test_dataset:\n",
    "    print(sample)\n",
    "    break"
   ]
  },
  {
   "cell_type": "code",
   "execution_count": 23,
   "id": "7a907b29-a8c8-4743-b8bf-1592b9767ab5",
   "metadata": {},
   "outputs": [
    {
     "data": {
      "text/plain": [
       "['Lab for Dark Matter Exploration and Simulation is a research partner of Cosmic Constructs Incorporated',\n",
       " 'Stellaris Systems Security Corp. has a presence in Kasei Kingdom',\n",
       " 'LIS is a research partner of Interstellar Ironworks Co.',\n",
       " 'Company Neurixis Networks LLC operates within the realm of Interstellar Transportation',\n",
       " 'Horizon Space Elevator Services Inc. has a presence in Galean Government',\n",
       " 'Boreum Bloc ’ s diplomacy with Argyre Assembly',\n",
       " 'Institute for High-Power Lasers was a place of employment for Skyris Fluxshadow',\n",
       " 'Galaxias Government shares border with Argyre Assembly',\n",
       " 'Exot']"
      ]
     },
     "execution_count": 23,
     "metadata": {},
     "output_type": "execute_result"
    }
   ],
   "source": [
    "tokenizer.decode(sample).split('\\n')"
   ]
  },
  {
   "cell_type": "code",
   "execution_count": 24,
   "id": "c8dcf25c-f817-4833-9abf-8a8c44f236fd",
   "metadata": {},
   "outputs": [
    {
     "name": "stderr",
     "output_type": "stream",
     "text": [
      "Setting `pad_token_id` to `eos_token_id`:50256 for open-end generation.\n"
     ]
    },
    {
     "data": {
      "text/plain": [
       "Dustian Confederacy shares border with Vulcanian Vicinity\n",
       "Horizon Astralcraft Manufacturing LLC collaborates with LASE\n",
       "The official language of Mangala Monarchy is Zephyria Zenith\n",
       "Horizon Aerospace Inc. collaborates with LAS\n",
       "Interstellar Infrastructure LLC conducts its business in Deuteronilus Domain\n",
       "Martian Food Production LLC conducts its business in Elysium Enclave\n",
       "The primary language of communication in Quadrans Quorum is Venus Vernacular\n",
       "The headquarter of Solarshadow Systems AG is in Hellas Hierarchy\n",
       "The business direction of company Planetary Power Generation LLC is Cosmic Geometrics\n",
       "Oxia Order maintains"
      ]
     },
     "execution_count": 24,
     "metadata": {},
     "output_type": "execute_result"
    }
   ],
   "source": [
    "output = kg_world('Dustian Confederacy shares border')\n",
    "Pretty(output[0]['generated_text'])"
   ]
  },
  {
   "cell_type": "code",
   "execution_count": null,
   "id": "b5382c9b-6eb4-4a42-9e10-cbd8b7720196",
   "metadata": {},
   "outputs": [],
   "source": []
  },
  {
   "cell_type": "markdown",
   "id": "0362b29d-44c8-4a13-b5bd-e0979a31de8f",
   "metadata": {},
   "source": [
    "### Returning token proba"
   ]
  },
  {
   "cell_type": "code",
   "execution_count": 31,
   "id": "76998f03-33d5-4473-b66d-fff07ad53578",
   "metadata": {},
   "outputs": [],
   "source": [
    "from transformers import GenerationConfig"
   ]
  },
  {
   "cell_type": "code",
   "execution_count": 36,
   "id": "14d5264c-cfd0-4b35-95ad-1cc714e8246f",
   "metadata": {},
   "outputs": [],
   "source": [
    "tokenizer = GPT2Tokenizer.from_pretrained('gpt2')\n",
    "model = GPT2LMHeadModel.from_pretrained('./temp_files/gpt2-trainer')"
   ]
  },
  {
   "cell_type": "code",
   "execution_count": 54,
   "id": "42481dbc-ced8-4c84-af8b-832ae09b6e41",
   "metadata": {},
   "outputs": [
    {
     "data": {
      "text/plain": [
       "\u001b[1;31mInit signature:\u001b[0m \u001b[0mGenerationConfig\u001b[0m\u001b[1;33m(\u001b[0m\u001b[1;33m**\u001b[0m\u001b[0mkwargs\u001b[0m\u001b[1;33m)\u001b[0m\u001b[1;33m\u001b[0m\u001b[1;33m\u001b[0m\u001b[0m\n",
       "\u001b[1;31mDocstring:\u001b[0m     \n",
       "Class that holds a configuration for a generation task. A `generate` call supports the following generation methods\n",
       "for text-decoder, text-to-text, speech-to-text, and vision-to-text models:\n",
       "\n",
       "    - *greedy decoding* by calling [`~generation.GenerationMixin.greedy_search`] if `num_beams=1` and\n",
       "        `do_sample=False`\n",
       "    - *contrastive search* by calling [`~generation.GenerationMixin.contrastive_search`] if `penalty_alpha>0.`\n",
       "        and `top_k>1`\n",
       "    - *multinomial sampling* by calling [`~generation.GenerationMixin.sample`] if `num_beams=1` and\n",
       "        `do_sample=True`\n",
       "    - *beam-search decoding* by calling [`~generation.GenerationMixin.beam_search`] if `num_beams>1` and\n",
       "        `do_sample=False`\n",
       "    - *beam-search multinomial sampling* by calling [`~generation.GenerationMixin.beam_sample`] if\n",
       "        `num_beams>1` and `do_sample=True`\n",
       "    - *diverse beam-search decoding* by calling [`~generation.GenerationMixin.group_beam_search`], if\n",
       "        `num_beams>1` and `num_beam_groups>1`\n",
       "    - *constrained beam-search decoding* by calling [`~generation.GenerationMixin.constrained_beam_search`], if\n",
       "        `constraints!=None` or `force_words_ids!=None`\n",
       "    - *assisted decoding* by calling [`~generation.GenerationMixin.assisted_decoding`], if\n",
       "        `assistant_model` is passed to `.generate()`\n",
       "\n",
       "You do not need to call any of the above methods directly. Pass custom parameter values to '.generate()'. To learn\n",
       "more about decoding strategies refer to the [text generation strategies guide](../generation_strategies).\n",
       "\n",
       "Arg:\n",
       "    > Parameters that control the length of the output\n",
       "\n",
       "    max_length (`int`, *optional*, defaults to 20):\n",
       "        The maximum length the generated tokens can have. Corresponds to the length of the input prompt +\n",
       "        `max_new_tokens`. Its effect is overridden by `max_new_tokens`, if also set.\n",
       "    max_new_tokens (`int`, *optional*):\n",
       "        The maximum numbers of tokens to generate, ignoring the number of tokens in the prompt.\n",
       "    min_length (`int`, *optional*, defaults to 0):\n",
       "        The minimum length of the sequence to be generated. Corresponds to the length of the input prompt +\n",
       "        `min_new_tokens`. Its effect is overridden by `min_new_tokens`, if also set.\n",
       "    min_new_tokens (`int`, *optional*):\n",
       "        The minimum numbers of tokens to generate, ignoring the number of tokens in the prompt.\n",
       "    early_stopping (`bool` or `str`, *optional*, defaults to `False`):\n",
       "        Controls the stopping condition for beam-based methods, like beam-search. It accepts the following values:\n",
       "        `True`, where the generation stops as soon as there are `num_beams` complete candidates; `False`, where an\n",
       "        heuristic is applied and the generation stops when is it very unlikely to find better candidates;\n",
       "        `\"never\"`, where the beam search procedure only stops when there cannot be better candidates (canonical\n",
       "        beam search algorithm).\n",
       "    max_time(`float`, *optional*):\n",
       "        The maximum amount of time you allow the computation to run for in seconds. generation will still finish\n",
       "        the current pass after allocated time has been passed.\n",
       "\n",
       "    > Parameters that control the generation strategy used\n",
       "\n",
       "    do_sample (`bool`, *optional*, defaults to `False`):\n",
       "        Whether or not to use sampling ; use greedy decoding otherwise.\n",
       "    num_beams (`int`, *optional*, defaults to 1):\n",
       "        Number of beams for beam search. 1 means no beam search.\n",
       "    num_beam_groups (`int`, *optional*, defaults to 1):\n",
       "        Number of groups to divide `num_beams` into in order to ensure diversity among different groups of beams.\n",
       "        [this paper](https://arxiv.org/pdf/1610.02424.pdf) for more details.\n",
       "    penalty_alpha (`float`, *optional*):\n",
       "        The values balance the model confidence and the degeneration penalty in contrastive search decoding.\n",
       "    use_cache (`bool`, *optional*, defaults to `True`):\n",
       "        Whether or not the model should use the past last key/values attentions (if applicable to the model) to\n",
       "        speed up decoding.\n",
       "\n",
       "    > Parameters for manipulation of the model output logits\n",
       "\n",
       "    temperature (`float`, *optional*, defaults to 1.0):\n",
       "        The value used to modulate the next token probabilities.\n",
       "    top_k (`int`, *optional*, defaults to 50):\n",
       "        The number of highest probability vocabulary tokens to keep for top-k-filtering.\n",
       "    top_p (`float`, *optional*, defaults to 1.0):\n",
       "        If set to float < 1, only the smallest set of most probable tokens with probabilities that add up to\n",
       "        `top_p` or higher are kept for generation.\n",
       "    typical_p (`float`, *optional*, defaults to 1.0):\n",
       "        Local typicality measures how similar the conditional probability of predicting a target token next is to\n",
       "        the expected conditional probability of predicting a random token next, given the partial text already\n",
       "        generated. If set to float < 1, the smallest set of the most locally typical tokens with probabilities that\n",
       "        add up to `typical_p` or higher are kept for generation. See [this\n",
       "        paper](https://arxiv.org/pdf/2202.00666.pdf) for more details.\n",
       "    epsilon_cutoff (`float`, *optional*, defaults to 0.0):\n",
       "        If set to float strictly between 0 and 1, only tokens with a conditional probability greater than\n",
       "        `epsilon_cutoff` will be sampled. In the paper, suggested values range from 3e-4 to 9e-4, depending on the\n",
       "        size of the model. See [Truncation Sampling as Language Model\n",
       "        Desmoothing](https://arxiv.org/abs/2210.15191) for more details.\n",
       "    eta_cutoff (`float`, *optional*, defaults to 0.0):\n",
       "        Eta sampling is a hybrid of locally typical sampling and epsilon sampling. If set to float strictly between\n",
       "        0 and 1, a token is only considered if it is greater than either `eta_cutoff` or `sqrt(eta_cutoff) *\n",
       "        exp(-entropy(softmax(next_token_logits)))`. The latter term is intuitively the expected next token\n",
       "        probability, scaled by `sqrt(eta_cutoff)`. In the paper, suggested values range from 3e-4 to 2e-3,\n",
       "        depending on the size of the model. See [Truncation Sampling as Language Model\n",
       "        Desmoothing](https://arxiv.org/abs/2210.15191) for more details.\n",
       "    diversity_penalty (`float`, *optional*, defaults to 0.0):\n",
       "        This value is subtracted from a beam's score if it generates a token same as any beam from other group at a\n",
       "        particular time. Note that `diversity_penalty` is only effective if `group beam search` is enabled.\n",
       "    repetition_penalty (`float`, *optional*, defaults to 1.0):\n",
       "        The parameter for repetition penalty. 1.0 means no penalty. See [this\n",
       "        paper](https://arxiv.org/pdf/1909.05858.pdf) for more details.\n",
       "    encoder_repetition_penalty (`float`, *optional*, defaults to 1.0):\n",
       "        The paramater for encoder_repetition_penalty. An exponential penalty on sequences that are not in the\n",
       "        original input. 1.0 means no penalty.\n",
       "    length_penalty (`float`, *optional*, defaults to 1.0):\n",
       "        Exponential penalty to the length that is used with beam-based generation. It is applied as an exponent to\n",
       "        the sequence length, which in turn is used to divide the score of the sequence. Since the score is the log\n",
       "        likelihood of the sequence (i.e. negative), `length_penalty` > 0.0 promotes longer sequences, while\n",
       "        `length_penalty` < 0.0 encourages shorter sequences.\n",
       "    no_repeat_ngram_size (`int`, *optional*, defaults to 0):\n",
       "        If set to int > 0, all ngrams of that size can only occur once.\n",
       "    bad_words_ids(`List[List[int]]`, *optional*):\n",
       "        List of token ids that are not allowed to be generated. In order to get the token ids of the words that\n",
       "        should not appear in the generated text, use `tokenizer(bad_words, add_prefix_space=True,\n",
       "        add_special_tokens=False).input_ids`.\n",
       "    force_words_ids(`List[List[int]]` or `List[List[List[int]]]`, *optional*):\n",
       "        List of token ids that must be generated. If given a `List[List[int]]`, this is treated as a simple list of\n",
       "        words that must be included, the opposite to `bad_words_ids`. If given `List[List[List[int]]]`, this\n",
       "        triggers a [disjunctive constraint](https://github.com/huggingface/transformers/issues/14081), where one\n",
       "        can allow different forms of each word.\n",
       "    renormalize_logits (`bool`, *optional*, defaults to `False`):\n",
       "        Whether to renormalize the logits after applying all the logits processors or warpers (including the custom\n",
       "        ones). It's highly recommended to set this flag to `True` as the search algorithms suppose the score logits\n",
       "        are normalized but some logit processors or warpers break the normalization.\n",
       "    constraints (`List[Constraint]`, *optional*):\n",
       "        Custom constraints that can be added to the generation to ensure that the output will contain the use of\n",
       "        certain tokens as defined by `Constraint` objects, in the most sensible way possible.\n",
       "    forced_bos_token_id (`int`, *optional*, defaults to `model.config.forced_bos_token_id`):\n",
       "        The id of the token to force as the first generated token after the `decoder_start_token_id`. Useful for\n",
       "        multilingual models like [mBART](../model_doc/mbart) where the first generated token needs to be the target\n",
       "        language token.\n",
       "    forced_eos_token_id (`Union[int, List[int]]`, *optional*, defaults to `model.config.forced_eos_token_id`):\n",
       "        The id of the token to force as the last generated token when `max_length` is reached. Optionally, use a\n",
       "        list to set multiple *end-of-sequence* tokens.\n",
       "    remove_invalid_values (`bool`, *optional*, defaults to `model.config.remove_invalid_values`):\n",
       "        Whether to remove possible *nan* and *inf* outputs of the model to prevent the generation method to crash.\n",
       "        Note that using `remove_invalid_values` can slow down generation.\n",
       "    exponential_decay_length_penalty (`tuple(int, float)`, *optional*):\n",
       "        This Tuple adds an exponentially increasing length penalty, after a certain amount of tokens have been\n",
       "        generated. The tuple shall consist of: `(start_index, decay_factor)` where `start_index` indicates where\n",
       "        penalty starts and `decay_factor` represents the factor of exponential decay\n",
       "    suppress_tokens  (`List[int]`, *optional*):\n",
       "        A list of tokens that will be suppressed at generation. The `SupressTokens` logit processor will set their\n",
       "        log probs to `-inf` so that they are not sampled.\n",
       "    begin_suppress_tokens  (`List[int]`, *optional*):\n",
       "        A list of tokens that will be suppressed at the beginning of the generation. The `SupressBeginTokens` logit\n",
       "        processor will set their log probs to `-inf` so that they are not sampled.\n",
       "    forced_decoder_ids (`List[List[int]]`, *optional*):\n",
       "        A list of pairs of integers which indicates a mapping from generation indices to token indices that will be\n",
       "        forced before sampling. For example, `[[1, 123]]` means the second generated token will always be a token\n",
       "        of index 123.\n",
       "\n",
       "    > Parameters that define the output variables of `generate`\n",
       "\n",
       "    num_return_sequences(`int`, *optional*, defaults to 1):\n",
       "        The number of independently computed returned sequences for each element in the batch.\n",
       "    output_attentions (`bool`, *optional*, defaults to `False`):\n",
       "        Whether or not to return the attentions tensors of all attention layers. See `attentions` under returned\n",
       "        tensors for more details.\n",
       "    output_hidden_states (`bool`, *optional*, defaults to `False`):\n",
       "        Whether or not to return the hidden states of all layers. See `hidden_states` under returned tensors for\n",
       "        more details.\n",
       "    output_scores (`bool`, *optional*, defaults to `False`):\n",
       "        Whether or not to return the prediction scores. See `scores` under returned tensors for more details.\n",
       "    return_dict_in_generate (`bool`, *optional*, defaults to `False`):\n",
       "        Whether or not to return a [`~utils.ModelOutput`] instead of a plain tuple.\n",
       "\n",
       "    > Special tokens that can be used at generation time\n",
       "\n",
       "    pad_token_id (`int`, *optional*):\n",
       "        The id of the *padding* token.\n",
       "    bos_token_id (`int`, *optional*):\n",
       "        The id of the *beginning-of-sequence* token.\n",
       "    eos_token_id (`Union[int, List[int]]`, *optional*):\n",
       "        The id of the *end-of-sequence* token. Optionally, use a list to set multiple *end-of-sequence* tokens.\n",
       "\n",
       "    > Generation parameters exclusive to encoder-decoder models\n",
       "\n",
       "    encoder_no_repeat_ngram_size (`int`, *optional*, defaults to 0):\n",
       "        If set to int > 0, all ngrams of that size that occur in the `encoder_input_ids` cannot occur in the\n",
       "        `decoder_input_ids`.\n",
       "    decoder_start_token_id (`int`, *optional*):\n",
       "        If an encoder-decoder model starts decoding with a different token than *bos*, the id of that token.\n",
       "\n",
       "    > Wild card\n",
       "\n",
       "    generation_kwargs:\n",
       "        Additional generation kwargs will be forwarded to the `generate` function of the model. Kwargs that are not\n",
       "        present in `generate`'s signature will be used in the model forward pass.\n",
       "\u001b[1;31mFile:\u001b[0m           c:\\programdata\\anaconda3\\envs\\sd_xformers\\lib\\site-packages\\transformers\\generation\\configuration_utils.py\n",
       "\u001b[1;31mType:\u001b[0m           type\n",
       "\u001b[1;31mSubclasses:\u001b[0m     \n"
      ]
     },
     "metadata": {},
     "output_type": "display_data"
    }
   ],
   "source": [
    "?GenerationConfig"
   ]
  },
  {
   "cell_type": "code",
   "execution_count": 55,
   "id": "18663852-ec9e-4291-97c3-1ad6cd7af77f",
   "metadata": {},
   "outputs": [],
   "source": [
    "generation_config = GenerationConfig(max_new_tokens=128, pad_token_id=502, do_sample=False)\n",
    "tokenizer.pad_token_id = tokenizer.eos_token_id"
   ]
  },
  {
   "cell_type": "code",
   "execution_count": 56,
   "id": "83578d43-f3d5-44b7-a33e-8ed5d4b1bd03",
   "metadata": {},
   "outputs": [
    {
     "name": "stdout",
     "output_type": "stream",
     "text": [
      "The capital of Dustian Confederacy is Dust Haven\n",
      "The headquarter of Orbit Ore Organics Inc. is in Mars Reconnaissance\n",
      "The headquarter of Orbit Ore Organics Inc. is in Mars Reconnaissance\n",
      "The business direction of company Orbit Ore Organics Inc. is Space Tourism\n",
      "The business direction of company Orbit Ore Organics Inc. is Space Tourism\n",
      "The headquarter of Orbit Ore Organics Inc. is in Mars Reconnaissance\n",
      "The business direction of company Orbit Ore Organics Inc. is Space Tourism\n",
      "The headquarter of Orbit Ore Organics Inc. is in Mars Reconnaissance\n",
      "The headquarter of Orbit Ore Organics Inc. is in Mars Reconnaissance\n",
      "The business\n"
     ]
    }
   ],
   "source": [
    "text = 'The capital of Dustian Confederacy is Dust Haven'\n",
    "encoded_input = tokenizer(text, return_tensors='pt')\n",
    "output = model.generate(encoded_input['input_ids'], generation_config=generation_config)\n",
    "\n",
    "decoded_output = tokenizer.decode(output[0], skip_special_tokens=True)\n",
    "print(decoded_output)"
   ]
  },
  {
   "cell_type": "code",
   "execution_count": 57,
   "id": "7a46ed0d-69e2-473a-a8a8-43ea2c533e62",
   "metadata": {},
   "outputs": [
    {
     "name": "stdout",
     "output_type": "stream",
     "text": [
      "Orbit Ore Organics Inc. has a presence in Sirenum Sovereignty\n",
      "Orbit Ore Organics Inc. has a presence in Utopia Union\n",
      "Lab for Multibeam Systems is a research partner of Orbit Ore Organics Inc.\n",
      "Orbit Ore Organics Inc. has its central office located in Mars Reconnaissance\n",
      "LMS is a research partner of Orbit Ore Organics Inc.\n",
      "Company Orbit Ore Organics Inc. operates within the realm of Radiation-Resistant Materials\n",
      "Orbit Ore Organics Inc. established Voidix Nebulaspark\n"
     ]
    }
   ],
   "source": [
    "_ = [print(rp[:-1]) for rp in right_part if \"Orbit Ore Organics Inc.\" in rp]"
   ]
  },
  {
   "cell_type": "code",
   "execution_count": 27,
   "id": "6144704e-48ea-4ae7-93e3-248acce65e65",
   "metadata": {},
   "outputs": [
    {
     "data": {
      "text/plain": [
       "tensor([  464,  3139,   286, 16240,   666, 45252,   318, 16240, 21425])"
      ]
     },
     "execution_count": 27,
     "metadata": {},
     "output_type": "execute_result"
    }
   ],
   "source": [
    "res = model(encoded_input['input_ids'])\n",
    "encoded_input['input_ids'][0]"
   ]
  },
  {
   "cell_type": "code",
   "execution_count": 28,
   "id": "9aa939b7-f795-4c9d-beb7-69c2ac7deff4",
   "metadata": {},
   "outputs": [
    {
     "name": "stdout",
     "output_type": "stream",
     "text": [
      "The --- ['\\n', ' head', ' business', ' company', ' is']\n",
      "(('\\n', 0.019495836), (' head', 0.018136313), (' business', 0.013535057), (' company', 0.01245116), (' is', 0.009103105))\n",
      "The capital --- [' of', ' is', '-', ' and', ' Ast']\n",
      "((' of', 0.99265975), (' is', 0.004106097), ('-', 0.00064774865), (' and', 0.0005198814), (' Ast', 0.0002066589))\n",
      "The capital of --- [' Vall', ' D', ' Ph', ' Sab', ' Is']\n",
      "((' Vall', 0.035512768), (' D', 0.031669684), (' Ph', 0.026064288), (' Sab', 0.022697281), (' Is', 0.02237098))\n",
      "The capital of Dust --- ['ian', 'ia', 'loop', ' Storm', ' Republic']\n",
      "(('ian', 0.9483384), ('ia', 0.023370262), ('loop', 0.0027942478), (' Storm', 0.0025316444), (' Republic', 0.0018459271))\n",
      "The capital of Dustian --- [' Confederacy', ' Federation', ' Republic', ' Empire', ' D']\n",
      "((' Confederacy', 0.99843293), (' Federation', 0.00046676266), (' Republic', 0.00044753397), (' Empire', 0.00020720686), (' D', 0.00010761568))\n",
      "The capital of Dustian Confederacy --- [' is', '\\n', ' and', ' maintains', ' are']\n",
      "((' is', 0.9484409), ('\\n', 0.032970972), (' and', 0.012867465), (' maintains', 0.0036649685), (' are', 0.001673815))\n",
      "The capital of Dustian Confederacy is --- [' in', ' Vulcan', ' Terra', ' Mars', ' Sol']\n",
      "((' in', 0.17838635), (' Vulcan', 0.036411), (' Terra', 0.032922212), (' Mars', 0.028703436), (' Sol', 0.02712781))\n",
      "The capital of Dustian Confederacy is Dust --- ['ian', 'y', ' Alley', ' Storm', 'ia']\n",
      "(('ian', 0.907128), ('y', 0.018028406), (' Alley', 0.013461508), (' Storm', 0.009386325), ('ia', 0.0067905956))\n",
      "The capital of Dustian Confederacy is Dust Haven --- ['\\n', ' Comm', '-', ' D', 's']\n",
      "(('\\n', 0.91246545), (' Comm', 0.016169308), ('-', 0.014069162), (' D', 0.012328961), ('s', 0.0070397453))\n"
     ]
    }
   ],
   "source": [
    "with torch.no_grad():\n",
    "\n",
    "    res = model(encoded_input['input_ids'])\n",
    "    encoded_input['input_ids'][0]\n",
    "\n",
    "    for idx, (token, token_idx) in enumerate(zip(res.logits[0], encoded_input['input_ids'][0]), start=1):\n",
    "        # convert to probabilities (softmax function)\n",
    "        probabilities = torch.nn.functional.softmax(token, dim=-1)\n",
    "\n",
    "        # pick the token with the highest probability or sample from the distribution\n",
    "        # next_token = torch.argmax(probabilities, dim=-1)\n",
    "        _, next_token = torch.topk(probabilities, 5, dim=-1)\n",
    "        # next_token = torch.multinomial(probabilities, num_samples=10)\n",
    "\n",
    "        # decode it back to a token\n",
    "        decoded_token = [tokenizer.decode(t) for t in next_token]\n",
    "\n",
    "        print(tokenizer.decode(encoded_input['input_ids'][0][:idx]), \"---\", decoded_token)\n",
    "        print(tuple(zip(decoded_token, probabilities[next_token].cpu().numpy())))"
   ]
  },
  {
   "cell_type": "code",
   "execution_count": null,
   "id": "6bfc1220-5d77-4cad-8d2c-c772e245c8fd",
   "metadata": {},
   "outputs": [],
   "source": []
  }
 ],
 "metadata": {
  "kernelspec": {
   "display_name": "Python 3 (ipykernel)",
   "language": "python",
   "name": "python3"
  },
  "language_info": {
   "codemirror_mode": {
    "name": "ipython",
    "version": 3
   },
   "file_extension": ".py",
   "mimetype": "text/x-python",
   "name": "python",
   "nbconvert_exporter": "python",
   "pygments_lexer": "ipython3",
   "version": "3.10.0"
  }
 },
 "nbformat": 4,
 "nbformat_minor": 5
}
