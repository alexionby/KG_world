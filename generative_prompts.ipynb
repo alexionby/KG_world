{
 "cells": [
  {
   "cell_type": "markdown",
   "id": "bf5924b3-9e30-4ff6-ab83-b9493c09c87c",
   "metadata": {},
   "source": [
    "## Generate `Companies`"
   ]
  },
  {
   "cell_type": "markdown",
   "id": "c01f8927-7cff-4cfa-9670-8d1d5b214156",
   "metadata": {},
   "source": [
    "I want you to create unreal and unique names for imaginary companies. I can give you example from real world: `NVIDIA Corporation, pepsico Inc., exxon mobil corporation, yandex LLC, Toyota Motor Corporation` there are short names with no similarity to real english words. I mean these words doesn't exist in language. That is what i want, unique names of 1 to 3 words plus business descriptor from this list: `[\"Inc.\", \"Corp.\", \"LLC\", \"Ltd.\", \"Co.\", \"PLC\", \"GmbH\", \"AG\", \"S.A.\", \"Pty. Ltd.\", \"L.P.\"]` and also you can add additional word that specify company's direction, with 50% possibility, for example: `\"Systems\", \"Solutions\", \"Technologies\", \"Services\"` and so on. Provide results as list of Python dictionaries, with fields `off` and `alt`, where `off` stands for full name and `alt` for short, like `pepsi`, `nividia`, `toyota` etc. I want at least 30 names."
   ]
  },
  {
   "cell_type": "markdown",
   "id": "e1f3fae0-b1b6-4b22-9597-13a7d123ef44",
   "metadata": {},
   "source": [
    "## Generate `Humans`"
   ]
  },
  {
   "cell_type": "markdown",
   "id": "392cf09c-3173-4b5e-8f4d-d447307c5355",
   "metadata": {},
   "source": [
    "Generate names for humans. Those names should be unreal and looks different from real names that we used to. I need name and surname for each person. Names could be repeating, surnames must stay unique. Provide generations as python list without newlines. Write names in pattern `[name_surname, name_surname, ...]` etc.\n",
    "Now give me first 150 names. "
   ]
  },
  {
   "cell_type": "code",
   "execution_count": 89,
   "id": "89ac0712-7ca9-4606-9068-f9759b27b939",
   "metadata": {},
   "outputs": [],
   "source": [
    "names_1 = [\"Xyloria Aspera\", \"Venostar Quillspire\", \"Auravex Echowarp\", \"Quintillion Starwhisper\", \"Cyphelex Lumencrafter\", \"Zephyrix Moongrove\", \"Glaciovine Frostgrip\", \"Nebulon Dawnweaver\", \"Solarithe Radiantmantle\", \"Argentphex Glimmerspire\", \"Lumenex Frostmark\", \"Aureolion Dusksong\", \"Etherea Shardlight\", \"Stellion Skydrift\", \"Omnisight Gloomwatch\", \"Cyrus Novaflare\", \"Echosphex Starforge\", \"Twilighton Luxaegis\", \"Vespera Thundervault\", \"Solsticea Stellarshroud\", \"Galaxiora Twilightdew\", \"Hydranova Lumenquill\", \"Astrex Driftwarp\", \"Radianteum Novaclasp\", \"Eonprism Skygazer\", \"Cyroflux Solaraegis\", \"Hydrius Frostgleam\", \"Auroranova Starveil\", \"Nimbusorion Moonmold\", \"Lumina Fluxmantle\", \"Galacteon Skyveil\", \"Stellarquill Echocrafter\", \"Novastar Cryoflare\", \"Eterna Lumenshade\", \"Fluxara Sunflare\", \"Cyrus Lumenrift\", \"Etherea Gloomshroud\", \"Fluxion Starwhisper\", \"Hydronova Radiantdew\", \"Quasarion Stormclasp\", \"Lumenorion Shardveil\", \"Aureonova Frostwhisper\", \"Cosmix Skydrift\", \"Solsticea Luxshade\", \"Stella Moonglow\", \"Zephyrix Shardforge\", \"Nimbuslux Frostvault\", \"Astrex Thunderspire\", \"Novaflux Lumenshroud\", \"Cosmion Gloomgleam\", \"Cyrion Twilightgleam\", \"Galaxiora Novaquill\", \"Echoprism Duskshroud\", \"Nimbuslux Echomold\", \"Stellion Starlight\", \"Vespera Novaflame\", \"Solsticea Moonclasp\", \"Twilighton Echoglow\", \"Hydranova Lumencrafter\", \"Radianteum Twilightmold\", \"Cyrion Duskcrafter\", \"Galaxiora Frostgrip\", \"Aureolion Echowarp\", \"Omnisight Thunderspire\", \"Cosmix Lumenflare\", \"Hydranova Duskshroud\", \"Astrex Moonveil\", \"Eonprism Starlight\", \"Quasarion Frostforge\", \"Echosphex Shardveil\", \"Fluxara Gloomgleam\", \"Lumina Duskgleam\", \"Solsticea Radiantcrafter\", \"Quasarion Echowarp\", \"Cyrion Shardshroud\", \"Stella Starwhisper\", \"Galacteon Gloomflare\", \"Radianteum Luxshade\", \"Eterna Twilightgleam\", \"Hydrius Frostwhisper\", \"Novaflux Lumenshade\", \"Fluxion Sunflare\", \"Galaxiora Shardwarp\", \"Quasarion Gloomshade\", \"Radianteum Echoglow\", \"Lumina Skydrift\", \"Nimbuslux Stellarflare\", \"Cosmion Shardlight\", \"Fluxara Gloommold\", \"Stellion Novaforge\", \"Eonprism Lumendew\", \"Twilighton Stellarvault\", \"Cyrion Thundervault\", \"Aureonova Echogrip\", \"Novaflux Frostclasp\", \"Hydranova Starlight\", \"Zephyrix Moonquill\", \"Nimbuslux Echoglow\", \"Solsticea Skywhisper\", \"Etherea Gloomquill\", \"Stellarquill Twilightshade\", \"Galacteon Starlight\", \"Radianteum Gloomvault\", \"Astrex Moonwhisper\"]\n",
    "names_2 = [\"Eterna Fluxforge\", \"Cyrion Stellarflame\", \"Lumina Duskwarp\", \"Nimbusorion Frostgleam\", \"Astrex Twilightflare\", \"Radianteum Echodew\", \"Aureonova Luxspire\", \"Cosmion Twilightcrafter\", \"Stellion Lumenspire\", \"Vespera Skyquill\", \"Zephyrix Starflare\", \"Echosphex Luxmold\", \"Novaflux Gloomforge\", \"Galaxiora Frostshade\", \"Quasarion Moonvault\", \"Solsticea Echoglow\", \"Galacteon Duskmold\", \"Eonprism Sunflare\", \"Hydranova Luxclasp\", \"Cyrus Starlight\", \"Omnisight Moonspire\", \"Twilighton Luxgleam\", \"Fluxara Stellarflame\", \"Stellarquill Echogaze\", \"Aureolion Frostcrafter\", \"Fluxion Radiantmold\", \"Echosphex Gloomwhisper\", \"Cyrion Starveil\", \"Galaxiora Lumenglow\", \"Nimbusorion Stellarveil\", \"Solsticea Echocrafter\", \"Hydrius Frostwhisper\", \"Fluxara Duskwhisper\", \"Eonprism Sunshade\", \"Cyrus Shardforge\", \"Galacteon Gloomgaze\", \"Echosphex Luxdew\", \"Aureonova Skyflame\", \"Omnisight Moonlight\", \"Lumina Frostgleam\", \"Nimbusorion Radiantclasp\", \"Quasarion Starshroud\", \"Fluxion Duskcrafter\", \"Eterna Luxwhisper\", \"Galacteon Echospire\", \"Zephyrix Gloomveil\", \"Twilighton Shardwhisper\", \"Vespera Skygaze\", \"Cyrion Starcrafter\", \"Stella Radiantveil\", \"Hydrius Duskforge\", \"Cosmix Moonwhisper\", \"Novaflux Stellarveil\", \"Radianteum Gloomwarp\", \"Auroranova Sunflame\", \"Hydranova Frostgaze\", \"Stellarquill Echospire\", \"Nimbuslux Starlight\", \"Cyrus Moonmold\", \"Zephyrix Gloomflare\", \"Echosphex Luxgleam\", \"Aureolion Skyforge\", \"Eterna Luxlight\", \"Omnisight Moonshade\", \"Nimbusorion Radiantwhisper\", \"Fluxion Dusklight\", \"Galacteon Echodew\", \"Eonprism Sunveil\", \"Vespera Skyflare\", \"Twilighton Shardgaze\", \"Quasarion Starcrafter\", \"Stellarquill Echodew\", \"Zephyrix Gloomspire\", \"Stellion Radiantmold\", \"Hydrius Duskglow\", \"Cosmix Moonveil\", \"Novaflux Stellarwhisper\", \"Radianteum Gloomforge\", \"Auroranova Sunveil\", \"Hydranova Frostcrafter\", \"Fluxara Starwhisper\", \"Cyrus Moonforge\", \"Aureolion Skyshade\", \"Eterna Luxveil\", \"Nimbusorion Radiantlight\", \"Galacteon Echoglow\", \"Eonprism Sunmold\", \"Vespera Skyshade\", \"Twilighton Shardspire\", \"Quasarion Starlight\", \"Zephyrix Gloomflare\", \"Stellion Radiantdew\", \"Hydrius Duskcrafter\", \"Cosmix Moonlight\", \"Novaflux Stellarveil\", \"Radianteum Gloomflame\", \"Auroranova Sunwhisper\", \"Hydranova Frostlight\", \"Stellarquill Echomold\", \"Nimbuslux Starwhisper\", \"Cyrus Moonflame\", \"Aureolion Skygaze\", \"Eterna Luxdew\", \"Nimbusorion Radiantforge\", \"Galacteon Echogaze\", \"Eonprism Sunspire\", \"Vespera Skyforge\", \"Twilighton Shardveil\", \"Quasarion Starveil\", \"Zephyrix Gloomcrafter\", \"Stellion Radiantflare\", \"Hydrius Duskwhisper\", \"Cosmix Moonforge\", \"Novaflux Stellarlight\", \"Radianteum Gloomflame\", \"Auroranova Sunspire\", \"Hydranova Frostwhisper\", \"Fluxara Starcrafter\", \"Cyrus Moonflame\", \"Aureolion Skygleam\", \"Eterna Luxwhisper\", \"Nimbusorion Radiantveil\", \"Galacteon Echocrafter\", \"Eonprism Sunwhisper\", \"Vespera Skydew\", \"Twilighton Shardgleam\", \"Quasarion Starflame\", \"Zephyrix Gloomforge\", \"Stellion Radiantveil\", \"Hydrius Duskspire\", \"Cosmix Moonwhisper\", \"Novaflux Stellarshade\", \"Radianteum Gloomwarp\", \"Auroranova Sunshade\", \"Hydranova Frostdew\", \"Stellarquill Echogaze\", \"Nimbuslux Starforge\", \"Cyrus Moonshade\", \"Aureolion Skywhisper\", \"Eterna Luxflame\", \"Nimbusorion Radiantlight\", \"Galacteon Echospire\", \"Eonprism Sunshade\", \"Vespera Skywhisper\", \"Twilighton Sharddew\", \"Quasarion Starwhisper\", \"Zephyrix Gloomwarp\", \"Stellion Radiantdew\", \"Hydrius Duskgleam\", \"Cosmix Moonlight\", \"Novaflux Stellarwhisper\", \"Radianteum Gloomclasp\", \"Auroranova Sunwhisper\", \"Hydranova Frostspire\", \"Fluxara Starveil\", \"Cyrus Moonwhisper\", \"Aureolion Skygaze\", \"Eterna Luxspire\"]\n",
    "names_3 = [\"Twilighton Shardwhisper\", \"Quasarion Starlight\", \"Zephyrix Gloomflame\", \"Stellion Radiantshade\", \"Hydrius Duskcrafter\", \"Cosmix Moonforge\", \"Novaflux Stellarclasp\", \"Radianteum Gloomveil\", \"Auroranova Sunwhisper\", \"Hydranova Frostgleam\", \"Stellarquill Echospire\", \"Nimbuslux Starshade\", \"Cyrus Moonwhisper\", \"Aureolion Skyflare\", \"Eterna Luxforge\", \"Nimbusorion Radiantdew\", \"Galacteon Echocrafter\", \"Eonprism Sunlight\", \"Vespera Skyflare\", \"Twilighton Shardflame\", \"Quasarion Starwhisper\", \"Zephyrix Gloomgaze\", \"Stellion Radiantdew\", \"Hydrius Duskgleam\", \"Cosmix Moonflame\", \"Novaflux Stellarveil\", \"Radianteum Gloomwarp\", \"Auroranova Sunforge\", \"Hydranova Frostwhisper\", \"Fluxara Starclasp\", \"Cyrus Moonforge\", \"Aureolion Skyveil\", \"Eterna Luxgleam\", \"Nimbusorion Radiantflame\", \"Galacteon Echoshroud\", \"Eonprism Sunshade\", \"Vespera Skyflame\", \"Twilighton Sharddew\", \"Quasarion Starforge\", \"Zephyrix Gloomwhisper\", \"Stellion Radiantveil\", \"Hydrius Duskwarp\", \"Cosmix Moonveil\", \"Novaflux Stellarshade\", \"Radianteum Gloomflame\", \"Auroranova Sunspire\", \"Hydranova Frostclasp\", \"Stellarquill Echowarp\", \"Nimbuslux Starflame\", \"Cyrus Moonspire\", \"Aureolion Skywhisper\", \"Eterna Luxlight\", \"Nimbusorion Radiantdew\", \"Galacteon Echoglow\", \"Eonprism Sunflame\", \"Vespera Skywhisper\", \"Twilighton Shardspire\", \"Quasarion Starlight\", \"Zephyrix Gloomcrafter\", \"Stellion Radiantflame\", \"Hydrius Dusklight\", \"Cosmix Moonforge\", \"Novaflux Stellarveil\", \"Radianteum Gloomwarp\", \"Auroranova Sunlight\", \"Hydranova Frostveil\", \"Fluxara Starwhisper\", \"Cyrus Moonflare\", \"Aureolion Skygaze\", \"Eterna Luxveil\", \"Nimbusorion Radiantflame\", \"Galacteon Echoshade\", \"Eonprism Sunveil\", \"Vespera Skyshade\", \"Twilighton Shardgaze\", \"Quasarion Starclasp\", \"Zephyrix Gloomflame\", \"Stellion Radiantdew\", \"Hydrius Duskgaze\", \"Cosmix Moonflame\", \"Novaflux Stellarwhisper\", \"Radianteum Gloomcrafter\", \"Auroranova Sunwhisper\", \"Hydranova Frostgaze\", \"Stellarquill Echocrafter\", \"Nimbuslux Starforge\", \"Cyrus Moonflare\", \"Aureolion Skygaze\", \"Eterna Luxmold\", \"Nimbusorion Radiantwhisper\", \"Galacteon Echoglow\", \"Eonprism Sunspire\", \"Vespera Skyflame\", \"Twilighton Shardwhisper\", \"Quasarion Starlight\", \"Zephyrix Gloomshroud\", \"Stellion Radiantcrafter\", \"Hydrius Duskdew\", \"Cosmix Moonlight\", \"Novaflux Stellarclasp\", \"Radianteum Gloomwarp\", \"Auroranova Sunveil\", \"Hydranova Frostflare\", \"Fluxara Starlight\", \"Cyrus Moonwhisper\", \"Aureolion Skyflame\", \"Eterna Luxgleam\", \"Nimbusorion Radiantflame\", \"Galacteon Echoshade\", \"Eonprism Sunwhisper\", \"Vespera Skydew\", \"Twilighton Shardgleam\", \"Quasarion Starclasp\", \"Zephyrix Gloomwarp\", \"Stellion Radiantdew\", \"Hydrius Duskforge\", \"Cosmix Moonshade\", \"Novaflux Stellarwhisper\", \"Radianteum Gloomveil\", \"Auroranova Sunspire\", \"Hydranova Frostclasp\", \"Stellarquill Echoshroud\", \"Nimbuslux Starlight\", \"Cyrus Moondew\", \"Aureolion Skyveil\", \"Eterna Luxforge\", \"Nimbusorion Radiantwhisper\", \"Galacteon Echogaze\", \"Eonprism Sunlight\", \"Vespera Skyflame\", \"Twilighton Sharddew\", \"Quasarion Starcrafter\", \"Zephyrix Gloomflame\", \"Stellion Radiantgleam\", \"Hydrius Duskmold\", \"Cosmix Moonshade\", \"Novaflux Stellarveil\", \"Radianteum Gloomgaze\", \"Auroranova Sunflame\"]\n",
    "names_4 = [\"Hydranova Frostwhisper\", \"Stellarquill Echoshade\", \"Nimbuslux Starwhisper\", \"Cyrus Moonspire\", \"Aureolion Skygleam\", \"Eterna Luxflare\", \"Nimbusorion Radiantforge\", \"Galacteon Echoquill\", \"Eonprism Sunclasp\", \"Vespera Skyveil\", \"Twilighton Shardlight\", \"Quasarion Starflare\", \"Zephyrix Gloombloom\", \"Stellion Radiantdew\", \"Hydrius Duskwind\", \"Cosmix Moonspark\", \"Novaflux Stellarflame\", \"Radianteum Gloomwhirl\", \"Auroranova Sunbloom\", \"Hydranova Frostgleam\", \"Fluxara Starwhirl\", \"Cyrus Moonspire\", \"Aureolion Skybreeze\", \"Eterna Luxwind\", \"Nimbusorion Radiantflame\", \"Galacteon Echospark\", \"Eonprism Sunflare\", \"Vespera Skywhirl\", \"Twilighton Shardbloom\", \"Quasarion Starbreeze\", \"Zephyrix Gloomwind\", \"Stellion Radiantflame\", \"Hydrius Duskveil\", \"Cosmix Moonbloom\", \"Novaflux Stellarspark\", \"Radianteum Gloomwhisper\", \"Auroranova Sunbreeze\", \"Hydranova Frostbloom\", \"Stellarquill Echoflame\", \"Nimbuslux Starwhirl\", \"Cyrus Moonbreeze\", \"Aureolion Skywind\", \"Eterna Luxspark\", \"Nimbusorion Radiantflame\", \"Galacteon Echospire\", \"Eonprism Sunwhisper\", \"Vespera Skyveil\", \"Twilighton Shardgleam\", \"Quasarion Starflame\", \"Zephyrix Gloombloom\", \"Stellion Radiantclasp\", \"Hydrius Duskflare\", \"Cosmix Moonbreeze\", \"Novaflux Stellarwind\", \"Radianteum Gloomveil\", \"Auroranova Sunbloom\", \"Hydranova Frostspark\", \"Fluxara Starwhisper\", \"Cyrus Moonclasp\", \"Aureolion Skygleam\", \"Eterna Luxbloom\", \"Nimbusorion Radiantflare\", \"Galacteon Echoquill\", \"Eonprism Sunbreeze\", \"Vespera Skywhirl\", \"Twilighton Shardbreeze\", \"Quasarion Starwind\", \"Zephyrix Gloomflame\", \"Stellion Radiantbreeze\", \"Hydrius Duskwhisper\", \"Cosmix Moonclasp\", \"Novaflux Stellarflare\", \"Radianteum Gloomwind\", \"Auroranova Sunspark\", \"Hydranova Frostgleam\", \"Stellarquill Echospark\", \"Nimbuslux Starbreeze\", \"Cyrus Moonwhirl\", \"Aureolion Skybloom\", \"Eterna Luxspark\", \"Nimbusorion Radiantwind\", \"Galacteon Echowhirl\", \"Eonprism Sunbloom\", \"Vespera Skywind\", \"Twilighton Shardspark\", \"Quasarion Starbloom\", \"Zephyrix Gloomflame\", \"Stellion Radiantwind\", \"Hydrius Duskclasp\", \"Cosmix Moonspark\", \"Novaflux Stellarwhisper\", \"Radianteum Gloomveil\", \"Auroranova Sunflame\", \"Hydranova Frostwhisper\", \"Fluxara Starveil\", \"Cyrus Moonspark\", \"Aureolion Skyflame\", \"Eterna Luxwhirl\", \"Nimbusorion Radiantbloom\", \"Galacteon Echospark\", \"Eonprism Sunveil\", \"Vespera Skywind\", \"Twilighton Shardclasp\", \"Quasarion Starwhirl\", \"Zephyrix Gloomgleam\", \"Stellion Radiantveil\", \"Hydrius Duskwind\", \"Cosmix Moonbloom\", \"Novaflux Stellarwind\", \"Radianteum Gloomspark\", \"Auroranova Sunflare\", \"Hydranova Frostveil\", \"Stellarquill Echospire\", \"Nimbuslux Starwhirl\", \"Cyrus Moonflare\", \"Aureolion Skybloom\", \"Eterna Luxspark\", \"Nimbusorion Radiantclasp\", \"Galacteon Echowind\", \"Eonprism Sunwhisper\", \"Vespera Skybreeze\", \"Twilighton Shardspark\", \"Quasarion Starwhisper\", \"Zephyrix Gloombloom\", \"Stellion Radiantveil\", \"Hydrius Duskwhirl\", \"Cosmix Moonspark\", \"Novaflux Stellarwind\", \"Radianteum Gloomwhisper\", \"Auroranova Sunbloom\", \"Hydranova Frostveil\", \"Fluxara Starflame\", \"Cyrus Moonspark\", \"Aureolion Skywhirl\", \"Eterna Luxwind\", \"Nimbusorion Radiantbloom\", \"Galacteon Echoflame\", \"Eonprism Sunveil\", \"Vespera Skywind\", \"Twilighton Shardbloom\", \"Quasarion Starflare\"]\n",
    "names_5 = [\"Zephyrix Gloomwhisper\", \"Stellion Radiantwind\", \"Hydrius Duskgleam\", \"Cosmix Moonclasp\", \"Novaflux Stellarwhirl\", \"Radianteum Gloomflare\", \"Auroranova Sunspark\", \"Hydranova Frostveil\", \"Stellarquill Echospire\", \"Nimbuslux Starbloom\", \"Cyrus Moonflame\", \"Aureolion Skywhirl\", \"Eterna Luxveil\", \"Nimbusorion Radiantclasp\", \"Galacteon Echoflame\", \"Eonprism Sunspark\", \"Vespera Skywind\", \"Twilighton Shardwhisper\", \"Quasarion Starbloom\", \"Zephyrix Gloomwind\", \"Stellion Radiantclasp\", \"Hydrius Duskgleam\", \"Cosmix Moonveil\", \"Novaflux Stellarwhirl\", \"Radianteum Gloomspark\", \"Auroranova Sunflame\", \"Hydranova Frostgleam\", \"Fluxara Starclasp\", \"Cyrus Moonbloom\", \"Aureolion Skywind\", \"Eterna Luxflame\", \"Nimbusorion Radiantwhisper\", \"Galacteon Echoquill\", \"Eonprism Sunspark\", \"Vespera Skyflame\", \"Twilighton Shardgleam\", \"Quasarion Starveil\", \"Zephyrix Gloomspark\", \"Stellion Radiantveil\", \"Hydrius Duskwind\", \"Cosmix Moonflame\", \"Novaflux Stellarclasp\", \"Radianteum Gloomwhisper\", \"Auroranova Sunwind\", \"Hydranova Frostflame\", \"Stellarquill Echobloom\", \"Nimbuslux Starwind\", \"Cyrus Moonspark\", \"Aureolion Skywhisper\", \"Eterna Luxwhirl\", \"Nimbusorion Radiantbloom\", \"Galacteon Echowhirl\", \"Eonprism Sunclasp\", \"Vespera Skyflame\", \"Twilighton Shardveil\", \"Quasarion Starwhisper\", \"Zephyrix Gloomclasp\", \"Stellion Radiantgleam\", \"Hydrius Duskwind\", \"Cosmix Moonflame\", \"Novaflux Stellarveil\", \"Radianteum Gloomwind\", \"Auroranova Sunflame\", \"Hydranova Frostgleam\", \"Fluxara Starclasp\", \"Cyrus Moonspark\", \"Aureolion Skyveil\", \"Eterna Luxflare\", \"Nimbusorion Radiantwhisper\", \"Galacteon Echoquill\", \"Eonprism Sunflame\", \"Vespera Skybloom\", \"Twilighton Shardwind\", \"Quasarion Starwhirl\", \"Zephyrix Gloomveil\", \"Stellion Radiantbloom\", \"Hydrius Duskflame\", \"Cosmix Moonwind\", \"Novaflux Stellarflame\", \"Radianteum Gloomspark\", \"Auroranova Sunwhisper\", \"Hydranova Frostwhirl\", \"Stellarquill Echowhirl\", \"Nimbuslux Starbloom\", \"Cyrus Moonveil\", \"Aureolion Skywind\", \"Eterna Luxclasp\", \"Nimbusorion Radiantgleam\", \"Galacteon Echoveil\", \"Eonprism Sunspark\", \"Vespera Skyveil\", \"Twilighton Shardwind\", \"Quasarion Starclasp\", \"Zephyrix Gloomwhisper\", \"Stellion Radiantveil\", \"Hydrius Duskwind\", \"Cosmix Moonflame\", \"Novaflux Stellargleam\", \"Radianteum Gloomclasp\", \"Auroranova Sunwind\", \"Hydranova Frostwhisper\", \"Fluxara Starwind\", \"Cyrus Moonveil\", \"Aureolion Skywhisper\", \"Eterna Luxbloom\", \"Nimbusorion Radiantflame\", \"Galacteon Echoveil\", \"Eonprism Sunwhisper\", \"Vespera Skyflame\", \"Twilighton Shardveil\", \"Quasarion Starwhirl\", \"Zephyrix Gloomveil\", \"Stellion Radiantwind\", \"Hydrius Duskspark\", \"Cosmix Moonflame\", \"Novaflux Stellarbloom\", \"Radianteum Gloomwhisper\", \"Auroranova Sunclasp\", \"Hydranova Frostwhisper\", \"Stellarquill Echoflare\", \"Nimbuslux Starwind\", \"Cyrus Moonflame\", \"Aureolion Skyveil\", \"Eterna Luxclasp\", \"Nimbusorion Radiantbloom\", \"Galacteon Echoflame\", \"Eonprism Sunspark\", \"Vespera Skyveil\", \"Twilighton Shardwind\", \"Quasarion Starwhisper\", \"Zephyrix Gloomclasp\", \"Stellion Radiantwind\", \"Hydrius Duskspark\", \"Cosmix Moonflame\", \"Novaflux Stellarbloom\", \"Radianteum Gloomwind\"]\n",
    "names_6 = [\"Luxorion Thundershade\", \"Astrion Luminshard\", \"Galaxion Crystalbloom\", \"Starion Glitterglow\", \"Nebulion Cometgleam\", \"Solarion Eclipseflare\", \"Celestion Auroradance\", \"Stellarion Moonspiral\", \"Quantion Stellarquill\", \"Lunarian Sunwhisper\", \"Voidion Ethershade\", \"Cosmosion Spectraspark\", \"Skyion Aetherflow\", \"Twilix Novaflame\", \"Aetherion Galaxyspire\", \"Galeion Thunderwhisper\", \"Aurorion Starfrost\", \"Solux Radiantdream\", \"Novalux Skyspire\", \"Lunarion Dawnveil\", \"Stardustion Twilighthaze\", \"Etherion Voidgleam\", \"Galaxion Stormwhisper\", \"Auroraion Nightshimmer\", \"Nebulaion Stellarquill\", \"Celestion Luminaflare\", \"Stellarion Dreamgaze\", \"Quantion Moonfrost\", \"Lunarian Starwhisper\", \"Voidion Twilightflare\", \"Cosmosion Etherdream\", \"Skyion Aetherflow\", \"Twilix Starflame\", \"Aetherion Galaxyspire\", \"Galeion Thunderveil\", \"Aurorion Dawnhaze\", \"Solux Radiantwhisper\", \"Novalux Skygaze\", \"Lunarion Starbloom\", \"Stardustion Twilightwhisper\", \"Etherion Voidgleam\", \"Galaxion Stormspark\", \"Auroraion Nightdream\", \"Nebulaion Stellarquill\", \"Celestion Luminaflare\", \"Stellarion Dreamgaze\", \"Quantion Moonfrost\", \"Lunarian Stardance\", \"Voidion Twilightflare\", \"Cosmosion Etherdream\", \"Skyion Aetherflow\", \"Twilix Starflame\", \"Aetherion Galaxyspire\", \"Galeion Thunderveil\", \"Aurorion Dawnhaze\", \"Solux Radiantdream\", \"Novalux Skygaze\", \"Lunarion Starshimmer\", \"Stardustion Twilightwhisper\", \"Etherion Voidgleam\", \"Galaxion Stormspark\", \"Auroraion Nightgaze\", \"Nebulaion Stellarflame\", \"Celestion Luminawhisper\", \"Stellarion Dreamgaze\", \"Quantion Moonfrost\", \"Lunarian Stardance\", \"Voidion Twilightflare\", \"Cosmosion Etherdream\", \"Skyion Aetherglow\", \"Twilix Starflame\", \"Aetherion Galaxyspire\", \"Galeion Thunderveil\", \"Aurorion Dawnhaze\", \"Solux Radiantwhisper\", \"Novalux Skygaze\", \"Lunarion Starshimmer\", \"Stardustion Twilightwhisper\", \"Etherion Voidgleam\", \"Galaxion Stormdance\", \"Auroraion Nightgaze\", \"Nebulaion Stellarquill\", \"Celestion Luminaflare\", \"Stellarion Dreamveil\", \"Quantion Moonfrost\", \"Lunarian Stardance\", \"Voidion Twilightflare\", \"Cosmosion Etherdream\", \"Skyion Aetherflow\", \"Twilix Starshimmer\", \"Aetherion Galaxyspire\", \"Galeion Thunderveil\", \"Aurorion Dawnhaze\", \"Solux Radiantdream\", \"Novalux Skygaze\", \"Lunarion Starflame\", \"Stardustion Twilightwhisper\", \"Etherion Voidgleam\", \"Galaxion Stormbloom\", \"Auroraion Nightdream\", \"Nebulaion Stellarquill\", \"Celestion Luminaflare\", \"Stellarion Dreamgaze\", \"Quantion Moonfrost\", \"Lunarian Stardance\", \"Voidion Twilightflare\", \"Cosmosion Etherwhisper\", \"Skyion Aetherglow\", \"Twilix Starflame\", \"Aetherion Galaxyspire\", \"Galeion Thunderveil\", \"Aurorion Dawnhaze\", \"Solux Radiantdream\", \"Novalux Skygaze\", \"Lunarion Starflame\", \"Stardustion Twilightwhisper\", \"Etherion Voidgleam\", \"Galaxion Stormspark\", \"Auroraion Nightgaze\", \"Nebulaion Stellarflame\", \"Celestion Luminaflare\", \"Stellarion Dreamgaze\", \"Quantion Moonfrost\", \"Lunarian Stardance\", \"Voidion Twilightflare\", \"Cosmosion Etherdream\", \"Skyion Aetherflow\", \"Twilix Starflame\", \"Aetherion Galaxyspire\", \"Galeion Thunderveil\", \"Aurorion Dawnhaze\", \"Solux Radiantwhisper\", \"Novalux Skygaze\", \"Lunarion Starshimmer\", \"Stardustion Twilightwhisper\", \"Etherion Voidgleam\", \"Galaxion Stormspark\"]\n",
    "names_7 = [\"Cometra Blazevoid\", \"Vortexis Nebulawing\", \"Solarix Fluxweave\", \"Galaxus Luminadrift\", \"Lunarix Quasardust\", \"Stellaris Glimmershadow\", \"Quantumix Starweaver\", \"Aetheris Dreamshadow\", \"Twilixis Voidspark\", \"Eclipsis Nebulablaze\", \"Voidax Luminawing\", \"Skyrix Fluxglow\", \"Solsticeis Stardrift\", \"Nebulix Quasarglimmer\", \"Stardustis Dreamvoid\", \"Quantix Starshadow\", \"Aetherax Blazeclasp\", \"Twilixis Nebulaspiral\", \"Eclipsis Luminaspark\", \"Voidix Fluxshadow\", \"Skyris Stardrift\", \"Solsticex Quasarglow\", \"Nebulixis Dreamglow\", \"Stardustix Starspiral\", \"Quantixis Blazevoid\", \"Aetheris Nebulawing\", \"Twilixis Luminadust\", \"Eclipsis Fluxweave\", \"Voidix Stardrift\", \"Skyris Quasarglow\", \"Solsticex Dreamspark\", \"Nebulixis Starweave\", \"Stardustix Blazeshadow\", \"Quantixis Nebulaspark\", \"Aetherix Luminaglow\", \"Twilixis Fluxshadow\", \"Eclipsis Stardust\", \"Voidix Quasarspark\", \"Skyris Dreamglow\", \"Solsticix Starclasp\", \"Nebulixis Blazedrift\", \"Stardustix Nebulashadow\", \"Quantixis Luminawing\", \"Aetherix Fluxglow\", \"Twilixis Stardrift\", \"Eclipsis Quasarglow\", \"Voidix Dreamweave\", \"Skyris Starshadow\", \"Solsticex Blazewing\", \"Nebulixis Nebulaspiral\", \"Stardustis Luminaspark\", \"Quantixis Fluxshadow\", \"Aetheris Stardrift\", \"Twilixis Quasarglow\", \"Eclipsis Dreamglow\", \"Voidix Starclasp\", \"Skyrix Blazeshadow\", \"Solsticex Nebulaspark\", \"Nebulix Luminaglow\", \"Stardustis Fluxshadow\", \"Quantix Stardrift\", \"Aetherixis Quasarglow\", \"Twilixis Dreamspark\", \"Eclipsis Starweave\", \"Voidixis Blazeshadow\", \"Skyris Nebulaspiral\", \"Solsticex Luminaspark\", \"Nebulix Fluxshadow\", \"Stardustix Stardrift\", \"Quantixis Quasarglow\", \"Aetheris Dreamglow\", \"Twilixis Starclasp\", \"Eclipsis Blazeshadow\", \"Voidix Nebulaspark\", \"Skyrix Luminaglow\", \"Solsticeis Fluxshadow\", \"Nebulix Stardrift\", \"Stardustis Quasarglow\", \"Quantix Dreamweave\", \"Aetherix Starshadow\", \"Twilixis Blazewing\", \"Eclipsis Nebulaspiral\", \"Voidix Luminaspark\", \"Skyris Fluxshadow\", \"Solsticex Stardrift\", \"Nebulixis Quasarglow\", \"Stardustix Dreamglow\", \"Quantix Starclasp\", \"Aetheris Blazeshadow\", \"Twilixis Nebulaspark\", \"Eclipsis Luminaglow\", \"Voidix Fluxshadow\", \"Skyrix Stardrift\", \"Solsticeis Quasarglow\", \"Nebulixis Dreamspark\", \"Stardustix Starweave\", \"Quantixis Blazeshadow\", \"Aetherix Nebulaspiral\", \"Twilixis Luminaspark\", \"Eclipsis Fluxshadow\", \"Voidix Stardrift\", \"Skyris Quasarglow\", \"Solsticex Dreamglow\", \"Nebulix Starclasp\", \"Stardustis Blazeshadow\", \"Quantixis Nebulaspark\", \"Aetheris Luminaglow\", \"Twilixis Fluxshadow\", \"Eclipsis Stardrift\", \"Voidix Quasarglow\", \"Skyrix Dreamweave\", \"Solsticex Starshadow\", \"Nebulix Blazewing\", \"Stardustis Nebulaspiral\", \"Quantixis Luminaspark\", \"Aetherix Fluxshadow\", \"Twilixis Stardrift\", \"Eclipsis Quasarglow\", \"Voidix Dreamglow\", \"Skyris Starclasp\", \"Solsticex Blazeshadow\", \"Nebulixis Nebulaspark\", \"Stardustix Luminaglow\", \"Quantixis Fluxshadow\", \"Aetheris Stardrift\", \"Twilixis Quasarglow\", \"Eclipsis Dreamspark\", \"Voidix Starweave\", \"Skyrix Blazeshadow\", \"Solsticex Nebulaspark\", \"Nebulix Luminaglow\", \"Stardustis Fluxshadow\", \"Quantix Stardrift\", \"Aetherixis Quasarglow\"]\n",
    "names_8 = [\"Quantalith Sunstone\", \"Solarith Mooncrown\", \"Starlit Vortexcrest\", \"Nebulith Blazeveil\", \"Galaxyth Lightmantle\", \"Lunarith Starshroud\", \"Voidalith Nebulabloom\", \"Celestith Quasarcape\", \"Etherith Fluxhalo\", \"Astralith Solarveil\", \"Novaith Lunarmantle\", \"Quantus Starcloak\", \"Sunith Voidheart\", \"Moonlit Nebulacape\", \"Starith Fluxhalo\", \"Nebulus Solarmantle\", \"Galaxith Lunarcape\", \"Lunarix Starhalo\", \"Voidus Solarbloom\", \"Celestus Lunarcloak\", \"Etherix Starheart\", \"Astralus Solarcape\", \"Novix Lunarhalo\", \"Quantix Starbloom\", \"Sunix Voidcloak\", \"Moonus Nebulaheart\", \"Starius Solarcape\", \"Nebulix Lunarhalo\", \"Galaxus Starbloom\", \"Lunarus Voidcloak\", \"Voidix Nebulaheart\", \"Celestix Solarcape\", \"Etherus Lunarhalo\", \"Astralix Starbloom\", \"Novus Voidcloak\", \"Quantus Nebulaheart\", \"Sunit Solarcape\", \"Moonix Lunarhalo\", \"Starus Starbloom\", \"Nebulus Voidcloak\", \"Galaxix Nebulaheart\", \"Lunarus Solarcape\", \"Voidus Lunarhalo\", \"Celestus Starbloom\", \"Etherix Voidcloak\", \"Astralus Nebulaheart\", \"Novix Solarcape\", \"Quantix Lunarhalo\", \"Sunus Starbloom\", \"Moonix Voidcloak\", \"Starius Nebulaheart\", \"Nebulix Solarcape\", \"Galaxus Lunarhalo\", \"Lunarus Starbloom\", \"Voidix Voidcloak\", \"Celestix Nebulaheart\", \"Etherus Solarcape\", \"Astralix Lunarhalo\", \"Novus Starbloom\", \"Quantus Voidcloak\", \"Sunix Nebulaheart\", \"Moonus Solarcape\", \"Starix Lunarhalo\", \"Nebulus Starbloom\", \"Galaxix Voidcloak\", \"Lunarus Nebulaheart\", \"Voidus Solarcape\", \"Celestus Lunarhalo\", \"Etherix Starbloom\", \"Astralus Voidcloak\", \"Novix Nebulaheart\", \"Quantix Solarcape\", \"Sunus Lunarhalo\", \"Moonix Starbloom\", \"Starius Voidcloak\", \"Nebulux Nebulaheart\", \"Galaxus Solarcape\", \"Lunarix Lunarhalo\", \"Voidus Starbloom\", \"Celestix Voidcloak\", \"Etherus Nebulaheart\", \"Astralix Solarcape\", \"Novus Lunarhalo\", \"Quantus Starbloom\", \"Sunit Voidcloak\", \"Moonus Nebulaheart\", \"Starix Solarcape\", \"Nebulus Lunarhalo\", \"Galaxix Starbloom\", \"Lunarus Voidcloak\", \"Voidix Nebulaheart\", \"Celestus Solarcape\", \"Etherix Lunarhalo\", \"Astralus Starbloom\", \"Novix Voidcloak\", \"Quantix Nebulaheart\", \"Sunus Solarcape\", \"Moonix Lunarhalo\", \"Starius Starbloom\", \"Nebulux Voidcloak\", \"Galaxus Nebulaheart\", \"Lunaris Solarcape\", \"Voidus Lunarhalo\", \"Celestus Starbloom\", \"Etherix Voidcloak\", \"Astralus Nebulaheart\", \"Novix Solarcape\", \"Quantix Lunarhalo\", \"Sunus Starbloom\", \"Moonix Voidcloak\", \"Starius Nebulaheart\", \"Nebulus Solarcape\", \"Galaxix Lunarhalo\", \"Lunarus Starbloom\", \"Voidix Voidcloak\", \"Celestix Nebulaheart\", \"Etherus Solarcape\", \"Astralix Lunarhalo\", \"Novus Starbloom\", \"Quantus Voidcloak\", \"Sunix Nebulaheart\", \"Moonus Solarcape\", \"Starix Lunarhalo\", \"Nebulus Starbloom\", \"Galaxix Voidcloak\", \"Lunarus Nebulaheart\", \"Voidus Solarcape\", \"Celestus Lunarhalo\", \"Etherix Starbloom\", \"Astralus Voidcloak\", \"Novix Nebulaheart\", \"Quantix Solarcape\", \"Sunus Lunarhalo\", \"Moonix Starbloom\", \"Starius Voidcloak\", \"Nebulux Nebulaheart\", \"Galaxus Solarcape\", \"Lunarix Lunarhalo\"]\n",
    "names_9 = [\"Aeonis Driftshard\", \"Glowmar Vortexgem\", \"Lightstride Fluxgleam\", \"Twilightrend Nebulahaze\", \"Duskwhisper Starclaw\", \"Orbitveil Sunbeam\", \"Skyweave Moonhaze\", \"Starforge Stellarshine\", \"Sunwhisper Etherwave\", \"Moonlight Novaflame\", \"Twilightrift Quantumfrost\", \"Stardusk Solargleam\", \"Ethershard Lunarshadow\", \"Flareveil Aeonflame\", \"Nebulawind Glowwave\", \"Stellarspark Lightfrost\", \"Quasarwhisper Duskgleam\", \"Sunsweeper Orbitshadow\", \"Moonsprint Skyflame\", \"Quantumrift Starfrost\", \"Solarmeld Aethergleam\", \"Lunarwind Flarewave\", \"Aeonstorm Nebulafrost\", \"Glowstride Stellarwave\", \"Lightwind Quantumflame\", \"Twilightveil Sunfrost\", \"Dusksweep Moonshadow\", \"Orbitflare Skygleam\", \"Skywind Starwave\", \"Forgeflight Aeonfrost\", \"Sunspark Glowgleam\", \"Moonstride Lightshadow\", \"Twilightflame Duskgleam\", \"Stardust Orbitfrost\", \"Etherveil Skywave\", \"Flarestorm Starflame\", \"Nebularift Sunshadow\", \"Stellarsweep Moongleam\", \"Quasarwind Quantumfrost\", \"Sunsprint Stellarshadow\", \"Moonstorm Aeonwave\", \"Quantumveil Glowflame\", \"Solarrift Lightgleam\", \"Lunarsprint Duskshadow\", \"Aeonflare Orbitfrost\", \"Glowveil Skyshadow\", \"Lightstorm Starwave\", \"Twilightwind Aeonflame\", \"Duskflight Glowgleam\", \"Orbitspark Lightshadow\", \"Skystride Duskwave\", \"Forgeveil Orbitflame\", \"Sunwind Skygleam\", \"Moonflare Starshadow\", \"Twilightsweep Aeonfrost\", \"Starstorm Glowwave\", \"Etherflare Lightfrost\", \"Flareveil Duskshadow\", \"Nebulasweep Orbitgleam\", \"Stellarstride Skywave\", \"Quasarflight Starfrost\", \"Sunspark Aeonshadow\", \"Moonwind Glowgleam\", \"Quantumflight Lightfrost\", \"Solarveil Duskwave\", \"Lunarstorm Orbitflame\", \"Aeonwind Skyshadow\", \"Glowflight Starfrost\", \"Lightveil Aeonwave\", \"Twilightstorm Glowgleam\", \"Duskwind Lightshadow\", \"Orbitflight Duskfrost\", \"Skyveil Orbitwave\", \"Forgestorm Skyflame\", \"Sunsweep Starshadow\", \"Moonveil Aeonwave\", \"Twilightwind Glowfrost\", \"Starflight Lightwave\", \"Etherstorm Duskshadow\", \"Flarestride Orbitgleam\", \"Nebulaveil Skywave\", \"Stellarsprint Starfrost\", \"Quasarstorm Aeonshadow\", \"Sunveil Glowgleam\", \"Moonwind Lightfrost\", \"Quantumstride Duskwave\", \"Solarstorm Orbitflame\", \"Lunarflight Skyshadow\", \"Aeonveil Starwave\", \"Glowstorm Aeonfrost\", \"Lightsweep Glowwave\", \"Twilightstride Lightshadow\", \"Duskstorm Duskgleam\", \"Orbitveil Orbitwave\", \"Skyflight Skyflame\", \"Forgestorm Starshadow\", \"Sunsprint Aeonfrost\", \"Moonveil Glowgleam\", \"Twilightwind Lightshadow\", \"Starflight Duskwave\", \"Ethersweep Orbitflame\", \"Flarestride Skyshadow\", \"Nebulaveil Starfrost\", \"Stellarstorm Aeonshadow\", \"Quasarsweep Glowgleam\", \"Sunstride Lightfrost\", \"Moonstorm Duskwave\", \"Quantumveil Orbitflame\", \"Solarflight Skywave\", \"Lunarveil Starfrost\", \"Aeonstorm Aeonshadow\", \"Glowstride Glowfrost\", \"Lightveil Lightwave\", \"Twilightsweep Duskshadow\", \"Duskveil Orbitgleam\", \"Orbitstorm Skywave\", \"Skystride Starshadow\", \"Forgeveil Aeonfrost\", \"Sunwind Glowwave\", \"Moonflare Lightfrost\", \"Twilightsweep Duskgleam\", \"Starveil Orbitwave\", \"Etherstorm Skyflame\", \"Flarestride Starshadow\", \"Nebulasprint Aeonwave\", \"Stellarveil Glowfrost\", \"Quasarstorm Lightwave\", \"Sunsweep Duskshadow\", \"Moonstride Orbitfrost\", \"Quantumflare Skyshadow\"]\n",
    "names_10 = [\"Photonix Radiantgleam\", \"Pulsarith Lumoshadow\", \"Spectralith Zephyrfrost\", \"Iridian Lumiscape\", \"Glowfen Prismgleam\", \"Aetherdust Nebulablaze\", \"Stellarfen Twilightcloak\", \"Nebulapulse Iridiglow\", \"Radiantbeam Spectralshadow\", \"Lumowind Etherflame\", \"Zephyrfire Glowbreeze\", \"Iridiclasp Spectralwind\", \"Prismwave Aetherblaze\", \"Nebulaglow Twilightshard\", \"Twilightfen Iridiblaze\", \"Iridipulse Spectralcloak\", \"Spectralbeam Etherbreeze\", \"Etherfire Glowwind\", \"Glowclasp Spectralblaze\", \"Aetherwave Twilightfrost\", \"Twilightglow Iridishadow\", \"Iridibeam Spectralflame\", \"Spectralfire Ethergleam\", \"Etherclasp Glowfrost\", \"Glowwave Spectralshadow\", \"Aetherglow Twilightwind\", \"Twilightbeam Iridibreeze\", \"Iridifire Spectralgleam\", \"Spectralclasp Etherfrost\", \"Etherwave Glowshadow\", \"Glowglow Spectralwind\", \"Aetherbeam Twilightgleam\", \"Twilightfire Iridifrost\", \"Iridiclasp Spectralshadow\", \"Spectralwave Etherwind\", \"Etherglow Glowgleam\", \"Glowbeam Spectralfrost\", \"Aetherfire Twilightshadow\", \"Twilightclasp Iridiwind\", \"Iridiwave Spectralgleam\", \"Spectralglow Etherfrost\", \"Etherbeam Glowshadow\", \"Glowfire Spectralwind\", \"Aetherclasp Twilightgleam\", \"Twilightwave Iridifrost\", \"Iridiglow Spectralshadow\", \"Spectralbeam Etherwind\", \"Etherglow Glowfrost\", \"Glowwave Spectralshadow\", \"Aetherglow Twilightwind\", \"Twilightbeam Iridigleam\", \"Iridifire Spectralfrost\", \"Spectralclasp Etherwind\", \"Etherwave Glowshadow\", \"Glowglow Spectralgleam\", \"Aetherbeam Twilightfrost\", \"Twilightfire Iridishadow\", \"Iridiclasp Spectralwind\", \"Spectralwave Ethergleam\", \"Etherglow Glowfrost\", \"Glowbeam Spectralshadow\", \"Aetherfire Twilightwind\", \"Twilightclasp Iridigleam\", \"Iridiwave Spectralfrost\", \"Spectralglow Etherwind\", \"Etherbeam Glowshadow\", \"Glowfire Spectralgleam\", \"Aetherclasp Twilightfrost\", \"Twilightwave Iridishadow\", \"Iridiglow Spectralwind\", \"Spectralbeam Ethergleam\", \"Etherglow Glowfrost\", \"Glowwave Spectralshadow\", \"Aetherglow Twilightwind\", \"Twilightbeam Iridigleam\", \"Iridifire Spectralfrost\", \"Spectralclasp Etherwind\", \"Etherwave Glowshadow\", \"Glowglow Spectralgleam\", \"Aetherbeam Twilightfrost\", \"Twilightfire Iridishadow\", \"Iridiclasp Spectralwind\", \"Spectralwave Ethergleam\", \"Etherglow Glowfrost\", \"Glowbeam Spectralshadow\", \"Aetherfire Twilightwind\", \"Twilightclasp Iridigleam\", \"Iridiwave Spectralfrost\", \"Spectralglow Etherwind\", \"Etherbeam Glowshadow\", \"Glowfire Spectralgleam\", \"Aetherclasp Twilightfrost\", \"Twilightwave Iridishadow\", \"Iridiglow Spectralwind\", \"Spectralbeam Ethergleam\", \"Etherglow Glowfrost\", \"Glowwave Spectralshadow\", \"Aetherglow Twilightwind\", \"Twilightbeam Iridigleam\", \"Iridifire Spectralfrost\", \"Spectralclasp Etherwind\", \"Etherwave Glowshadow\", \"Glowglow Spectralgleam\", \"Aetherbeam Twilightfrost\", \"Twilightfire Iridishadow\", \"Iridiclasp Spectralwind\", \"Spectralwave Ethergleam\", \"Etherglow Glowfrost\", \"Glowbeam Spectralshadow\", \"Aetherfire Twilightwind\", \"Twilightclasp Iridigleam\", \"Iridiwave Spectralfrost\", \"Spectralglow Etherwind\", \"Etherbeam Glowshadow\", \"Glowfire Spectralgleam\", \"Aetherclasp Twilightfrost\", \"Twilightwave Iridishadow\", \"Iridiglow Spectralwind\", \"Spectralbeam Ethergleam\", \"Etherglow Glowfrost\", \"Glowwave Spectralshadow\", \"Aetherglow Twilightwind\", \"Twilightbeam Iridigleam\", \"Iridifire Spectralfrost\", \"Spectralclasp Etherwind\", \"Etherwave Glowshadow\", \"Glowglow Spectralgleam\", \"Aetherbeam Twilightfrost\", \"Twilightfire Iridishadow\", \"Iridiclasp Spectralwind\"]\n",
    "names_11 = [\"Lumiquill Aethertide\", \"Nimbusframe Zephyrveil\", \"Chromamist Lumisurge\", \"Spectrashimmer Iridilume\", \"Radiantdrift Glowdawn\", \"Prismasweep Stellarvoid\", \"Etherzephyr Nebulaecho\", \"Glimmergale Twilightshimmer\", \"Iridispire Spectravortex\", \"Stellarshade Etherlume\", \"Nebulaglide Glowveil\", \"Twilightdraft Iridimist\", \"Spectralgale Lumidrift\", \"Ethercascade Radiantvoid\", \"Glowtempest Chromashimmer\", \"Aetherwind Nebulatide\", \"Iridicloudburst Twilightveil\", \"Spectralwave Lumisurge\", \"Etherzephyr Iridivortex\", \"Glowdraft Stellarlume\", \"Aethermist Nebulaecho\", \"Twilighttempest Iridishimmer\", \"Spectralwind Lumidrift\", \"Ethercascade Radiantveil\", \"Glowgale Chromasurge\", \"Aetherdrift Nebulavortex\", \"Iriditempest Twilightlume\", \"Spectralmist Lumiecho\", \"Etherwave Radiantshimmer\", \"Glowzephyr Chromadrift\", \"Aetherdraft Nebulasurge\", \"Twilightgale Iridilume\", \"Spectraldrift Lumivortex\", \"Ethermist Radiantlume\", \"Glowwind Chromaecho\", \"Aethergale Nebulashimmer\", \"Irididraft Twilightdrift\", \"Spectralzephyr Lumisurge\", \"Etherdrift Radiantveil\", \"Glowgale Chromavortex\", \"Aethermist Nebulalume\", \"Twilightwind Iridiecho\", \"Spectralgale Lumishimmer\", \"Etherdraft Radiantdrift\", \"Glowzephyr Chromasurge\", \"Aetherdrift Nebulavortex\", \"Iridigale Twilightlume\", \"Spectralmist Lumiecho\", \"Etherwave Radiantshimmer\", \"Glowzephyr Chromadrift\", \"Aetherdraft Nebulasurge\", \"Twilightgale Iridilume\", \"Spectraldrift Lumivortex\", \"Ethermist Radiantlume\", \"Glowwind Chromaecho\", \"Aethergale Nebulashimmer\", \"Irididraft Twilightdrift\", \"Spectralzephyr Lumisurge\", \"Etherdrift Radiantveil\", \"Glowgale Chromavortex\", \"Aethermist Nebulalume\", \"Twilightwind Iridiecho\", \"Spectralgale Lumishimmer\", \"Etherdraft Radiantdrift\", \"Glowzephyr Chromasurge\", \"Aetherdrift Nebulavortex\", \"Iridigale Twilightlume\", \"Spectralmist Lumiecho\", \"Etherwave Radiantshimmer\", \"Glowzephyr Chromadrift\", \"Aetherdraft Nebulasurge\", \"Twilightgale Iridilume\", \"Spectraldrift Lumivortex\", \"Ethermist Radiantlume\", \"Glowwind Chromaecho\", \"Aethergale Nebulashimmer\", \"Irididraft Twilightdrift\", \"Spectralzephyr Lumisurge\", \"Etherdrift Radiantveil\", \"Glowgale Chromavortex\", \"Aethermist Nebulalume\", \"Twilightwind Iridiecho\", \"Spectralgale Lumishimmer\", \"Etherdraft Radiantdrift\", \"Glowzephyr Chromasurge\", \"Aetherdrift Nebulavortex\", \"Iridigale Twilightlume\", \"Spectralmist Lumiecho\", \"Etherwave Radiantshimmer\", \"Glowzephyr Chromadrift\", \"Aetherdraft Nebulasurge\", \"Twilightgale Iridilume\", \"Spectraldrift Lumivortex\", \"Ethermist Radiantlume\", \"Glowwind Chromaecho\", \"Aethergale Nebulashimmer\", \"Irididraft Twilightdrift\", \"Spectralzephyr Lumisurge\", \"Etherdrift Radiantveil\", \"Glowgale Chromavortex\", \"Aethermist Nebulalume\", \"Twilightwind Iridiecho\", \"Spectralgale Lumishimmer\", \"Etherdraft Radiantdrift\", \"Glowzephyr Chromasurge\", \"Aetherdrift Nebulavortex\", \"Iridigale Twilightlume\", \"Spectralmist Lumiecho\", \"Etherwave Radiantshimmer\", \"Glowzephyr Chromadrift\", \"Aetherdraft Nebulasurge\", \"Twilightgale Iridilume\", \"Spectraldrift Lumivortex\", \"Ethermist Radiantlume\", \"Glowwind Chromaecho\", \"Aethergale Nebulashimmer\", \"Irididraft Twilightdrift\", \"Spectralzephyr Lumisurge\", \"Etherdrift Radiantveil\", \"Glowgale Chromavortex\", \"Aethermist Nebulalume\", \"Twilightwind Iridiecho\", \"Spectralgale Lumishimmer\"]\n",
    "names_12 = [\"Fluxior Starwhisper\", \"Orbix Novaflare\", \"Quasarimn Solarstreak\", \"Astrofex Galaxyrift\", \"Pulsarik Cometgleam\", \"Stellion Nebulawave\", \"Cosmigon Meteorshadow\", \"Galaxar Radiantlume\", \"Neutronil Stellarstorm\", \"Lumirion Astroflicker\", \"Vorteximn Pulsarflash\", \"Quarkix Stargleam\", \"Solarion Fluxisweep\", \"Meteorik Orbitflare\", \"Stargen Cometrift\", \"Radiantion Nebulabeam\", \"Fluxilume Astroshadow\", \"Orbitar Pulsarstreak\", \"Cometigon Stellarflicker\", \"Nebulax Radiantflash\", \"Astrogleam Fluxistorm\", \"Pulsarion Starglow\", \"Stellarix Orbitbeam\", \"Radiantigon Cometflicker\", \"Fluxistreak Astroshadow\", \"Orbitar Pulsarwave\", \"Cometilume Stellarflash\", \"Nebulagon Radiantstorm\", \"Astroflash Fluxiglow\", \"Pulsarix Starbeam\", \"Stellarigon Orbitflicker\", \"Radiantistreak Cometshadow\", \"Fluxiwave Astroflash\", \"Orbitilume Pulsarstorm\", \"Cometagon Starglow\", \"Nebulaflicker Radiantbeam\", \"Astrostorm Fluxishadow\", \"Pulsarik Starwave\", \"Stellarilume Orbitflash\", \"Radiantagon Cometstorm\", \"Fluxistreak Astroglow\", \"Orbitilume Pulsarbeam\", \"Cometagon Stellarflicker\", \"Nebulastreak Radiantshadow\", \"Astrowave Fluxiflash\", \"Pulsarilume Starstorm\", \"Stellaragon Orbitglow\", \"Radiantistreak Cometbeam\", \"Fluxiflicker Astroshadow\"]\n",
    "names_13 = [\"Astralweb Zephyrquill\", \"Lumiflutter Stellarshadow\", \"Iridithread Nebulawhisper\", \"Glowfibre Ethervein\", \"Spectralstrand Twilightweave\", \"Chromawisp Radiantloop\", \"Prismatwist Glowcoil\", \"Etherthread Lumicurl\", \"Nebulayarn Stellarloop\", \"Twilightstring Iridispiral\", \"Spectralfibre Nebulacurl\", \"Radianttwist Glowstrand\", \"Aetherthread Lumiyarn\", \"Stellarstring Iridicoil\", \"Glowfibre Nebulatwist\", \"Lumistrand Radiantloop\", \"Iridiyarn Glowweave\", \"Nebulafibre Lumicoil\", \"Twilightthread Radiantstrand\", \"Spectrastring Glowyarn\", \"Chromafibre Lumiweave\", \"Prismatwist Iridicoil\", \"Etherthread Glowcurl\", \"Stellarstrand Lumiwhisper\", \"Glowfibre Iridiloop\", \"Lumistrand Nebulayarn\", \"Iriditwist Radiantweave\", \"Nebulathread Glowspiral\", \"Twilightfibre Lumicoil\", \"Spectrastring Iridistrand\", \"Chromayarn Glowloop\", \"Prismathread Lumiweave\", \"Etherstrand Iridicurl\", \"Stellarfibre Glowwhisper\", \"Glowthread Lumiweave\", \"Lumistring Iridiloop\", \"Iridiyarn Glowspiral\", \"Nebulafibre Lumicoil\", \"Twilightthread Iridiyarn\", \"Spectrastrand Glowweave\", \"Chromatwist Lumiwhisper\", \"Prismayarn Iridistrand\", \"Etherfibre Glowloop\", \"Stellarthread Lumiweave\", \"Glowstring Iridicoil\", \"Lumiyarn Glowcurl\", \"Iridifibre Lumispiral\", \"Nebulathread Iridiweave\", \"Twilightstrand Glowcoil\", \"Spectratwist Lumiloop\", \"Chromayarn Iridiwhisper\", \"Prismafibre Glowstrand\", \"Etherthread Lumiwhisper\", \"Stellarstring Iridiyarn\", \"Glowfibre Glowweave\", \"Lumistrand Lumisprial\", \"Iriditwist Iridiloop\", \"Nebulathread Glowwhisper\", \"Twilightfibre Lumiyarn\", \"Spectrastring Iridicoil\", \"Chromatwist Glowcurl\", \"Prismayarn Lumisprial\", \"Etherfibre Iridistrand\", \"Stellarthread Glowweave\", \"Glowstring Lumiwhisper\", \"Lumiyarn Iridicoil\", \"Iridifibre Glowcurl\", \"Nebulathread Lumiloop\", \"Twilightstrand Iridiweave\", \"Spectratwist Glowcoil\", \"Chromayarn Lumiwhisper\", \"Prismafibre Iridistrand\", \"Etherthread Glowweave\", \"Stellarstring Lumisprial\", \"Glowfibre Iridiloop\", \"Lumistrand Glowwhisper\", \"Iriditwist Lumiyarn\", \"Nebulathread Iridicoil\", \"Twilightfibre Glowcurl\", \"Spectrastring Lumiloop\", \"Chromatwist Iridiweave\", \"Prismayarn Glowcoil\", \"Etherfibre Lumiwhisper\", \"Stellarthread Iridistrand\", \"Glowstring Glowweave\", \"Lumiyarn Lumisprial\", \"Iridifibre Iridiloop\", \"Nebulathread Glowwhisper\", \"Twilightstrand Lumiyarn\", \"Spectratwist Iridicoil\", \"Chromayarn Glowcurl\", \"Prismafibre Lumiloop\", \"Etherthread Iridiweave\", \"Stellarstring Glowcoil\", \"Glowfibre Lumiwhisper\", \"Lumistrand Iridistrand\", \"Iriditwist Glowweave\", \"Nebulathread Lumisprial\", \"Twilightfibre Iridiloop\", \"Spectrastring Glowwhisper\", \"Chromatwist Lumiyarn\", \"Prismayarn Iridicoil\", \"Etherfibre Glowcurl\", \"Stellarthread Lumiloop\", \"Glowstring Iridiweave\", \"Lumiyarn Glowcoil\", \"Iridifibre Lumiwhisper\", \"Nebulathread Iridistrand\", \"Twilightstrand Glowweave\", \"Spectratwist Lumisprial\", \"Chromayarn Iridiloop\", \"Prismafibre Glowwhisper\", \"Etherthread Lumiyarn\", \"Stellarstring Iridicoil\", \"Glowfibre Glowcurl\", \"Lumistrand Lumiloop\", \"Iriditwist Iridiweave\", \"Nebulathread Glowcoil\", \"Twilightfibre Lumiwhisper\", \"Spectrastring Iridistrand\", \"Chromatwist Glowweave\", \"Prismayarn Lumisprial\", \"Etherfibre Iridiloop\", \"Stellarthread Glowwhisper\"]\n",
    "\n",
    "# names from first attempt\n",
    "# names_0 = ['Vivyx Yoliton', 'Quexi Linatrix', 'Brifon Grefolin', 'Zofin Katriel', 'Xylis Vermulion', 'Ebylon Tefraxis', 'Wriol Bresolix', 'Vivyx Joximent', 'Ifrax Gresolit', 'Plinon Stramulix', 'Zofin Exlorit', 'Brifon Qeylix', 'Quexi Cebrylix', 'Ebylon Verluxon', 'Ifrax Platrix', 'Xylis Linotrix', 'Vivyx Gredolit', 'Wriol Prilion', 'Zofin Joximix', 'Brifon Stralix', 'Plinon Tefrilix', 'Xylis Cebrixon', 'Ebylon Exlomon', 'Ifrax Prilyx', 'Quexi Linixol', 'Wriol Gredomix', 'Vivyx Bresomon', 'Plinon Joximon', 'Zofin Straliton', 'Brifon Tefromix', 'Quexi Cebrixon', 'Ebylon Verlumix', 'Ifrax Qeylomon', 'Xylis Linixol', 'Vivyx Gremolix', 'Wriol Prilixor', 'Zofin Bresomon', 'Brifon Joximix', 'Plinon Stralixor', 'Quexi Tefraxon', 'Elnuxa Drystari', 'Quinxle Borenthez', 'Zylkeen Sontrap', 'Elnuxa Vargenda', 'Snilpo Jadeent', 'Perwax Olroth', 'Fintalon Zystior', 'Quinxle Xephant', 'Zylkeen Yelstri', 'Vroxil Untraz', 'Perwax Blistune', 'Wyzara Nogrin', 'Fintalon Mekflore', 'Zylkeen Whistran', 'Jexrita Borble', 'Vroxil Drefont', 'Elnuxa Xystio', 'Yegnis Qubrant', 'Snilpo Fexlon', 'Jexrita Tarnel', 'Elnuxa Plorbish', 'Snilpo Vintor', 'Zylkeen Grexion', 'Jexrita Krintol', 'Perwax Slinax', 'Vroxil Ulshtire', 'Wyzara Phisnold', 'Quinxle Zonstrill', 'Yegnis Noldrex', 'Snilpo Xantriv', 'Quixard Eleothryn', 'Vorbin Zyllanthus', 'Yylara Selenoth', 'Aelorin Xanadural', 'Ulvana Nyrilora', 'Ezzarik Faelynd', 'Irdrox Qyrinthum', 'Omaeris Vaelora', 'Ceryx Jaelith', 'Theldrin Yllasen', 'Galadra Thelxinoe', 'Xendriel Uxenstar', 'Zexil Zontrix', 'Lynon Atromix', 'Glixan Rustralon', 'Jexon Voldorix', 'Tylox Juplitor', 'Qrilon Froxonix', 'Cexyl Moltaron', 'Prixan Doltrix', 'Hyrin Gostalon', 'Vronix Uplorin', 'Lynon Zexaron', 'Glixan Atronix', 'Jexon Rustranor', 'Tylox Voldixol', 'Qrilon Juplonor', 'Cexyl Froxarix', 'Prixan Moltorin', 'Hyrin Doltranix', 'Vronix Gostaron', 'Zexil Uplonix', 'Lynon Zextralor', 'Glixan Atrolix', 'Jexon Rustoron', 'Tylox Voltrix', 'Qrilon Juplitor', 'Cexyl Froxonar', 'Prixan Moltaron', 'Hyrin Doltrix', 'Vronix Gostaron', 'Zexil Uplonix', 'Lynon Zextralor', 'Glixan Atrolix', 'Jexon Rustoron', 'Tylox Voltrix', 'Qrilon Juplonix', 'Cexyl Froxonar', 'Prixan Moltaron', 'Hyrin Doltrix', 'Vronix Gostaron', 'Zexil Uplonix', 'Lynon Zextralor', 'Glixan Atrolix', 'Jexon Rustoron', 'Tylox Voltrix', 'Qrilon Juplonix', 'Cexyl Froxonar', 'Prixan Moltaron', 'Hyrin Doltrix', 'Vronix Gostaron', 'Zexil Uplonix', 'Elixion Quarz', 'Zylex Thundris', 'Bralex Vertrus', 'Grython Cynix', 'Quinzara Lumin', 'Korthan Zephyrus', 'Vexian Blayze', 'Typhara Solaris', 'Thraxian Pyrolis', 'Jyxara Crystlum', 'Xalthor Terrano', 'Zolanix Glacius', 'Brexol Kryptis', 'Grexian Shador', 'Lyxara Glisto', 'Vranix Quasil', 'Narthon Novar', 'Jyxthor Hypero', 'Pharanix Illuza', 'Uluxor Starlo', 'Ixara Photix', 'Arzolian Primis', 'Yraxon Lumeo', 'Eraxthor Nebulis', 'Zerex Helixus', 'Frathor Aurix', 'Cyxian Radiol', 'Thranix Sonoro', 'Kraxon Lumeris', 'Drexian Voltrix', 'Orixion Glacialis', 'Phranix Photonis', 'Vrixian Nebulos', 'Lixthor Quasix', 'Graxon Starlox', 'Braxian Luminis', 'Fraxion Hyperi', 'Elixion Glistix', 'Xrathor Terrasol', 'Brexian Radialis', 'Zraxion Primix', 'Korthan Luminara', 'Traxian Nebulon', 'Cyxara Sonaris', 'Zraxthor Photixus', 'Graxian Hyperi', 'Lixion Voltran', 'Araxon Glistaris', 'Elixor Starlo', 'Uranix Auris', 'Ixara Radiolix']"
   ]
  },
  {
   "cell_type": "code",
   "execution_count": 90,
   "id": "72d31c0c-56d5-44b5-8802-fa4b426b57fe",
   "metadata": {},
   "outputs": [],
   "source": [
    "names_arrs = [names_1, names_2, names_3, names_4, names_5, names_6, names_7, names_8, names_9, names_10, names_11, names_12, names_13]"
   ]
  },
  {
   "cell_type": "code",
   "execution_count": 91,
   "id": "18441864-7578-42a1-b783-ab406bc4585d",
   "metadata": {},
   "outputs": [
    {
     "name": "stdout",
     "output_type": "stream",
     "text": [
      "104 104 104\n",
      "158 245 141\n",
      "139 295 50\n",
      "141 369 74\n",
      "136 397 28\n",
      "137 449 52\n",
      "134 567 118\n",
      "138 667 100\n",
      "130 797 130\n",
      "130 862 65\n",
      "123 908 46\n",
      "49 957 49\n",
      "124 1075 118\n"
     ]
    }
   ],
   "source": [
    "names = []\n",
    "names_set = set()\n",
    "\n",
    "for names_arr in names_arrs:\n",
    "    names.extend(names_arr)\n",
    "    prev_set_size = len(names_set)\n",
    "    names_set.update(names_arr)\n",
    "    print(len(names_arr), len(names_set), len(names_set) - prev_set_size)"
   ]
  },
  {
   "cell_type": "code",
   "execution_count": 92,
   "id": "368820e8-112e-4128-bb55-61c5577baf73",
   "metadata": {},
   "outputs": [
    {
     "data": {
      "text/plain": [
       "(1643, 1075)"
      ]
     },
     "execution_count": 92,
     "metadata": {},
     "output_type": "execute_result"
    }
   ],
   "source": [
    "len(names), len(set(names))"
   ]
  },
  {
   "cell_type": "code",
   "execution_count": 99,
   "id": "57f6659a-ca48-456a-bf54-e49294ca409f",
   "metadata": {},
   "outputs": [],
   "source": [
    "import random"
   ]
  },
  {
   "cell_type": "code",
   "execution_count": 104,
   "id": "2ccc94de-9d4f-4ad7-8cb9-77882f2f9c9b",
   "metadata": {},
   "outputs": [],
   "source": [
    "random.seed(4070)\n",
    "\n",
    "with open(\"external/persons.json\", \"w\") as f:\n",
    "    lines = []\n",
    "    for name in names_set:\n",
    "        pid = random.randint(0, 99999)\n",
    "        pid = str(pid).zfill(5)\n",
    "        fname, surname = name.upper().split(\" \")\n",
    "        pid = fname[:2] + pid + surname[:3]\n",
    "        assert len(pid) == 10\n",
    "        line = {\"name\": name, \"pid\": pid}\n",
    "        lines.append(line)\n",
    "    json.dump(lines, f)"
   ]
  },
  {
   "cell_type": "markdown",
   "id": "68bf33ca-8a41-4262-be16-b5a6659fcb84",
   "metadata": {},
   "source": [
    "### Generate `Labs`"
   ]
  },
  {
   "cell_type": "markdown",
   "id": "234806ac-6b2b-45d3-8083-0b2769962404",
   "metadata": {},
   "source": [
    "#### There are no universities in the future, because they're a waste of time. Only labs exist that search for solutions to current problems."
   ]
  },
  {
   "cell_type": "markdown",
   "id": "c6915e4b-9c25-4b95-8968-0a920d3aeec4",
   "metadata": {},
   "source": [
    "Generate names for imaginary labs at different imaginary universities. Make the names futuristic so they don't match real lab names. Provide results as a JSON with two fields: `name` and `alt`. `alt` is an acronym or a shortened name of the lab. Acronyms must be unique, as must the names be. Compress the JSON to save space. Give me 10 examples."
   ]
  },
  {
   "cell_type": "code",
   "execution_count": 138,
   "id": "951628e9-537d-420d-aea2-18ac3b546ff5",
   "metadata": {},
   "outputs": [],
   "source": [
    "with open(\"external/labs.json\") as f:\n",
    "    labs = json.load(f)"
   ]
  },
  {
   "cell_type": "code",
   "execution_count": 139,
   "id": "ab19794e-1f18-4818-9aa8-bd96eef16a4c",
   "metadata": {},
   "outputs": [
    {
     "name": "stdout",
     "output_type": "stream",
     "text": [
      "399\n"
     ]
    }
   ],
   "source": [
    "cleared_list = []\n",
    "\n",
    "for lab in labs:\n",
    "    name = lab['name']\n",
    "    if \"Quantum\" in name:\n",
    "        if random.random() > 0.8:\n",
    "            cleared_list.append(lab)\n",
    "    else:\n",
    "        cleared_list.append(lab)\n",
    "\n",
    "print(len(cleared_list))\n",
    "with open(\"external/labs2.json\", \"w\") as f:\n",
    "    json.dump(cleared_list, f)"
   ]
  },
  {
   "cell_type": "code",
   "execution_count": 140,
   "id": "643e5418-66fc-4b09-993f-091c5a5f6edb",
   "metadata": {},
   "outputs": [],
   "source": [
    "with open(\"external/labs2.json\") as f:\n",
    "    labs = json.load(f)"
   ]
  },
  {
   "cell_type": "code",
   "execution_count": 141,
   "id": "b67255bb-5aa0-4ec5-8926-71734a37f782",
   "metadata": {},
   "outputs": [],
   "source": [
    "labs = [lab['name'] for lab in labs]"
   ]
  },
  {
   "cell_type": "code",
   "execution_count": 142,
   "id": "85a12c83-ac63-4d7a-9a32-08348247e2ef",
   "metadata": {},
   "outputs": [
    {
     "data": {
      "text/plain": [
       "(399, 399)"
      ]
     },
     "execution_count": 142,
     "metadata": {},
     "output_type": "execute_result"
    }
   ],
   "source": [
    "len(labs), len(set(labs))"
   ]
  },
  {
   "cell_type": "code",
   "execution_count": 143,
   "id": "85f661c5-96de-4e59-8df8-395e4406f8c6",
   "metadata": {},
   "outputs": [
    {
     "name": "stdout",
     "output_type": "stream",
     "text": [
      "58\n"
     ]
    }
   ],
   "source": [
    "counter = 0\n",
    "for lab in labs:\n",
    "    if \"Quantum\" in lab:\n",
    "        counter += 1\n",
    "print(counter)"
   ]
  }
 ],
 "metadata": {
  "kernelspec": {
   "display_name": "Python 3 (ipykernel)",
   "language": "python",
   "name": "python3"
  },
  "language_info": {
   "codemirror_mode": {
    "name": "ipython",
    "version": 3
   },
   "file_extension": ".py",
   "mimetype": "text/x-python",
   "name": "python",
   "nbconvert_exporter": "python",
   "pygments_lexer": "ipython3",
   "version": "3.10.0"
  }
 },
 "nbformat": 4,
 "nbformat_minor": 5
}
