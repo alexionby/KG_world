{
 "cells": [
  {
   "cell_type": "markdown",
   "id": "bf5924b3-9e30-4ff6-ab83-b9493c09c87c",
   "metadata": {},
   "source": [
    "## Generate `Companies`"
   ]
  },
  {
   "cell_type": "markdown",
   "id": "c01f8927-7cff-4cfa-9670-8d1d5b214156",
   "metadata": {},
   "source": [
    "I want you to create unreal and unique names for imaginary companies. I can give you example from real world: `NVIDIA Corporation, pepsico Inc., exxon mobil corporation, yandex LLC, Toyota Motor Corporation` there are short names with no similarity to real english words. I mean these words doesn't exist in language. That is what i want, unique names of 1 to 3 words plus business descriptor from this list: `[\"Inc.\", \"Corp.\", \"LLC\", \"Ltd.\", \"Co.\", \"PLC\", \"GmbH\", \"AG\", \"S.A.\", \"Pty. Ltd.\", \"L.P.\"]` and also you can add additional word that specify company's direction, with 50% possibility, for example: `\"Systems\", \"Solutions\", \"Technologies\", \"Services\"` and so on. Provide results as list of Python dictionaries, with fields `off` and `alt`, where `off` stands for full name and `alt` for short, like `pepsi`, `nividia`, `toyota` etc. I want at least 30 names."
   ]
  },
  {
   "cell_type": "markdown",
   "id": "e1f3fae0-b1b6-4b22-9597-13a7d123ef44",
   "metadata": {},
   "source": [
    "## Generate `Humans`"
   ]
  },
  {
   "cell_type": "markdown",
   "id": "392cf09c-3173-4b5e-8f4d-d447307c5355",
   "metadata": {},
   "source": [
    "Generate names for humans. Those names should be unreal and looks different from real names that we used to. I need name and surname for each person. Names could be repeating, surnames must stay unique. Also for every name generate unique identifier of 10 symbols. The identifiers are a combination of two letters of name, a 5 random digits and the three letters of surname. Letters from`id` are in upper case. Provide generations as json with fields `name` and`id` for 40 imaginary persons. Dont use newline before and after brackets:`{`, `}`. "
   ]
  },
  {
   "cell_type": "code",
   "execution_count": null,
   "id": "a85dd6f0-bce4-4518-98aa-e49699beef0b",
   "metadata": {},
   "outputs": [],
   "source": []
  }
 ],
 "metadata": {
  "kernelspec": {
   "display_name": "Python 3 (ipykernel)",
   "language": "python",
   "name": "python3"
  },
  "language_info": {
   "codemirror_mode": {
    "name": "ipython",
    "version": 3
   },
   "file_extension": ".py",
   "mimetype": "text/x-python",
   "name": "python",
   "nbconvert_exporter": "python",
   "pygments_lexer": "ipython3",
   "version": "3.10.0"
  }
 },
 "nbformat": 4,
 "nbformat_minor": 5
}
